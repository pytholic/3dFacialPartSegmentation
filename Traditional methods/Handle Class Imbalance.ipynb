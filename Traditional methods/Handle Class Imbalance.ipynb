{
 "cells": [
  {
   "cell_type": "code",
   "execution_count": 2,
   "id": "769bd6e9",
   "metadata": {},
   "outputs": [],
   "source": [
    "import pandas as pd\n",
    "import numpy as np\n",
    "import os\n",
    "import glob\n",
    "from sklearn.utils import resample"
   ]
  },
  {
   "cell_type": "code",
   "execution_count": 3,
   "id": "646f37fe",
   "metadata": {},
   "outputs": [],
   "source": [
    "ROOT = 'E:/skia_projects/3d_facial_landmark/implementation_1/data_new/temp'"
   ]
  },
  {
   "cell_type": "code",
   "execution_count": 4,
   "id": "f5b534e9",
   "metadata": {},
   "outputs": [],
   "source": [
    "df = pd.read_csv(os.path.join(ROOT, 'train.csv'), delimiter=',', index_col=False, names=['X', 'Y', 'Z', 'label'])"
   ]
  },
  {
   "cell_type": "code",
   "execution_count": 5,
   "id": "ca4d6dd0",
   "metadata": {},
   "outputs": [],
   "source": [
    "# Separate majority and minority classes\n",
    "df_majority = df[df.label==0]\n",
    "df_minority = df[df.label==1]"
   ]
  },
  {
   "cell_type": "code",
   "execution_count": 6,
   "id": "ea5f0f73",
   "metadata": {},
   "outputs": [
    {
     "name": "stdout",
     "output_type": "stream",
     "text": [
      "60429\n",
      "6784\n"
     ]
    }
   ],
   "source": [
    "print(len(df_majority))\n",
    "print(len(df_minority))"
   ]
  },
  {
   "cell_type": "code",
   "execution_count": 7,
   "id": "851bf842",
   "metadata": {},
   "outputs": [],
   "source": [
    "# Upsample minority class\n",
    "df_minority_upsampled = resample(df_minority, \n",
    "                                 replace=True,     # sample with replacement\n",
    "                                 n_samples=60429,    # to mach majority class elements\n",
    "                                 random_state=123) # reproducible results"
   ]
  },
  {
   "cell_type": "code",
   "execution_count": 8,
   "id": "01d22d87",
   "metadata": {},
   "outputs": [
    {
     "name": "stdout",
     "output_type": "stream",
     "text": [
      "60429\n"
     ]
    }
   ],
   "source": [
    "print(len(df_minority_upsampled))"
   ]
  },
  {
   "cell_type": "code",
   "execution_count": 10,
   "id": "385a8ace",
   "metadata": {},
   "outputs": [
    {
     "name": "stdout",
     "output_type": "stream",
     "text": [
      "              X         Y         Z  label\n",
      "64011 -0.213124  0.185127  0.087760      1\n",
      "63883 -0.210399  0.162202  0.094162      1\n",
      "61775  0.103098 -0.098548  0.152565      1\n",
      "64489 -0.011116  0.194203  0.086627      1\n",
      "65647 -0.082892  0.088318  0.162291      1\n"
     ]
    }
   ],
   "source": [
    "print((df_minority_upsampled).head(5))"
   ]
  },
  {
   "cell_type": "code",
   "execution_count": 11,
   "id": "bcae84fa",
   "metadata": {},
   "outputs": [],
   "source": [
    "df_upsampled = pd.concat([df_majority, df_minority_upsampled])"
   ]
  },
  {
   "cell_type": "code",
   "execution_count": 12,
   "id": "29de7532",
   "metadata": {},
   "outputs": [
    {
     "data": {
      "text/plain": [
       "0    60429\n",
       "1    60429\n",
       "Name: label, dtype: int64"
      ]
     },
     "execution_count": 12,
     "metadata": {},
     "output_type": "execute_result"
    }
   ],
   "source": [
    "df_upsampled.label.value_counts()"
   ]
  },
  {
   "cell_type": "code",
   "execution_count": 13,
   "id": "6be3ae26",
   "metadata": {},
   "outputs": [
    {
     "name": "stdout",
     "output_type": "stream",
     "text": [
      "              X         Y         Z  label\n",
      "0      0.036309 -0.000011  0.000140      0\n",
      "1      0.051504  0.000000  0.000126      0\n",
      "2      0.067061  0.000000  0.000126      0\n",
      "3      0.091582  0.000000  0.000126      0\n",
      "4      0.108457  0.000000  0.000126      0\n",
      "...         ...       ...       ...    ...\n",
      "61692  0.074577 -0.079726  0.145563      1\n",
      "64876 -0.025355  0.212418  0.072108      1\n",
      "60544  0.159572 -0.067101  0.045794      1\n",
      "66829 -0.187689  0.160424  0.067511      1\n",
      "64548 -0.016911  0.202529  0.087553      1\n",
      "\n",
      "[120858 rows x 4 columns]\n"
     ]
    }
   ],
   "source": [
    "print(df_upsampled)"
   ]
  },
  {
   "cell_type": "code",
   "execution_count": 14,
   "id": "20ab81f5",
   "metadata": {},
   "outputs": [],
   "source": [
    "df_upsampled.to_csv(os.path.join(ROOT, 'train_balanced.csv'), mode='w', index=False, header=None)"
   ]
  },
  {
   "cell_type": "code",
   "execution_count": null,
   "id": "5576cc2a",
   "metadata": {},
   "outputs": [],
   "source": []
  }
 ],
 "metadata": {
  "kernelspec": {
   "display_name": "Python 3 (ipykernel)",
   "language": "python",
   "name": "python3"
  },
  "language_info": {
   "codemirror_mode": {
    "name": "ipython",
    "version": 3
   },
   "file_extension": ".py",
   "mimetype": "text/x-python",
   "name": "python",
   "nbconvert_exporter": "python",
   "pygments_lexer": "ipython3",
   "version": "3.9.6"
  }
 },
 "nbformat": 4,
 "nbformat_minor": 5
}
