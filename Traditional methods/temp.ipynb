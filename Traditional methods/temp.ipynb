{
 "cells": [
  {
   "cell_type": "code",
   "execution_count": 15,
   "id": "769bd6e9",
   "metadata": {},
   "outputs": [],
   "source": [
    "import pandas as pd\n",
    "import numpy as np\n",
    "import os\n",
    "import glob\n",
    "from sklearn.utils import resample"
   ]
  },
  {
   "cell_type": "code",
   "execution_count": 16,
   "id": "646f37fe",
   "metadata": {},
   "outputs": [],
   "source": [
    "ROOT = 'E:/skia_projects/3d_facial_landmark/implementation_1/data_new/temp'"
   ]
  },
  {
   "cell_type": "code",
   "execution_count": 17,
   "id": "f5b534e9",
   "metadata": {},
   "outputs": [],
   "source": [
    "df = pd.read_csv(os.path.join(ROOT, '1.csv'), delimiter=',', index_col=False, names=['X', 'Y', 'Z'])"
   ]
  },
  {
   "cell_type": "code",
   "execution_count": 18,
   "id": "78efc823",
   "metadata": {},
   "outputs": [
    {
     "name": "stdout",
     "output_type": "stream",
     "text": [
      "1598\n"
     ]
    }
   ],
   "source": [
    "print(len(df))"
   ]
  },
  {
   "cell_type": "code",
   "execution_count": 21,
   "id": "851bf842",
   "metadata": {},
   "outputs": [],
   "source": [
    "# Upsample minority class\n",
    "df_upsampled = resample(df, \n",
    "                                 replace=True,     # sample with replacement\n",
    "                                 n_samples=5000,    # to mach majority class elements\n",
    "                                 random_state=123) # reproducible results"
   ]
  },
  {
   "cell_type": "code",
   "execution_count": 22,
   "id": "01d22d87",
   "metadata": {},
   "outputs": [
    {
     "name": "stdout",
     "output_type": "stream",
     "text": [
      "5000\n"
     ]
    }
   ],
   "source": [
    "print(len(df_upsampled))"
   ]
  },
  {
   "cell_type": "code",
   "execution_count": 23,
   "id": "385a8ace",
   "metadata": {},
   "outputs": [
    {
     "name": "stdout",
     "output_type": "stream",
     "text": [
      "             X         Y         Z\n",
      "1534  0.083476 -0.119931  0.155385\n",
      "1389  0.095463 -0.104770  0.162996\n",
      "1406  0.080002 -0.108014  0.162846\n",
      "1346  0.103098 -0.098548  0.152565\n",
      "1122  0.019279 -0.100609  0.043210\n"
     ]
    }
   ],
   "source": [
    "print((df_upsampled).head(5))"
   ]
  },
  {
   "cell_type": "code",
   "execution_count": 25,
   "id": "6be3ae26",
   "metadata": {},
   "outputs": [
    {
     "name": "stdout",
     "output_type": "stream",
     "text": [
      "             X         Y         Z\n",
      "1534  0.083476 -0.119931  0.155385\n",
      "1389  0.095463 -0.104770  0.162996\n",
      "1406  0.080002 -0.108014  0.162846\n",
      "1346  0.103098 -0.098548  0.152565\n",
      "1122  0.019279 -0.100609  0.043210\n",
      "...        ...       ...       ...\n",
      "267   0.176456 -0.075437  0.039371\n",
      "1081  0.005861 -0.095399  0.047966\n",
      "94    0.168253 -0.066233  0.056341\n",
      "1375  0.090552 -0.103398  0.166303\n",
      "125   0.159679 -0.066804  0.056926\n",
      "\n",
      "[5000 rows x 3 columns]\n"
     ]
    }
   ],
   "source": [
    "print(df_upsampled)"
   ]
  },
  {
   "cell_type": "code",
   "execution_count": 26,
   "id": "20ab81f5",
   "metadata": {},
   "outputs": [],
   "source": [
    "df_upsampled.to_csv(os.path.join(ROOT, '1_upsampled.csv'), mode='w', index=False, header=None)"
   ]
  },
  {
   "cell_type": "code",
   "execution_count": null,
   "id": "5576cc2a",
   "metadata": {},
   "outputs": [],
   "source": []
  }
 ],
 "metadata": {
  "kernelspec": {
   "display_name": "Python 3 (ipykernel)",
   "language": "python",
   "name": "python3"
  },
  "language_info": {
   "codemirror_mode": {
    "name": "ipython",
    "version": 3
   },
   "file_extension": ".py",
   "mimetype": "text/x-python",
   "name": "python",
   "nbconvert_exporter": "python",
   "pygments_lexer": "ipython3",
   "version": "3.9.6"
  }
 },
 "nbformat": 4,
 "nbformat_minor": 5
}
