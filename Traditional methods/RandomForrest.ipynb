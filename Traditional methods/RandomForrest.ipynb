{
 "cells": [
  {
   "cell_type": "code",
   "execution_count": 1,
   "id": "385e6fb8",
   "metadata": {},
   "outputs": [],
   "source": [
    "import pandas as pd\n",
    "import numpy as np\n",
    "import os\n",
    "import glob\n",
    "from sklearn.ensemble import RandomForestClassifier\n",
    "from sklearn.metrics import accuracy_score\n",
    "from sklearn.metrics import roc_auc_score"
   ]
  },
  {
   "cell_type": "code",
   "execution_count": 2,
   "id": "5b3bf63e",
   "metadata": {},
   "outputs": [],
   "source": [
    "ROOT = 'E:/skia_projects/3d_facial_landmark/implementation_1/data_new/temp'"
   ]
  },
  {
   "cell_type": "code",
   "execution_count": 3,
   "id": "0790497d",
   "metadata": {},
   "outputs": [],
   "source": [
    "train_data = pd.read_csv(os.path.join(ROOT, 'train_balanced.csv'), delimiter=',', \n",
    "                         index_col=False, names=['X', 'Y', 'Z', 'label'])"
   ]
  },
  {
   "cell_type": "code",
   "execution_count": 4,
   "id": "476190f7",
   "metadata": {},
   "outputs": [],
   "source": [
    "# Separate input features (X) and target variable (y)\n",
    "y = train_data.pop('label').values\n",
    "X = train_data.values"
   ]
  },
  {
   "cell_type": "code",
   "execution_count": 5,
   "id": "92a23b37",
   "metadata": {},
   "outputs": [
    {
     "data": {
      "text/plain": [
       "RandomForestClassifier(n_estimators=200)"
      ]
     },
     "execution_count": 5,
     "metadata": {},
     "output_type": "execute_result"
    }
   ],
   "source": [
    "# Train model\n",
    "clf = RandomForestClassifier()\n",
    "clf.fit(X, y)"
   ]
  },
  {
   "cell_type": "code",
   "execution_count": 6,
   "id": "446def02",
   "metadata": {},
   "outputs": [],
   "source": [
    "# Predict on training set\n",
    "pred_y = clf.predict(X)"
   ]
  },
  {
   "cell_type": "code",
   "execution_count": 7,
   "id": "b042b80a",
   "metadata": {},
   "outputs": [
    {
     "name": "stdout",
     "output_type": "stream",
     "text": [
      "[0 1]\n"
     ]
    }
   ],
   "source": [
    "# Is our model still predicting just one class?\n",
    "print(np.unique(pred_y) )"
   ]
  },
  {
   "cell_type": "code",
   "execution_count": 8,
   "id": "34075653",
   "metadata": {},
   "outputs": [
    {
     "name": "stdout",
     "output_type": "stream",
     "text": [
      "1.0\n"
     ]
    }
   ],
   "source": [
    "# How's our accuracy?\n",
    "print(accuracy_score(y, pred_y))"
   ]
  },
  {
   "cell_type": "code",
   "execution_count": 9,
   "id": "f13455bd",
   "metadata": {},
   "outputs": [
    {
     "name": "stdout",
     "output_type": "stream",
     "text": [
      "1.0\n"
     ]
    }
   ],
   "source": [
    "# What about AUROC?\n",
    "prob_y = clf.predict_proba(X)\n",
    "prob_y = [p[1] for p in prob_y]\n",
    "print( roc_auc_score(y, prob_y) )"
   ]
  },
  {
   "cell_type": "code",
   "execution_count": 11,
   "id": "b79e7dc7",
   "metadata": {},
   "outputs": [],
   "source": [
    "# Predict on test data\n",
    "test_data = pd.read_csv(os.path.join(ROOT, 'test.csv'), delimiter=',', index_col=False, usecols=[0,1,2])"
   ]
  },
  {
   "cell_type": "code",
   "execution_count": 12,
   "id": "82eb1608",
   "metadata": {},
   "outputs": [
    {
     "name": "stdout",
     "output_type": "stream",
     "text": [
      "      -0.14728101  0.00526800  0.01012900\n",
      "0       -0.079014    0.005291    0.000879\n",
      "1       -0.095757    0.005285    0.000967\n",
      "2       -0.115664    0.005279    0.001055\n",
      "3       -0.055800    0.005268    0.001758\n",
      "4       -0.148287    0.005269    0.019786\n",
      "...           ...         ...         ...\n",
      "9594    -0.034393    0.182729    0.123804\n",
      "9595    -0.062175    0.182714    0.144613\n",
      "9596    -0.048653    0.182730    0.137966\n",
      "9597    -0.056554    0.182730    0.142383\n",
      "9598    -0.075801    0.182728    0.146889\n",
      "\n",
      "[9599 rows x 3 columns]\n"
     ]
    }
   ],
   "source": [
    "print(test_data)"
   ]
  },
  {
   "cell_type": "code",
   "execution_count": 13,
   "id": "0266e41d",
   "metadata": {},
   "outputs": [],
   "source": [
    "pred = clf.predict(test_data)"
   ]
  },
  {
   "cell_type": "code",
   "execution_count": 14,
   "id": "d8845d4f",
   "metadata": {},
   "outputs": [
    {
     "name": "stdout",
     "output_type": "stream",
     "text": [
      "[0 0 0 ... 0 0 0]\n"
     ]
    }
   ],
   "source": [
    "print(pred)"
   ]
  },
  {
   "cell_type": "code",
   "execution_count": 15,
   "id": "9537df94",
   "metadata": {},
   "outputs": [],
   "source": [
    "class_names = ['background', 'landmark']"
   ]
  },
  {
   "cell_type": "code",
   "execution_count": 16,
   "id": "9209ae03",
   "metadata": {},
   "outputs": [],
   "source": [
    "f = lambda x: class_names[int(x)]\n",
    "vf = np.vectorize(f)"
   ]
  },
  {
   "cell_type": "code",
   "execution_count": 17,
   "id": "5dd6b4de",
   "metadata": {},
   "outputs": [],
   "source": [
    "predicted_class = vf(pred)"
   ]
  },
  {
   "cell_type": "code",
   "execution_count": 18,
   "id": "59719f96",
   "metadata": {},
   "outputs": [
    {
     "name": "stdout",
     "output_type": "stream",
     "text": [
      "['background' 'background' 'background' ... 'background' 'background'\n",
      " 'background']\n"
     ]
    }
   ],
   "source": [
    "print(predicted_class)"
   ]
  },
  {
   "cell_type": "code",
   "execution_count": 19,
   "id": "c8e95e8f",
   "metadata": {},
   "outputs": [
    {
     "name": "stdout",
     "output_type": "stream",
     "text": [
      "(9599, 4)\n"
     ]
    }
   ],
   "source": [
    "# Saving predictions\n",
    "data = np.column_stack((test_data, predicted_class))\n",
    "print(data.shape)"
   ]
  },
  {
   "cell_type": "code",
   "execution_count": 20,
   "id": "2d274784",
   "metadata": {},
   "outputs": [],
   "source": [
    "df = pd.DataFrame({'X': data[:,0], 'Y': data[:,1], 'Z':data[:,2], 'Predictions':data[:,3]})\n",
    "results = df.to_csv(os.path.join(ROOT, 'results.csv'), index=False)"
   ]
  },
  {
   "cell_type": "code",
   "execution_count": 21,
   "id": "14205f33",
   "metadata": {},
   "outputs": [],
   "source": [
    "df = pd.DataFrame({'X': data[:,0], 'Y': data[:,1], 'Z':data[:,2], 'Predictions':data[:,3]})\n",
    "results = df[df.Predictions != 'background']\n",
    "results = results.to_csv(os.path.join(ROOT, 'results_landmarks.csv'), index=False)"
   ]
  },
  {
   "cell_type": "code",
   "execution_count": 22,
   "id": "98170041",
   "metadata": {},
   "outputs": [],
   "source": [
    "# Write only points\n",
    "df = pd.DataFrame({'X': data[:,0], 'Y': data[:,1], 'Z':data[:,2], 'Predictions':data[:,3]})\n",
    "results = df[df.Predictions != 'background']\n",
    "results = results.to_csv(os.path.join(ROOT, 'results_landmarks_points.csv'), index=False, \n",
    "                         columns =('X', 'Y', 'Z'), header=False)"
   ]
  },
  {
   "cell_type": "code",
   "execution_count": null,
   "id": "5b186bfd",
   "metadata": {},
   "outputs": [],
   "source": []
  }
 ],
 "metadata": {
  "kernelspec": {
   "display_name": "Python 3 (ipykernel)",
   "language": "python",
   "name": "python3"
  },
  "language_info": {
   "codemirror_mode": {
    "name": "ipython",
    "version": 3
   },
   "file_extension": ".py",
   "mimetype": "text/x-python",
   "name": "python",
   "nbconvert_exporter": "python",
   "pygments_lexer": "ipython3",
   "version": "3.9.6"
  }
 },
 "nbformat": 4,
 "nbformat_minor": 5
}
