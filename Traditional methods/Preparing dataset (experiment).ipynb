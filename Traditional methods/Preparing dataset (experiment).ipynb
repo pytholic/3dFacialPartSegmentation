{
 "cells": [
  {
   "cell_type": "code",
   "execution_count": 94,
   "id": "f3d03e13",
   "metadata": {},
   "outputs": [],
   "source": [
    "import pandas\n",
    "import numpy as np"
   ]
  },
  {
   "cell_type": "code",
   "execution_count": 97,
   "id": "3f388f67",
   "metadata": {},
   "outputs": [
    {
     "ename": "SyntaxError",
     "evalue": "unexpected EOF while parsing (Temp/ipykernel_15380/451372333.py, line 1)",
     "output_type": "error",
     "traceback": [
      "\u001b[1;36m  File \u001b[1;32m\"C:\\Users\\rajah\\AppData\\Local\\Temp/ipykernel_15380/451372333.py\"\u001b[1;36m, line \u001b[1;32m1\u001b[0m\n\u001b[1;33m    df = pandas.read_csv(os.path.join(ROOT, 'train.csv', delimiter=',', index_col=False, names=['X', 'Y', 'Z'])\u001b[0m\n\u001b[1;37m                                                                                                               ^\u001b[0m\n\u001b[1;31mSyntaxError\u001b[0m\u001b[1;31m:\u001b[0m unexpected EOF while parsing\n"
     ]
    }
   ],
   "source": [
    "df = pandas.read_csv('./temp/data/1.csv', delimiter=',', index_col=False, names=['X', 'Y', 'Z'])"
   ]
  },
  {
   "cell_type": "code",
   "execution_count": 85,
   "id": "071de67f",
   "metadata": {
    "scrolled": false
   },
   "outputs": [
    {
     "name": "stdout",
     "output_type": "stream",
     "text": [
      "             X         Y         Z\n",
      "0    -0.001508  0.000140  0.000111\n",
      "1    -0.029829  0.000000  0.000144\n",
      "2    -0.058657  0.000000  0.000144\n",
      "3    -0.097095  0.000000  0.000144\n",
      "4    -0.135532  0.000000  0.000144\n",
      "...        ...       ...       ...\n",
      "9601 -0.124639 -0.000770  0.127930\n",
      "9602 -0.140939 -0.000710  0.134520\n",
      "9603 -0.038416 -0.000016  0.135459\n",
      "9604 -0.135551 -0.000614  0.132102\n",
      "9605 -0.051082 -0.000014  0.132071\n",
      "\n",
      "[9606 rows x 3 columns]\n"
     ]
    }
   ],
   "source": [
    "print(df)"
   ]
  },
  {
   "cell_type": "code",
   "execution_count": 86,
   "id": "f0cfa2a4",
   "metadata": {
    "scrolled": true
   },
   "outputs": [
    {
     "data": {
      "text/plain": [
       "(9606, 3)"
      ]
     },
     "execution_count": 86,
     "metadata": {},
     "output_type": "execute_result"
    }
   ],
   "source": [
    "df.shape"
   ]
  },
  {
   "cell_type": "code",
   "execution_count": 87,
   "id": "b1c1d699",
   "metadata": {},
   "outputs": [],
   "source": [
    "df.insert(3,column='label',value=0)"
   ]
  },
  {
   "cell_type": "code",
   "execution_count": 88,
   "id": "9f2a783d",
   "metadata": {
    "scrolled": true
   },
   "outputs": [
    {
     "name": "stdout",
     "output_type": "stream",
     "text": [
      "             X         Y         Z  label\n",
      "0    -0.001508  0.000140  0.000111      0\n",
      "1    -0.029829  0.000000  0.000144      0\n",
      "2    -0.058657  0.000000  0.000144      0\n",
      "3    -0.097095  0.000000  0.000144      0\n",
      "4    -0.135532  0.000000  0.000144      0\n",
      "...        ...       ...       ...    ...\n",
      "9601 -0.124639 -0.000770  0.127930      0\n",
      "9602 -0.140939 -0.000710  0.134520      0\n",
      "9603 -0.038416 -0.000016  0.135459      0\n",
      "9604 -0.135551 -0.000614  0.132102      0\n",
      "9605 -0.051082 -0.000014  0.132071      0\n",
      "\n",
      "[9606 rows x 4 columns]\n"
     ]
    }
   ],
   "source": [
    "print(df)"
   ]
  },
  {
   "cell_type": "code",
   "execution_count": 89,
   "id": "54f24bd0",
   "metadata": {},
   "outputs": [],
   "source": [
    "df.to_csv('./temp/train.csv', mode='a', index=False, header=None)"
   ]
  },
  {
   "cell_type": "code",
   "execution_count": 90,
   "id": "11651039",
   "metadata": {},
   "outputs": [],
   "source": [
    "df = pandas.read_csv('./temp/landmarks/1.csv', delimiter=',', index_col=False, names=['X', 'Y', 'Z'])"
   ]
  },
  {
   "cell_type": "code",
   "execution_count": 91,
   "id": "268c641a",
   "metadata": {},
   "outputs": [],
   "source": [
    "df.insert(3,column='label',value=1)"
   ]
  },
  {
   "cell_type": "code",
   "execution_count": 93,
   "id": "9623b989",
   "metadata": {},
   "outputs": [],
   "source": [
    "df.to_csv('./temp/train.csv', mode='a', index=False, header=None)"
   ]
  },
  {
   "cell_type": "code",
   "execution_count": null,
   "id": "93d9a9f9",
   "metadata": {},
   "outputs": [],
   "source": []
  },
  {
   "cell_type": "code",
   "execution_count": null,
   "id": "8ef76c8a",
   "metadata": {},
   "outputs": [],
   "source": []
  }
 ],
 "metadata": {
  "kernelspec": {
   "display_name": "Python 3 (ipykernel)",
   "language": "python",
   "name": "python3"
  },
  "language_info": {
   "codemirror_mode": {
    "name": "ipython",
    "version": 3
   },
   "file_extension": ".py",
   "mimetype": "text/x-python",
   "name": "python",
   "nbconvert_exporter": "python",
   "pygments_lexer": "ipython3",
   "version": "3.9.6"
  }
 },
 "nbformat": 4,
 "nbformat_minor": 5
}
