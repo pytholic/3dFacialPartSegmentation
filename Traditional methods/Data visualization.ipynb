{
 "cells": [
  {
   "cell_type": "code",
   "execution_count": 123,
   "id": "9b73acaf",
   "metadata": {},
   "outputs": [],
   "source": [
    "from mpl_toolkits.mplot3d import Axes3D\n",
    "import matplotlib.pyplot as plt\n",
    "import pandas\n",
    "import csv\n",
    "import numpy as np\n",
    "import tensorflow as tf\n",
    "\n",
    "%matplotlib qt\n",
    "#%matplotlib widget"
   ]
  },
  {
   "cell_type": "code",
   "execution_count": 124,
   "id": "f39b5529",
   "metadata": {},
   "outputs": [],
   "source": [
    "x = []\n",
    "y = []\n",
    "z = []\n",
    "\n",
    "with open('./temp/sample.csv') as csvfile:\n",
    "    csvReader = csv.reader(csvfile, delimiter=',')\n",
    "    for row in csvReader:\n",
    "        x.append(float(row[0]))\n",
    "        y.append(float(row[1]))\n",
    "        z.append(float(row[2]))"
   ]
  },
  {
   "cell_type": "code",
   "execution_count": 126,
   "id": "da2eda09",
   "metadata": {},
   "outputs": [],
   "source": [
    "x_lmark = []\n",
    "y_lmark = []\n",
    "z_lmark = []\n",
    "\n",
    "with open('./temp/landmarks.csv') as csvfile:\n",
    "    csvReader = csv.reader(csvfile, delimiter=',')\n",
    "    for row in csvReader:\n",
    "        x_lmark.append(float(row[0]))\n",
    "        y_lmark.append(float(row[1]))\n",
    "        z_lmark.append(float(row[2]))"
   ]
  },
  {
   "cell_type": "code",
   "execution_count": null,
   "id": "7f8aae4a",
   "metadata": {},
   "outputs": [],
   "source": [
    "print(len(x))\n",
    "print(len(x_lmark))"
   ]
  },
  {
   "cell_type": "code",
   "execution_count": 122,
   "id": "e18981eb",
   "metadata": {},
   "outputs": [],
   "source": [
    "fig = plt.figure(figsize=(10,10))\n",
    "ax = fig.add_subplot(211, projection='3d')\n",
    "ax.scatter(x, y, z, c='r', marker='o')\n",
    "\n",
    "ax = fig.add_subplot(212, projection='3d')\n",
    "ax.scatter(x_lmark, y_lmark, z_lmark, c='r', marker='o')\n",
    "# ax = fig.add_subplot(121, projection='3d')\n",
    "# ax.scatter(x_lmark, y_lmark, z_lmark, c='r', marker='o')\n",
    "plt.show()"
   ]
  }
 ],
 "metadata": {
  "kernelspec": {
   "display_name": "Python 3 (ipykernel)",
   "language": "python",
   "name": "python3"
  },
  "language_info": {
   "codemirror_mode": {
    "name": "ipython",
    "version": 3
   },
   "file_extension": ".py",
   "mimetype": "text/x-python",
   "name": "python",
   "nbconvert_exporter": "python",
   "pygments_lexer": "ipython3",
   "version": "3.9.6"
  }
 },
 "nbformat": 4,
 "nbformat_minor": 5
}
