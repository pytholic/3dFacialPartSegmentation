{
 "cells": [
  {
   "cell_type": "code",
   "execution_count": 56,
   "id": "ea41aa8c",
   "metadata": {},
   "outputs": [],
   "source": [
    "import pandas as pd\n",
    "import csv\n",
    "import numpy as np\n",
    "import glob\n",
    "import os"
   ]
  },
  {
   "cell_type": "code",
   "execution_count": 57,
   "id": "72b9f213",
   "metadata": {},
   "outputs": [],
   "source": [
    "sampleDir = 'E:/skia_projects/3d_facial_landmark/implementation_1/data_new/temp/samples'\n",
    "lmarkDir = 'E:/skia_projects/3d_facial_landmark/implementation_1/data_new/temp/landmarks'\n",
    "outDir = 'E:/skia_projects/3d_facial_landmark/implementation_1/data_new/temp/samples_updated'"
   ]
  },
  {
   "cell_type": "code",
   "execution_count": 53,
   "id": "79d3d4a2",
   "metadata": {},
   "outputs": [],
   "source": [
    "lmarks = []\n",
    "for lmark in (glob.glob(lmarkDir + '/*.csv')):\n",
    "    lmarks.append(lmark)"
   ]
  },
  {
   "cell_type": "code",
   "execution_count": 54,
   "id": "d1d44d49",
   "metadata": {},
   "outputs": [
    {
     "name": "stdout",
     "output_type": "stream",
     "text": [
      "['E:/skia_projects/3d_facial_landmark/implementation_1/data_new/temp/landmarks\\\\1.csv', 'E:/skia_projects/3d_facial_landmark/implementation_1/data_new/temp/landmarks\\\\2.csv', 'E:/skia_projects/3d_facial_landmark/implementation_1/data_new/temp/landmarks\\\\3.csv', 'E:/skia_projects/3d_facial_landmark/implementation_1/data_new/temp/landmarks\\\\4.csv', 'E:/skia_projects/3d_facial_landmark/implementation_1/data_new/temp/landmarks\\\\5.csv', 'E:/skia_projects/3d_facial_landmark/implementation_1/data_new/temp/landmarks\\\\6.csv', 'E:/skia_projects/3d_facial_landmark/implementation_1/data_new/temp/landmarks\\\\7.CSV']\n"
     ]
    }
   ],
   "source": [
    "print(lmarks)"
   ]
  },
  {
   "cell_type": "code",
   "execution_count": 55,
   "id": "8a77849b",
   "metadata": {},
   "outputs": [
    {
     "name": "stdout",
     "output_type": "stream",
     "text": [
      "8000\n",
      "8851\n",
      "8788\n",
      "8570\n",
      "8743\n",
      "8742\n",
      "8735\n"
     ]
    }
   ],
   "source": [
    "for idx, sample in enumerate(glob.glob(sampleDir + '/*.csv')):\n",
    "    df1 = pd.read_csv(sample, delimiter=',', index_col=False, names=['X', 'Y', 'Z'])\n",
    "    df2 = pd.read_csv(lmarks[idx], delimiter=',', index_col=False, names=['X', 'Y', 'Z'])\n",
    "    df = pd.concat([df1, df2]).drop_duplicates(keep=False)\n",
    "    print(len(df))\n",
    "    df.to_csv(os.path.join(outDir, f'{idx+1}.csv'), mode='w', index=False, header=None)"
   ]
  },
  {
   "cell_type": "code",
   "execution_count": null,
   "id": "288f3746",
   "metadata": {},
   "outputs": [],
   "source": []
  }
 ],
 "metadata": {
  "kernelspec": {
   "display_name": "Python 3 (ipykernel)",
   "language": "python",
   "name": "python3"
  },
  "language_info": {
   "codemirror_mode": {
    "name": "ipython",
    "version": 3
   },
   "file_extension": ".py",
   "mimetype": "text/x-python",
   "name": "python",
   "nbconvert_exporter": "python",
   "pygments_lexer": "ipython3",
   "version": "3.9.6"
  }
 },
 "nbformat": 4,
 "nbformat_minor": 5
}
