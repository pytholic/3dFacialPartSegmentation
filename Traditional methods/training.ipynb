{
 "cells": [
  {
   "cell_type": "code",
   "execution_count": 1,
   "id": "63df5023",
   "metadata": {},
   "outputs": [],
   "source": [
    "import tensorflow as tf\n",
    "import pandas as pd\n",
    "import numpy as np\n",
    "import os\n",
    "from tensorflow.keras import layers\n",
    "from tensorflow import keras"
   ]
  },
  {
   "cell_type": "code",
   "execution_count": 2,
   "id": "5f187b54",
   "metadata": {},
   "outputs": [],
   "source": [
    "ROOT = 'E:/skia_projects/3d_facial_landmark/implementation_1/data_new/temp'"
   ]
  },
  {
   "cell_type": "code",
   "execution_count": 3,
   "id": "57b05a95",
   "metadata": {},
   "outputs": [],
   "source": [
    "train_data = pd.read_csv(os.path.join(ROOT, 'train_balanced.csv'), delimiter=',', \n",
    "                         index_col=False, names=['X', 'Y', 'Z', 'label'])"
   ]
  },
  {
   "cell_type": "code",
   "execution_count": 4,
   "id": "6d9662f5",
   "metadata": {
    "scrolled": true
   },
   "outputs": [
    {
     "name": "stdout",
     "output_type": "stream",
     "text": [
      "               X         Y         Z  label\n",
      "0       0.036309 -0.000011  0.000140      0\n",
      "1       0.051504  0.000000  0.000126      0\n",
      "2       0.067061  0.000000  0.000126      0\n",
      "3       0.091582  0.000000  0.000126      0\n",
      "4       0.108457  0.000000  0.000126      0\n",
      "...          ...       ...       ...    ...\n",
      "120853  0.074577 -0.079726  0.145563      1\n",
      "120854 -0.025355  0.212418  0.072108      1\n",
      "120855  0.159572 -0.067101  0.045794      1\n",
      "120856 -0.187689  0.160424  0.067511      1\n",
      "120857 -0.016911  0.202529  0.087553      1\n",
      "\n",
      "[120858 rows x 4 columns]\n"
     ]
    }
   ],
   "source": [
    "print(train_data)"
   ]
  },
  {
   "cell_type": "code",
   "execution_count": 5,
   "id": "6aa6de84",
   "metadata": {},
   "outputs": [
    {
     "name": "stdout",
     "output_type": "stream",
     "text": [
      "[0 0 0 ... 1 1 1]\n"
     ]
    }
   ],
   "source": [
    "labels = train_data.pop('label').values\n",
    "print(labels)"
   ]
  },
  {
   "cell_type": "code",
   "execution_count": 6,
   "id": "d1fdebb2",
   "metadata": {},
   "outputs": [
    {
     "name": "stdout",
     "output_type": "stream",
     "text": [
      "tf.Tensor(\n",
      "[[1. 0.]\n",
      " [1. 0.]\n",
      " [1. 0.]\n",
      " ...\n",
      " [0. 1.]\n",
      " [0. 1.]\n",
      " [0. 1.]], shape=(120858, 2), dtype=float32)\n"
     ]
    }
   ],
   "source": [
    "labels = tf.one_hot(labels, 2)\n",
    "print(labels)"
   ]
  },
  {
   "cell_type": "code",
   "execution_count": 7,
   "id": "4b6ec30c",
   "metadata": {
    "scrolled": false
   },
   "outputs": [
    {
     "name": "stdout",
     "output_type": "stream",
     "text": [
      "[[ 3.6309000e-02 -1.1000000e-05  1.4000000e-04]\n",
      " [ 5.1504000e-02  0.0000000e+00  1.2600000e-04]\n",
      " [ 6.7061000e-02  0.0000000e+00  1.2600000e-04]\n",
      " ...\n",
      " [ 1.5957201e-01 -6.7101000e-02  4.5794000e-02]\n",
      " [-1.8768901e-01  1.6042399e-01  6.7511000e-02]\n",
      " [-1.6911000e-02  2.0252900e-01  8.7553000e-02]]\n"
     ]
    }
   ],
   "source": [
    "features = train_data.values\n",
    "print(features)"
   ]
  },
  {
   "cell_type": "code",
   "execution_count": 8,
   "id": "d95b1fec",
   "metadata": {},
   "outputs": [
    {
     "name": "stdout",
     "output_type": "stream",
     "text": [
      "tf.Tensor([ 3.6309e-02 -1.1000e-05  1.4000e-04], shape=(3,), dtype=float64)\n",
      "tf.Tensor([1. 0.], shape=(2,), dtype=float32)\n"
     ]
    }
   ],
   "source": [
    "dataset = tf.data.Dataset.from_tensor_slices((features, labels))\n",
    "\n",
    "for data, labels in dataset.take(1):\n",
    "    print(data)\n",
    "    print(labels)"
   ]
  },
  {
   "cell_type": "code",
   "execution_count": 9,
   "id": "cd239db9",
   "metadata": {},
   "outputs": [],
   "source": [
    "train_ds = dataset.shuffle(len(dataset)).batch(32)"
   ]
  },
  {
   "cell_type": "code",
   "execution_count": 11,
   "id": "d392f72f",
   "metadata": {},
   "outputs": [],
   "source": [
    "model = tf.keras.Sequential([\n",
    "    layers.InputLayer(input_shape=(3,)),\n",
    "    layers.Dense(10, activation='relu'),\n",
    "    layers.Dense(20, activation='relu'),\n",
    "    layers.Dense(10, activation='relu'),\n",
    "    layers.Dense(2, activation='softmax')\n",
    "])\n",
    "\n",
    "model.compile(loss=tf.keras.losses.MeanSquaredError(), optimizer = 'adam', metrics=['accuracy'])"
   ]
  },
  {
   "cell_type": "code",
   "execution_count": 12,
   "id": "78845a5c",
   "metadata": {
    "scrolled": true
   },
   "outputs": [
    {
     "name": "stdout",
     "output_type": "stream",
     "text": [
      "Epoch 1/50\n",
      "3777/3777 [==============================] - 13s 3ms/step - loss: 0.2106 - accuracy: 0.6543\n",
      "Epoch 2/50\n",
      "3777/3777 [==============================] - 11s 3ms/step - loss: 0.1818 - accuracy: 0.7253\n",
      "Epoch 3/50\n",
      "3777/3777 [==============================] - 11s 3ms/step - loss: 0.1691 - accuracy: 0.7525\n",
      "Epoch 4/50\n",
      "3777/3777 [==============================] - 11s 3ms/step - loss: 0.1595 - accuracy: 0.7724\n",
      "Epoch 5/50\n",
      "3777/3777 [==============================] - 11s 3ms/step - loss: 0.1562 - accuracy: 0.7776\n",
      "Epoch 6/50\n",
      "3777/3777 [==============================] - 11s 3ms/step - loss: 0.1532 - accuracy: 0.7809\n",
      "Epoch 7/50\n",
      "3777/3777 [==============================] - 11s 3ms/step - loss: 0.1520 - accuracy: 0.7845\n",
      "Epoch 8/50\n",
      "3777/3777 [==============================] - 11s 3ms/step - loss: 0.1503 - accuracy: 0.7861\n",
      "Epoch 9/50\n",
      "3777/3777 [==============================] - 11s 3ms/step - loss: 0.1493 - accuracy: 0.7874\n",
      "Epoch 10/50\n",
      "3777/3777 [==============================] - 11s 3ms/step - loss: 0.1485 - accuracy: 0.7890\n",
      "Epoch 11/50\n",
      "3777/3777 [==============================] - 11s 3ms/step - loss: 0.1479 - accuracy: 0.7901\n",
      "Epoch 12/50\n",
      "3777/3777 [==============================] - 11s 3ms/step - loss: 0.1470 - accuracy: 0.7919\n",
      "Epoch 13/50\n",
      "3777/3777 [==============================] - 11s 3ms/step - loss: 0.1469 - accuracy: 0.7918\n",
      "Epoch 14/50\n",
      "3777/3777 [==============================] - 11s 3ms/step - loss: 0.1460 - accuracy: 0.7929\n",
      "Epoch 15/50\n",
      "3777/3777 [==============================] - 11s 3ms/step - loss: 0.1454 - accuracy: 0.7938\n",
      "Epoch 16/50\n",
      "3777/3777 [==============================] - 11s 3ms/step - loss: 0.1447 - accuracy: 0.7938\n",
      "Epoch 17/50\n",
      "3777/3777 [==============================] - 11s 3ms/step - loss: 0.1449 - accuracy: 0.7942\n",
      "Epoch 18/50\n",
      "3777/3777 [==============================] - 11s 3ms/step - loss: 0.1450 - accuracy: 0.7928\n",
      "Epoch 19/50\n",
      "3777/3777 [==============================] - 11s 3ms/step - loss: 0.1442 - accuracy: 0.7951\n",
      "Epoch 20/50\n",
      "3777/3777 [==============================] - 11s 3ms/step - loss: 0.1440 - accuracy: 0.7937\n",
      "Epoch 21/50\n",
      "3777/3777 [==============================] - 11s 3ms/step - loss: 0.1444 - accuracy: 0.7947\n",
      "Epoch 22/50\n",
      "3777/3777 [==============================] - 11s 3ms/step - loss: 0.1435 - accuracy: 0.7954\n",
      "Epoch 23/50\n",
      "3777/3777 [==============================] - 11s 3ms/step - loss: 0.1430 - accuracy: 0.7965\n",
      "Epoch 24/50\n",
      "3777/3777 [==============================] - 11s 3ms/step - loss: 0.1427 - accuracy: 0.7981\n",
      "Epoch 25/50\n",
      "3777/3777 [==============================] - 11s 3ms/step - loss: 0.1431 - accuracy: 0.7967\n",
      "Epoch 26/50\n",
      "3777/3777 [==============================] - 11s 3ms/step - loss: 0.1437 - accuracy: 0.7955\n",
      "Epoch 27/50\n",
      "3777/3777 [==============================] - 11s 3ms/step - loss: 0.1426 - accuracy: 0.7981\n",
      "Epoch 28/50\n",
      "3777/3777 [==============================] - 11s 3ms/step - loss: 0.1432 - accuracy: 0.7963\n",
      "Epoch 29/50\n",
      "3777/3777 [==============================] - 11s 3ms/step - loss: 0.1432 - accuracy: 0.7960\n",
      "Epoch 30/50\n",
      "3777/3777 [==============================] - 11s 3ms/step - loss: 0.1421 - accuracy: 0.7988\n",
      "Epoch 31/50\n",
      "3777/3777 [==============================] - 11s 3ms/step - loss: 0.1424 - accuracy: 0.7973\n",
      "Epoch 32/50\n",
      "3777/3777 [==============================] - 11s 3ms/step - loss: 0.1424 - accuracy: 0.7953\n",
      "Epoch 33/50\n",
      "3777/3777 [==============================] - 11s 3ms/step - loss: 0.1416 - accuracy: 0.7988\n",
      "Epoch 34/50\n",
      "3777/3777 [==============================] - 11s 3ms/step - loss: 0.1422 - accuracy: 0.7975\n",
      "Epoch 35/50\n",
      "3777/3777 [==============================] - 11s 3ms/step - loss: 0.1419 - accuracy: 0.7974\n",
      "Epoch 36/50\n",
      "3777/3777 [==============================] - 11s 3ms/step - loss: 0.1414 - accuracy: 0.7985\n",
      "Epoch 37/50\n",
      "3777/3777 [==============================] - 11s 3ms/step - loss: 0.1412 - accuracy: 0.7987\n",
      "Epoch 38/50\n",
      "3777/3777 [==============================] - 11s 3ms/step - loss: 0.1411 - accuracy: 0.7981\n",
      "Epoch 39/50\n",
      "3777/3777 [==============================] - 11s 3ms/step - loss: 0.1414 - accuracy: 0.7971\n",
      "Epoch 40/50\n",
      "3777/3777 [==============================] - 11s 3ms/step - loss: 0.1409 - accuracy: 0.7980\n",
      "Epoch 41/50\n",
      "3777/3777 [==============================] - 11s 3ms/step - loss: 0.1403 - accuracy: 0.8004\n",
      "Epoch 42/50\n",
      "3777/3777 [==============================] - 11s 3ms/step - loss: 0.1405 - accuracy: 0.8005\n",
      "Epoch 43/50\n",
      "3777/3777 [==============================] - 11s 3ms/step - loss: 0.1399 - accuracy: 0.8011\n",
      "Epoch 44/50\n",
      "3777/3777 [==============================] - 11s 3ms/step - loss: 0.1399 - accuracy: 0.8010\n",
      "Epoch 45/50\n",
      "3777/3777 [==============================] - 11s 3ms/step - loss: 0.1401 - accuracy: 0.8009\n",
      "Epoch 46/50\n",
      "3777/3777 [==============================] - 11s 3ms/step - loss: 0.1395 - accuracy: 0.7999\n",
      "Epoch 47/50\n",
      "3777/3777 [==============================] - 11s 3ms/step - loss: 0.1396 - accuracy: 0.8011\n",
      "Epoch 48/50\n",
      "3777/3777 [==============================] - 11s 3ms/step - loss: 0.1406 - accuracy: 0.7980\n",
      "Epoch 49/50\n",
      "3777/3777 [==============================] - 11s 3ms/step - loss: 0.1397 - accuracy: 0.7996\n",
      "Epoch 50/50\n",
      "3777/3777 [==============================] - 11s 3ms/step - loss: 0.1407 - accuracy: 0.7980\n"
     ]
    },
    {
     "data": {
      "text/plain": [
       "<tensorflow.python.keras.callbacks.History at 0x20bf567dc40>"
      ]
     },
     "execution_count": 12,
     "metadata": {},
     "output_type": "execute_result"
    }
   ],
   "source": [
    "model.fit(train_ds, epochs=50)"
   ]
  },
  {
   "cell_type": "code",
   "execution_count": 13,
   "id": "b1b44b7b",
   "metadata": {},
   "outputs": [],
   "source": [
    "model.save(\"model.h5\")"
   ]
  },
  {
   "cell_type": "code",
   "execution_count": 14,
   "id": "f628b7a9",
   "metadata": {},
   "outputs": [],
   "source": [
    "test_data = pd.read_csv(os.path.join(ROOT, 'test.csv'), delimiter=',', index_col=False, usecols=[0,1,2])"
   ]
  },
  {
   "cell_type": "code",
   "execution_count": 15,
   "id": "4c59d164",
   "metadata": {
    "scrolled": false
   },
   "outputs": [
    {
     "name": "stdout",
     "output_type": "stream",
     "text": [
      "      -0.14728101  0.00526800  0.01012900\n",
      "0       -0.079014    0.005291    0.000879\n",
      "1       -0.095757    0.005285    0.000967\n",
      "2       -0.115664    0.005279    0.001055\n",
      "3       -0.055800    0.005268    0.001758\n",
      "4       -0.148287    0.005269    0.019786\n",
      "...           ...         ...         ...\n",
      "9594    -0.034393    0.182729    0.123804\n",
      "9595    -0.062175    0.182714    0.144613\n",
      "9596    -0.048653    0.182730    0.137966\n",
      "9597    -0.056554    0.182730    0.142383\n",
      "9598    -0.075801    0.182728    0.146889\n",
      "\n",
      "[9599 rows x 3 columns]\n"
     ]
    }
   ],
   "source": [
    "print(test_data)"
   ]
  },
  {
   "cell_type": "code",
   "execution_count": 16,
   "id": "a91e0ce9",
   "metadata": {},
   "outputs": [],
   "source": [
    "#test_data = np.array(test_data)"
   ]
  },
  {
   "cell_type": "code",
   "execution_count": 17,
   "id": "419d99d0",
   "metadata": {},
   "outputs": [],
   "source": [
    "class_names = ['background', 'landmark']"
   ]
  },
  {
   "cell_type": "code",
   "execution_count": 18,
   "id": "3cc31856",
   "metadata": {},
   "outputs": [],
   "source": [
    "prediction = model.predict(test_data)"
   ]
  },
  {
   "cell_type": "code",
   "execution_count": 19,
   "id": "8daf9424",
   "metadata": {
    "scrolled": false
   },
   "outputs": [
    {
     "name": "stdout",
     "output_type": "stream",
     "text": [
      "[[1.         0.        ]\n",
      " [1.         0.        ]\n",
      " [1.         0.        ]\n",
      " ...\n",
      " [0.82486075 0.1751392 ]\n",
      " [0.76075554 0.23924445]\n",
      " [0.7799684  0.2200317 ]]\n"
     ]
    }
   ],
   "source": [
    "print(prediction)"
   ]
  },
  {
   "cell_type": "code",
   "execution_count": 20,
   "id": "d77ca88d",
   "metadata": {},
   "outputs": [],
   "source": [
    "predicted_class_indice = np.argmax(prediction, axis=-1)"
   ]
  },
  {
   "cell_type": "code",
   "execution_count": 21,
   "id": "32510aaf",
   "metadata": {},
   "outputs": [],
   "source": [
    "f = lambda x: class_names[int(x)]\n",
    "vf = np.vectorize(f)"
   ]
  },
  {
   "cell_type": "code",
   "execution_count": 22,
   "id": "585ab671",
   "metadata": {},
   "outputs": [],
   "source": [
    "predicted_class = vf(predicted_class_indice)"
   ]
  },
  {
   "cell_type": "code",
   "execution_count": 23,
   "id": "0fddd664",
   "metadata": {
    "scrolled": false
   },
   "outputs": [
    {
     "name": "stdout",
     "output_type": "stream",
     "text": [
      "<U10\n"
     ]
    }
   ],
   "source": [
    "print(predicted_class.dtype)"
   ]
  },
  {
   "cell_type": "code",
   "execution_count": 24,
   "id": "730b83b4",
   "metadata": {
    "scrolled": true
   },
   "outputs": [
    {
     "name": "stdout",
     "output_type": "stream",
     "text": [
      "(9599,) (9599, 3)\n"
     ]
    }
   ],
   "source": [
    "print(predicted_class.shape, test_data.shape)"
   ]
  },
  {
   "cell_type": "code",
   "execution_count": 25,
   "id": "fcf2fed2",
   "metadata": {},
   "outputs": [],
   "source": [
    "data = np.column_stack((test_data, predicted_class))"
   ]
  },
  {
   "cell_type": "code",
   "execution_count": 26,
   "id": "dddd1bae",
   "metadata": {
    "scrolled": true
   },
   "outputs": [
    {
     "name": "stdout",
     "output_type": "stream",
     "text": [
      "(9599, 4)\n"
     ]
    }
   ],
   "source": [
    "print(data.shape)"
   ]
  },
  {
   "cell_type": "code",
   "execution_count": 27,
   "id": "a3563f21",
   "metadata": {},
   "outputs": [],
   "source": [
    "df = pd.DataFrame({'X': data[:,0], 'Y': data[:,1], 'Z':data[:,2], 'Predictions':data[:,3]})\n",
    "results = df.to_csv(os.path.join(ROOT, 'results.csv'), index=False)"
   ]
  },
  {
   "cell_type": "code",
   "execution_count": 28,
   "id": "9c99ec11",
   "metadata": {},
   "outputs": [],
   "source": [
    "df = pd.DataFrame({'X': data[:,0], 'Y': data[:,1], 'Z':data[:,2], 'Predictions':data[:,3]})\n",
    "results = df[df.Predictions != 'background']\n",
    "results = results.to_csv(os.path.join(ROOT, 'results_landmarks.csv'), index=False)"
   ]
  },
  {
   "cell_type": "code",
   "execution_count": 29,
   "id": "dac793fd",
   "metadata": {},
   "outputs": [],
   "source": [
    "# Write only points\n",
    "df = pd.DataFrame({'X': data[:,0], 'Y': data[:,1], 'Z':data[:,2], 'Predictions':data[:,3]})\n",
    "results = df[df.Predictions != 'background']\n",
    "results = results.to_csv(os.path.join(ROOT, 'results_landmarks_points.csv'), index=False, \n",
    "                         columns =('X', 'Y', 'Z'), header=False)"
   ]
  },
  {
   "cell_type": "code",
   "execution_count": null,
   "id": "0480335f",
   "metadata": {},
   "outputs": [],
   "source": []
  }
 ],
 "metadata": {
  "kernelspec": {
   "display_name": "Python 3 (ipykernel)",
   "language": "python",
   "name": "python3"
  },
  "language_info": {
   "codemirror_mode": {
    "name": "ipython",
    "version": 3
   },
   "file_extension": ".py",
   "mimetype": "text/x-python",
   "name": "python",
   "nbconvert_exporter": "python",
   "pygments_lexer": "ipython3",
   "version": "3.9.6"
  }
 },
 "nbformat": 4,
 "nbformat_minor": 5
}
