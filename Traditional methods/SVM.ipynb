{
 "cells": [
  {
   "cell_type": "code",
   "execution_count": 1,
   "id": "385e6fb8",
   "metadata": {},
   "outputs": [],
   "source": [
    "import pandas as pd\n",
    "import numpy as np\n",
    "import os\n",
    "import glob\n",
    "from sklearn.metrics import accuracy_score\n",
    "from sklearn.metrics import roc_auc_score\n",
    "from sklearn.svm import SVC"
   ]
  },
  {
   "cell_type": "code",
   "execution_count": 2,
   "id": "5b3bf63e",
   "metadata": {},
   "outputs": [],
   "source": [
    "ROOT = 'E:/skia_projects/3d_facial_landmark/implementation_1/data_new/temp'"
   ]
  },
  {
   "cell_type": "code",
   "execution_count": 3,
   "id": "0790497d",
   "metadata": {},
   "outputs": [],
   "source": [
    "train_data = pd.read_csv(os.path.join(ROOT, 'train_balanced.csv'), delimiter=',', \n",
    "                         index_col=False, names=['X', 'Y', 'Z', 'label'])"
   ]
  },
  {
   "cell_type": "code",
   "execution_count": 4,
   "id": "476190f7",
   "metadata": {},
   "outputs": [],
   "source": [
    "# Separate input features (X) and target variable (y)\n",
    "y = train_data.pop('label').values\n",
    "X = train_data.values"
   ]
  },
  {
   "cell_type": "code",
   "execution_count": 5,
   "id": "e3020525",
   "metadata": {},
   "outputs": [
    {
     "name": "stdout",
     "output_type": "stream",
     "text": [
      "120858\n",
      "120858\n"
     ]
    }
   ],
   "source": [
    "print(len(X))\n",
    "print(len(y))"
   ]
  },
  {
   "cell_type": "code",
   "execution_count": 11,
   "id": "92a23b37",
   "metadata": {},
   "outputs": [
    {
     "name": "stderr",
     "output_type": "stream",
     "text": [
      "C:\\Users\\rajah\\anaconda3\\envs\\land-det\\lib\\site-packages\\sklearn\\svm\\_base.py:255: ConvergenceWarning: Solver terminated early (max_iter=1000).  Consider pre-processing your data with StandardScaler or MinMaxScaler.\n",
      "  warnings.warn('Solver terminated early (max_iter=%i).'\n"
     ]
    },
    {
     "data": {
      "text/plain": [
       "SVC(kernel='linear', max_iter=1000, probability=True)"
      ]
     },
     "execution_count": 11,
     "metadata": {},
     "output_type": "execute_result"
    }
   ],
   "source": [
    "# Train model\n",
    "clf = SVC(kernel='linear',\n",
    "          probability=True,\n",
    "          max_iter=1000)\n",
    "\n",
    "clf.fit(X, y)"
   ]
  },
  {
   "cell_type": "code",
   "execution_count": 12,
   "id": "446def02",
   "metadata": {},
   "outputs": [],
   "source": [
    "# Predict on training set\n",
    "pred_y = clf.predict(X)\n",
    "#pred_y = np.floor(np.expm1(clf.predict(X)))"
   ]
  },
  {
   "cell_type": "code",
   "execution_count": 13,
   "id": "b042b80a",
   "metadata": {},
   "outputs": [
    {
     "name": "stdout",
     "output_type": "stream",
     "text": [
      "[0 1]\n"
     ]
    }
   ],
   "source": [
    "# Is our model still predicting just one class?\n",
    "print(np.unique(pred_y) )"
   ]
  },
  {
   "cell_type": "code",
   "execution_count": 14,
   "id": "34075653",
   "metadata": {},
   "outputs": [
    {
     "name": "stdout",
     "output_type": "stream",
     "text": [
      "0.5946234423869334\n"
     ]
    }
   ],
   "source": [
    "# How's our accuracy?\n",
    "print(accuracy_score(y, pred_y))"
   ]
  },
  {
   "cell_type": "code",
   "execution_count": 15,
   "id": "f13455bd",
   "metadata": {},
   "outputs": [
    {
     "name": "stdout",
     "output_type": "stream",
     "text": [
      "0.5371385551839707\n"
     ]
    }
   ],
   "source": [
    "# What about AUROC?\n",
    "prob_y = clf.predict_proba(X)\n",
    "prob_y = [p[1] for p in prob_y]\n",
    "print( roc_auc_score(y, prob_y) )"
   ]
  },
  {
   "cell_type": "code",
   "execution_count": 40,
   "id": "b79e7dc7",
   "metadata": {},
   "outputs": [],
   "source": [
    "# Predict on test data\n",
    "test_data = pd.read_csv(os.path.join(ROOT, 'test.csv'), delimiter=',', index_col=False, usecols=[0,1,2])"
   ]
  },
  {
   "cell_type": "code",
   "execution_count": 41,
   "id": "82eb1608",
   "metadata": {},
   "outputs": [
    {
     "name": "stdout",
     "output_type": "stream",
     "text": [
      "      -0.14728101  0.00526800  0.01012900\n",
      "0       -0.079014    0.005291    0.000879\n",
      "1       -0.095757    0.005285    0.000967\n",
      "2       -0.115664    0.005279    0.001055\n",
      "3       -0.055800    0.005268    0.001758\n",
      "4       -0.148287    0.005269    0.019786\n",
      "...           ...         ...         ...\n",
      "9594    -0.034393    0.182729    0.123804\n",
      "9595    -0.062175    0.182714    0.144613\n",
      "9596    -0.048653    0.182730    0.137966\n",
      "9597    -0.056554    0.182730    0.142383\n",
      "9598    -0.075801    0.182728    0.146889\n",
      "\n",
      "[9599 rows x 3 columns]\n"
     ]
    }
   ],
   "source": [
    "print(test_data)"
   ]
  },
  {
   "cell_type": "code",
   "execution_count": 42,
   "id": "0266e41d",
   "metadata": {},
   "outputs": [
    {
     "name": "stderr",
     "output_type": "stream",
     "text": [
      "C:\\Users\\rajah\\anaconda3\\envs\\land-det\\lib\\site-packages\\xgboost\\data.py:112: UserWarning: Use subset (sliced data) of np.ndarray is not recommended because it will generate extra copies and increase memory consumption\n",
      "  warnings.warn(\n"
     ]
    }
   ],
   "source": [
    "pred = np.floor(np.expm1(clf.predict(test_data)))"
   ]
  },
  {
   "cell_type": "code",
   "execution_count": 43,
   "id": "d8845d4f",
   "metadata": {},
   "outputs": [
    {
     "name": "stdout",
     "output_type": "stream",
     "text": [
      "[ 0. -1. -1. ... -1. -1.  0.]\n"
     ]
    }
   ],
   "source": [
    "print(pred)"
   ]
  },
  {
   "cell_type": "code",
   "execution_count": 44,
   "id": "9537df94",
   "metadata": {},
   "outputs": [],
   "source": [
    "class_names = ['background', 'landmark']"
   ]
  },
  {
   "cell_type": "code",
   "execution_count": 45,
   "id": "9209ae03",
   "metadata": {},
   "outputs": [],
   "source": [
    "f = lambda x: class_names[int(x)]\n",
    "vf = np.vectorize(f)"
   ]
  },
  {
   "cell_type": "code",
   "execution_count": 46,
   "id": "5dd6b4de",
   "metadata": {},
   "outputs": [],
   "source": [
    "predicted_class = vf(pred)"
   ]
  },
  {
   "cell_type": "code",
   "execution_count": 47,
   "id": "59719f96",
   "metadata": {},
   "outputs": [
    {
     "name": "stdout",
     "output_type": "stream",
     "text": [
      "['background' 'landmark' 'landmark' ... 'landmark' 'landmark' 'background']\n"
     ]
    }
   ],
   "source": [
    "print(predicted_class)"
   ]
  },
  {
   "cell_type": "code",
   "execution_count": 48,
   "id": "c8e95e8f",
   "metadata": {},
   "outputs": [
    {
     "name": "stdout",
     "output_type": "stream",
     "text": [
      "(9599, 4)\n"
     ]
    }
   ],
   "source": [
    "# Saving predictions\n",
    "data = np.column_stack((test_data, predicted_class))\n",
    "print(data.shape)"
   ]
  },
  {
   "cell_type": "code",
   "execution_count": 49,
   "id": "2d274784",
   "metadata": {},
   "outputs": [],
   "source": [
    "df = pd.DataFrame({'X': data[:,0], 'Y': data[:,1], 'Z':data[:,2], 'Predictions':data[:,3]})\n",
    "results = df.to_csv(os.path.join(ROOT, 'results.csv'), index=False)"
   ]
  },
  {
   "cell_type": "code",
   "execution_count": 50,
   "id": "14205f33",
   "metadata": {},
   "outputs": [],
   "source": [
    "df = pd.DataFrame({'X': data[:,0], 'Y': data[:,1], 'Z':data[:,2], 'Predictions':data[:,3]})\n",
    "results = df[df.Predictions != 'background']\n",
    "results = results.to_csv(os.path.join(ROOT, 'results_landmarks.csv'), index=False)"
   ]
  },
  {
   "cell_type": "code",
   "execution_count": 51,
   "id": "98170041",
   "metadata": {},
   "outputs": [],
   "source": [
    "# Write only points\n",
    "df = pd.DataFrame({'X': data[:,0], 'Y': data[:,1], 'Z':data[:,2], 'Predictions':data[:,3]})\n",
    "results = df[df.Predictions != 'background']\n",
    "results = results.to_csv(os.path.join(ROOT, 'results_landmarks_points.csv'), index=False, \n",
    "                         columns =('X', 'Y', 'Z'), header=False)"
   ]
  },
  {
   "cell_type": "code",
   "execution_count": null,
   "id": "5b186bfd",
   "metadata": {},
   "outputs": [],
   "source": []
  }
 ],
 "metadata": {
  "kernelspec": {
   "display_name": "Python 3 (ipykernel)",
   "language": "python",
   "name": "python3"
  },
  "language_info": {
   "codemirror_mode": {
    "name": "ipython",
    "version": 3
   },
   "file_extension": ".py",
   "mimetype": "text/x-python",
   "name": "python",
   "nbconvert_exporter": "python",
   "pygments_lexer": "ipython3",
   "version": "3.9.6"
  }
 },
 "nbformat": 4,
 "nbformat_minor": 5
}
