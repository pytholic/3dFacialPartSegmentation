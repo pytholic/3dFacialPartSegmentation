{
 "cells": [
  {
   "cell_type": "code",
   "execution_count": 18,
   "id": "385e6fb8",
   "metadata": {},
   "outputs": [],
   "source": [
    "import pandas as pd\n",
    "import numpy as np\n",
    "import os\n",
    "import glob\n",
    "from sklearn.metrics import accuracy_score\n",
    "from sklearn.metrics import roc_auc_score\n",
    "import xgboost as XGB"
   ]
  },
  {
   "cell_type": "code",
   "execution_count": 19,
   "id": "5b3bf63e",
   "metadata": {},
   "outputs": [],
   "source": [
    "ROOT = 'E:/skia_projects/3d_facial_landmark/implementation_1/data_new/temp'"
   ]
  },
  {
   "cell_type": "code",
   "execution_count": 20,
   "id": "0790497d",
   "metadata": {},
   "outputs": [],
   "source": [
    "train_data = pd.read_csv(os.path.join(ROOT, 'train_balanced.csv'), delimiter=',', \n",
    "                         index_col=False, names=['X', 'Y', 'Z', 'label'])"
   ]
  },
  {
   "cell_type": "code",
   "execution_count": 21,
   "id": "476190f7",
   "metadata": {},
   "outputs": [],
   "source": [
    "# Separate input features (X) and target variable (y)\n",
    "y = train_data.pop('label').values\n",
    "X = train_data.values"
   ]
  },
  {
   "cell_type": "code",
   "execution_count": 22,
   "id": "92a23b37",
   "metadata": {},
   "outputs": [
    {
     "data": {
      "text/plain": [
       "XGBRegressor(base_score=0.5, booster='gbtree', colsample_bylevel=1,\n",
       "             colsample_bynode=1, colsample_bytree=1, gamma=0, gpu_id=-1,\n",
       "             importance_type='gain', interaction_constraints='',\n",
       "             learning_rate=0.300000012, max_delta_step=0, max_depth=6,\n",
       "             min_child_weight=1, missing=nan, monotone_constraints='()',\n",
       "             n_estimators=100, n_jobs=16, num_parallel_tree=1, random_state=0,\n",
       "             reg_alpha=0, reg_lambda=1, scale_pos_weight=1, subsample=1,\n",
       "             tree_method='exact', validate_parameters=1, verbosity=None)"
      ]
     },
     "execution_count": 22,
     "metadata": {},
     "output_type": "execute_result"
    }
   ],
   "source": [
    "# Train model\n",
    "clf = XGB.XGBRegressor()\n",
    "clf.fit(X, y, verbose=True)"
   ]
  },
  {
   "cell_type": "code",
   "execution_count": 24,
   "id": "446def02",
   "metadata": {},
   "outputs": [],
   "source": [
    "# Predict on training set\n",
    "#pred_y = clf.predict(X)\n",
    "pred_y = np.floor(np.expm1(clf.predict(X)))"
   ]
  },
  {
   "cell_type": "code",
   "execution_count": 25,
   "id": "b042b80a",
   "metadata": {},
   "outputs": [
    {
     "name": "stdout",
     "output_type": "stream",
     "text": [
      "[-1.  0.  1.]\n"
     ]
    }
   ],
   "source": [
    "# Is our model still predicting just one class?\n",
    "print(np.unique(pred_y) )"
   ]
  },
  {
   "cell_type": "code",
   "execution_count": 26,
   "id": "34075653",
   "metadata": {},
   "outputs": [
    {
     "name": "stdout",
     "output_type": "stream",
     "text": [
      "0.7583445034668785\n"
     ]
    }
   ],
   "source": [
    "# How's our accuracy?\n",
    "print(accuracy_score(y, pred_y))"
   ]
  },
  {
   "cell_type": "code",
   "execution_count": 27,
   "id": "f13455bd",
   "metadata": {},
   "outputs": [
    {
     "ename": "AttributeError",
     "evalue": "'XGBRegressor' object has no attribute 'predict_proba'",
     "output_type": "error",
     "traceback": [
      "\u001b[1;31m---------------------------------------------------------------------------\u001b[0m",
      "\u001b[1;31mAttributeError\u001b[0m                            Traceback (most recent call last)",
      "\u001b[1;32m~\\AppData\\Local\\Temp/ipykernel_15616/3528387321.py\u001b[0m in \u001b[0;36m<module>\u001b[1;34m\u001b[0m\n\u001b[0;32m      1\u001b[0m \u001b[1;31m# What about AUROC?\u001b[0m\u001b[1;33m\u001b[0m\u001b[1;33m\u001b[0m\u001b[1;33m\u001b[0m\u001b[0m\n\u001b[1;32m----> 2\u001b[1;33m \u001b[0mprob_y\u001b[0m \u001b[1;33m=\u001b[0m \u001b[0mclf\u001b[0m\u001b[1;33m.\u001b[0m\u001b[0mpredict_proba\u001b[0m\u001b[1;33m(\u001b[0m\u001b[0mX\u001b[0m\u001b[1;33m)\u001b[0m\u001b[1;33m\u001b[0m\u001b[1;33m\u001b[0m\u001b[0m\n\u001b[0m\u001b[0;32m      3\u001b[0m \u001b[0mprob_y\u001b[0m \u001b[1;33m=\u001b[0m \u001b[1;33m[\u001b[0m\u001b[0mp\u001b[0m\u001b[1;33m[\u001b[0m\u001b[1;36m1\u001b[0m\u001b[1;33m]\u001b[0m \u001b[1;32mfor\u001b[0m \u001b[0mp\u001b[0m \u001b[1;32min\u001b[0m \u001b[0mprob_y\u001b[0m\u001b[1;33m]\u001b[0m\u001b[1;33m\u001b[0m\u001b[1;33m\u001b[0m\u001b[0m\n\u001b[0;32m      4\u001b[0m \u001b[0mprint\u001b[0m\u001b[1;33m(\u001b[0m \u001b[0mroc_auc_score\u001b[0m\u001b[1;33m(\u001b[0m\u001b[0my\u001b[0m\u001b[1;33m,\u001b[0m \u001b[0mprob_y\u001b[0m\u001b[1;33m)\u001b[0m \u001b[1;33m)\u001b[0m\u001b[1;33m\u001b[0m\u001b[1;33m\u001b[0m\u001b[0m\n",
      "\u001b[1;31mAttributeError\u001b[0m: 'XGBRegressor' object has no attribute 'predict_proba'"
     ]
    }
   ],
   "source": [
    "# What about AUROC?\n",
    "prob_y = clf.predict_proba(X)\n",
    "prob_y = [p[1] for p in prob_y]\n",
    "print( roc_auc_score(y, prob_y) )"
   ]
  },
  {
   "cell_type": "code",
   "execution_count": 40,
   "id": "b79e7dc7",
   "metadata": {},
   "outputs": [],
   "source": [
    "# Predict on test data\n",
    "test_data = pd.read_csv(os.path.join(ROOT, 'test.csv'), delimiter=',', index_col=False, usecols=[0,1,2])"
   ]
  },
  {
   "cell_type": "code",
   "execution_count": 41,
   "id": "82eb1608",
   "metadata": {},
   "outputs": [
    {
     "name": "stdout",
     "output_type": "stream",
     "text": [
      "      -0.14728101  0.00526800  0.01012900\n",
      "0       -0.079014    0.005291    0.000879\n",
      "1       -0.095757    0.005285    0.000967\n",
      "2       -0.115664    0.005279    0.001055\n",
      "3       -0.055800    0.005268    0.001758\n",
      "4       -0.148287    0.005269    0.019786\n",
      "...           ...         ...         ...\n",
      "9594    -0.034393    0.182729    0.123804\n",
      "9595    -0.062175    0.182714    0.144613\n",
      "9596    -0.048653    0.182730    0.137966\n",
      "9597    -0.056554    0.182730    0.142383\n",
      "9598    -0.075801    0.182728    0.146889\n",
      "\n",
      "[9599 rows x 3 columns]\n"
     ]
    }
   ],
   "source": [
    "print(test_data)"
   ]
  },
  {
   "cell_type": "code",
   "execution_count": 42,
   "id": "0266e41d",
   "metadata": {},
   "outputs": [
    {
     "name": "stderr",
     "output_type": "stream",
     "text": [
      "C:\\Users\\rajah\\anaconda3\\envs\\land-det\\lib\\site-packages\\xgboost\\data.py:112: UserWarning: Use subset (sliced data) of np.ndarray is not recommended because it will generate extra copies and increase memory consumption\n",
      "  warnings.warn(\n"
     ]
    }
   ],
   "source": [
    "pred = np.floor(np.expm1(clf.predict(test_data)))"
   ]
  },
  {
   "cell_type": "code",
   "execution_count": 43,
   "id": "d8845d4f",
   "metadata": {},
   "outputs": [
    {
     "name": "stdout",
     "output_type": "stream",
     "text": [
      "[ 0. -1. -1. ... -1. -1.  0.]\n"
     ]
    }
   ],
   "source": [
    "print(pred)"
   ]
  },
  {
   "cell_type": "code",
   "execution_count": 44,
   "id": "9537df94",
   "metadata": {},
   "outputs": [],
   "source": [
    "class_names = ['background', 'landmark']"
   ]
  },
  {
   "cell_type": "code",
   "execution_count": 45,
   "id": "9209ae03",
   "metadata": {},
   "outputs": [],
   "source": [
    "f = lambda x: class_names[int(x)]\n",
    "vf = np.vectorize(f)"
   ]
  },
  {
   "cell_type": "code",
   "execution_count": 46,
   "id": "5dd6b4de",
   "metadata": {},
   "outputs": [],
   "source": [
    "predicted_class = vf(pred)"
   ]
  },
  {
   "cell_type": "code",
   "execution_count": 47,
   "id": "59719f96",
   "metadata": {},
   "outputs": [
    {
     "name": "stdout",
     "output_type": "stream",
     "text": [
      "['background' 'landmark' 'landmark' ... 'landmark' 'landmark' 'background']\n"
     ]
    }
   ],
   "source": [
    "print(predicted_class)"
   ]
  },
  {
   "cell_type": "code",
   "execution_count": 48,
   "id": "c8e95e8f",
   "metadata": {},
   "outputs": [
    {
     "name": "stdout",
     "output_type": "stream",
     "text": [
      "(9599, 4)\n"
     ]
    }
   ],
   "source": [
    "# Saving predictions\n",
    "data = np.column_stack((test_data, predicted_class))\n",
    "print(data.shape)"
   ]
  },
  {
   "cell_type": "code",
   "execution_count": 49,
   "id": "2d274784",
   "metadata": {},
   "outputs": [],
   "source": [
    "df = pd.DataFrame({'X': data[:,0], 'Y': data[:,1], 'Z':data[:,2], 'Predictions':data[:,3]})\n",
    "results = df.to_csv(os.path.join(ROOT, 'results.csv'), index=False)"
   ]
  },
  {
   "cell_type": "code",
   "execution_count": 50,
   "id": "14205f33",
   "metadata": {},
   "outputs": [],
   "source": [
    "df = pd.DataFrame({'X': data[:,0], 'Y': data[:,1], 'Z':data[:,2], 'Predictions':data[:,3]})\n",
    "results = df[df.Predictions != 'background']\n",
    "results = results.to_csv(os.path.join(ROOT, 'results_landmarks.csv'), index=False)"
   ]
  },
  {
   "cell_type": "code",
   "execution_count": 51,
   "id": "98170041",
   "metadata": {},
   "outputs": [],
   "source": [
    "# Write only points\n",
    "df = pd.DataFrame({'X': data[:,0], 'Y': data[:,1], 'Z':data[:,2], 'Predictions':data[:,3]})\n",
    "results = df[df.Predictions != 'background']\n",
    "results = results.to_csv(os.path.join(ROOT, 'results_landmarks_points.csv'), index=False, \n",
    "                         columns =('X', 'Y', 'Z'), header=False)"
   ]
  },
  {
   "cell_type": "code",
   "execution_count": null,
   "id": "5b186bfd",
   "metadata": {},
   "outputs": [],
   "source": []
  }
 ],
 "metadata": {
  "kernelspec": {
   "display_name": "Python 3 (ipykernel)",
   "language": "python",
   "name": "python3"
  },
  "language_info": {
   "codemirror_mode": {
    "name": "ipython",
    "version": 3
   },
   "file_extension": ".py",
   "mimetype": "text/x-python",
   "name": "python",
   "nbconvert_exporter": "python",
   "pygments_lexer": "ipython3",
   "version": "3.9.6"
  }
 },
 "nbformat": 4,
 "nbformat_minor": 5
}
