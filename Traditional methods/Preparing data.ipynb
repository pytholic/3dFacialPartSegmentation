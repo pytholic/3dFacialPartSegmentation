{
 "cells": [
  {
   "cell_type": "code",
   "execution_count": 12,
   "id": "26f7aad2",
   "metadata": {},
   "outputs": [],
   "source": [
    "import pandas\n",
    "import numpy as np\n",
    "import glob\n",
    "import os"
   ]
  },
  {
   "cell_type": "code",
   "execution_count": 13,
   "id": "0b39a6b4",
   "metadata": {},
   "outputs": [],
   "source": [
    "ROOT = 'E:/skia_projects/3d_facial_landmark/implementation_1/data_new/temp'\n",
    "DATA_ROOT = os.path.join(ROOT, 'samples_updated')\n",
    "LMARKS_ROOT = os.path.join(ROOT, 'landmarks')"
   ]
  },
  {
   "cell_type": "code",
   "execution_count": 14,
   "id": "ae989cf4",
   "metadata": {},
   "outputs": [],
   "source": [
    "for sample in glob.glob(DATA_ROOT + '/*.csv'):\n",
    "    df = pandas.read_csv(sample, delimiter=',', index_col=False, names=['X', 'Y', 'Z'])\n",
    "    df.insert(3,column='label',value=0)\n",
    "    df.to_csv(os.path.join(ROOT, 'train.csv'), mode='a', index=False, header=None)"
   ]
  },
  {
   "cell_type": "code",
   "execution_count": 15,
   "id": "852debec",
   "metadata": {},
   "outputs": [],
   "source": [
    "for lmarks in glob.glob(LMARKS_ROOT + '/*.csv'):\n",
    "    df = pandas.read_csv(lmarks, delimiter=',', index_col=False, names=['X', 'Y', 'Z'])\n",
    "    df.insert(3,column='label',value=1)\n",
    "    df.to_csv(os.path.join(ROOT, 'train.csv'), mode='a', index=False, header=None)"
   ]
  },
  {
   "cell_type": "code",
   "execution_count": null,
   "id": "1ab8eaee",
   "metadata": {},
   "outputs": [],
   "source": []
  }
 ],
 "metadata": {
  "kernelspec": {
   "display_name": "Python 3 (ipykernel)",
   "language": "python",
   "name": "python3"
  },
  "language_info": {
   "codemirror_mode": {
    "name": "ipython",
    "version": 3
   },
   "file_extension": ".py",
   "mimetype": "text/x-python",
   "name": "python",
   "nbconvert_exporter": "python",
   "pygments_lexer": "ipython3",
   "version": "3.9.6"
  }
 },
 "nbformat": 4,
 "nbformat_minor": 5
}
