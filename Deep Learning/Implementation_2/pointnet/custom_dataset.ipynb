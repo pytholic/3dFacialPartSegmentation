{
 "cells": [
  {
   "cell_type": "code",
   "execution_count": 26,
   "id": "19325b37",
   "metadata": {},
   "outputs": [],
   "source": [
    "from __future__ import print_function\n",
    "import torch.utils.data as data\n",
    "import os\n",
    "import os.path\n",
    "import torch\n",
    "import numpy as np\n",
    "import sys\n",
    "from tqdm import tqdm \n",
    "import json\n",
    "import glob\n",
    "from plyfile import PlyData, PlyElement"
   ]
  },
  {
   "cell_type": "code",
   "execution_count": 19,
   "id": "371b91bb",
   "metadata": {},
   "outputs": [],
   "source": [
    "npoints = 2500\n",
    "root = '/home/trojan/skia_projects/3d_facial_segmentation/part_segmentation/pointnet/pointnet.pytorch/datasets/head_data'\n",
    "cat = {}\n",
    "data_augmentation = True\n",
    "classification = False\n",
    "split = 'train'\n",
    "seg_classes = {}\n",
    "class_choice = None"
   ]
  },
  {
   "cell_type": "code",
   "execution_count": 20,
   "id": "d06578f8",
   "metadata": {},
   "outputs": [],
   "source": [
    "catfile = os.path.join(root, 'synsetoffset2category.txt')\n",
    "\n",
    "with open(catfile, 'r') as f:\n",
    "    for line in f:\n",
    "        ls = line.strip().split()\n",
    "        cat[ls[0]] = ls[1]"
   ]
  },
  {
   "cell_type": "code",
   "execution_count": 21,
   "id": "24a7ad58",
   "metadata": {},
   "outputs": [],
   "source": [
    "if not class_choice is None:\n",
    "    cat = {k: v for k, v in cat.items() if k in class_choice}"
   ]
  },
  {
   "cell_type": "code",
   "execution_count": 22,
   "id": "82888a75",
   "metadata": {},
   "outputs": [
    {
     "name": "stdout",
     "output_type": "stream",
     "text": [
      "{'Head': '02691156'}\n"
     ]
    }
   ],
   "source": [
    "print(cat)"
   ]
  },
  {
   "cell_type": "code",
   "execution_count": 56,
   "id": "27419049",
   "metadata": {},
   "outputs": [
    {
     "name": "stdout",
     "output_type": "stream",
     "text": [
      "{'02691156': 'Head'}\n"
     ]
    }
   ],
   "source": [
    "id2cat = {v: k for k, v in cat.items()}\n",
    "print(id2cat)"
   ]
  },
  {
   "cell_type": "code",
   "execution_count": 57,
   "id": "ed191b29",
   "metadata": {},
   "outputs": [],
   "source": [
    "for item in cat:\n",
    "    meta[item] = []"
   ]
  },
  {
   "cell_type": "code",
   "execution_count": 58,
   "id": "1f3c6601",
   "metadata": {
    "scrolled": true
   },
   "outputs": [
    {
     "name": "stdout",
     "output_type": "stream",
     "text": [
      "{'Head': []}\n"
     ]
    }
   ],
   "source": [
    "print(meta)"
   ]
  },
  {
   "cell_type": "code",
   "execution_count": 59,
   "id": "bd20979e",
   "metadata": {},
   "outputs": [
    {
     "name": "stdout",
     "output_type": "stream",
     "text": [
      "02691156\n"
     ]
    }
   ],
   "source": [
    "for category, values in cat.items():\n",
    "    print(values)"
   ]
  },
  {
   "cell_type": "code",
   "execution_count": 60,
   "id": "66b5b08f",
   "metadata": {},
   "outputs": [],
   "source": [
    "for key, value in cat.items():\n",
    "    newDir = os.path.join(root, value)\n",
    "    for file in glob.glob(newDir + '/*.txt'):\n",
    "        for category in cat.values():\n",
    "            meta[id2cat[category]].append(file)"
   ]
  },
  {
   "cell_type": "code",
   "execution_count": 61,
   "id": "fd86eb19",
   "metadata": {},
   "outputs": [
    {
     "data": {
      "text/plain": [
       "(['/home/trojan/skia_projects/3d_facial_segmentation/part_segmentation/pointnet/pointnet.pytorch/datasets/head_data/02691156/5.txt',\n",
       "  '/home/trojan/skia_projects/3d_facial_segmentation/part_segmentation/pointnet/pointnet.pytorch/datasets/head_data/02691156/2.txt',\n",
       "  '/home/trojan/skia_projects/3d_facial_segmentation/part_segmentation/pointnet/pointnet.pytorch/datasets/head_data/02691156/1.txt',\n",
       "  '/home/trojan/skia_projects/3d_facial_segmentation/part_segmentation/pointnet/pointnet.pytorch/datasets/head_data/02691156/6.txt',\n",
       "  '/home/trojan/skia_projects/3d_facial_segmentation/part_segmentation/pointnet/pointnet.pytorch/datasets/head_data/02691156/3.txt',\n",
       "  '/home/trojan/skia_projects/3d_facial_segmentation/part_segmentation/pointnet/pointnet.pytorch/datasets/head_data/02691156/7.txt',\n",
       "  '/home/trojan/skia_projects/3d_facial_segmentation/part_segmentation/pointnet/pointnet.pytorch/datasets/head_data/02691156/4.txt'],\n",
       " 'Head')"
      ]
     },
     "execution_count": 61,
     "metadata": {},
     "output_type": "execute_result"
    }
   ],
   "source": [
    "list(meta.values())[0], list(meta.keys())[0]"
   ]
  },
  {
   "cell_type": "code",
   "execution_count": 62,
   "id": "95230440",
   "metadata": {},
   "outputs": [],
   "source": [
    "datapath = []\n",
    "for item in cat:\n",
    "    for fn in meta[item]:\n",
    "        datapath.append((item, fn))"
   ]
  },
  {
   "cell_type": "code",
   "execution_count": 63,
   "id": "b5d84572",
   "metadata": {},
   "outputs": [
    {
     "name": "stdout",
     "output_type": "stream",
     "text": [
      "[('Head', '/home/trojan/skia_projects/3d_facial_segmentation/part_segmentation/pointnet/pointnet.pytorch/datasets/head_data/02691156/5.txt'), ('Head', '/home/trojan/skia_projects/3d_facial_segmentation/part_segmentation/pointnet/pointnet.pytorch/datasets/head_data/02691156/2.txt'), ('Head', '/home/trojan/skia_projects/3d_facial_segmentation/part_segmentation/pointnet/pointnet.pytorch/datasets/head_data/02691156/1.txt'), ('Head', '/home/trojan/skia_projects/3d_facial_segmentation/part_segmentation/pointnet/pointnet.pytorch/datasets/head_data/02691156/6.txt'), ('Head', '/home/trojan/skia_projects/3d_facial_segmentation/part_segmentation/pointnet/pointnet.pytorch/datasets/head_data/02691156/3.txt'), ('Head', '/home/trojan/skia_projects/3d_facial_segmentation/part_segmentation/pointnet/pointnet.pytorch/datasets/head_data/02691156/7.txt'), ('Head', '/home/trojan/skia_projects/3d_facial_segmentation/part_segmentation/pointnet/pointnet.pytorch/datasets/head_data/02691156/4.txt')]\n"
     ]
    }
   ],
   "source": [
    "print(datapath)"
   ]
  },
  {
   "cell_type": "code",
   "execution_count": 64,
   "id": "0f553a6e",
   "metadata": {},
   "outputs": [
    {
     "name": "stdout",
     "output_type": "stream",
     "text": [
      "7\n"
     ]
    }
   ],
   "source": [
    "print(len(datapath))"
   ]
  },
  {
   "cell_type": "code",
   "execution_count": 65,
   "id": "492eb5a9",
   "metadata": {},
   "outputs": [
    {
     "name": "stdout",
     "output_type": "stream",
     "text": [
      "{'Head': 0}\n"
     ]
    }
   ],
   "source": [
    "classes = dict(zip(sorted(cat), range(len(cat))))\n",
    "print(classes)"
   ]
  },
  {
   "cell_type": "code",
   "execution_count": 66,
   "id": "04cd4687",
   "metadata": {},
   "outputs": [
    {
     "name": "stdout",
     "output_type": "stream",
     "text": [
      "{'Head': 2} 2\n"
     ]
    }
   ],
   "source": [
    "with open(os.path.join(os.getcwd(), '../misc/num_seg_classes_head.txt'), 'r') as f:\n",
    "    for line in f:\n",
    "        ls = line.strip().split()\n",
    "        seg_classes[ls[0]] = int(ls[1])\n",
    "num_seg_classes = seg_classes[list(cat.keys())[0]]\n",
    "print(seg_classes, num_seg_classes)"
   ]
  },
  {
   "cell_type": "code",
   "execution_count": null,
   "id": "2326e598",
   "metadata": {},
   "outputs": [],
   "source": [
    "##################################################################################################3"
   ]
  },
  {
   "cell_type": "code",
   "execution_count": 68,
   "id": "66b8a80c",
   "metadata": {},
   "outputs": [],
   "source": [
    "index = 0"
   ]
  },
  {
   "cell_type": "code",
   "execution_count": 72,
   "id": "953fa622",
   "metadata": {},
   "outputs": [],
   "source": [
    "fn = datapath[index]\n",
    "cls = classes[datapath[index][0]]\n",
    "data = np.loadtxt(fn[1])\n",
    "point_set = data[:, 0:3].astype(np.float32)\n",
    "seg = data[:, -1].astype(np.int64)"
   ]
  },
  {
   "cell_type": "code",
   "execution_count": 73,
   "id": "7be203b9",
   "metadata": {},
   "outputs": [
    {
     "name": "stdout",
     "output_type": "stream",
     "text": [
      "[[-9.81000e-03  0.00000e+00  1.44000e-04]\n",
      " [-1.62160e-02  0.00000e+00  1.44000e-04]\n",
      " [-2.90280e-02 -4.29000e-04  2.72000e-04]\n",
      " ...\n",
      " [-1.03814e-01  2.17127e-01  1.77469e-01]\n",
      " [-9.80260e-02  2.17264e-01  1.78167e-01]\n",
      " [-9.45360e-02  2.17177e-01  1.75970e-01]] 0 [0 0 0 ... 1 1 1]\n"
     ]
    }
   ],
   "source": [
    "print(point_set, cls, seg)"
   ]
  },
  {
   "cell_type": "code",
   "execution_count": 74,
   "id": "cdb2bcc0",
   "metadata": {},
   "outputs": [
    {
     "name": "stdout",
     "output_type": "stream",
     "text": [
      "(9604, 3) (9604,)\n"
     ]
    }
   ],
   "source": [
    "print(point_set.shape, seg.shape)"
   ]
  },
  {
   "cell_type": "code",
   "execution_count": 75,
   "id": "0ca5a3cd",
   "metadata": {},
   "outputs": [],
   "source": [
    "choice = np.random.choice(len(seg), npoints, replace=True)\n",
    "# resample\n",
    "point_set = point_set[choice, :]\n",
    "\n",
    "point_set = point_set - np.expand_dims(np.mean(point_set, axis = 0), 0) # center\n",
    "dist = np.max(np.sqrt(np.sum(point_set ** 2, axis = 1)),0)\n",
    "point_set = point_set / dist # scale"
   ]
  },
  {
   "cell_type": "code",
   "execution_count": 76,
   "id": "d9bb199a",
   "metadata": {},
   "outputs": [
    {
     "name": "stdout",
     "output_type": "stream",
     "text": [
      "[[ 0.33044326 -0.07626065 -0.10912184]\n",
      " [ 0.04921341  0.06585306 -0.44915983]\n",
      " [ 0.38648164  0.309005    0.00827159]\n",
      " ...\n",
      " [ 0.30727243 -0.05384934  0.23693164]\n",
      " [-0.4008455   0.30272114 -0.04938204]\n",
      " [ 0.12243243  0.33296573  0.3938259 ]]\n"
     ]
    }
   ],
   "source": [
    "print(point_set)"
   ]
  },
  {
   "cell_type": "code",
   "execution_count": 77,
   "id": "328e60c8",
   "metadata": {},
   "outputs": [],
   "source": [
    "seg = seg[choice]\n",
    "point_set = torch.from_numpy(point_set)\n",
    "seg = torch.from_numpy(seg)\n",
    "cls = torch.from_numpy(np.array([cls]).astype(np.int64))"
   ]
  },
  {
   "cell_type": "code",
   "execution_count": 78,
   "id": "fcb3f4ef",
   "metadata": {},
   "outputs": [
    {
     "name": "stdout",
     "output_type": "stream",
     "text": [
      "tensor([[ 0.3304, -0.0763, -0.1091],\n",
      "        [ 0.0492,  0.0659, -0.4492],\n",
      "        [ 0.3865,  0.3090,  0.0083],\n",
      "        ...,\n",
      "        [ 0.3073, -0.0538,  0.2369],\n",
      "        [-0.4008,  0.3027, -0.0494],\n",
      "        [ 0.1224,  0.3330,  0.3938]]) tensor([0]) tensor([0, 0, 0,  ..., 0, 1, 0])\n"
     ]
    }
   ],
   "source": [
    "print(point_set, cls, seg)"
   ]
  },
  {
   "cell_type": "code",
   "execution_count": null,
   "id": "490be9f0",
   "metadata": {},
   "outputs": [],
   "source": []
  }
 ],
 "metadata": {
  "kernelspec": {
   "display_name": "Python 3",
   "language": "python",
   "name": "python3"
  },
  "language_info": {
   "codemirror_mode": {
    "name": "ipython",
    "version": 3
   },
   "file_extension": ".py",
   "mimetype": "text/x-python",
   "name": "python",
   "nbconvert_exporter": "python",
   "pygments_lexer": "ipython3",
   "version": "3.7.11"
  }
 },
 "nbformat": 4,
 "nbformat_minor": 5
}
