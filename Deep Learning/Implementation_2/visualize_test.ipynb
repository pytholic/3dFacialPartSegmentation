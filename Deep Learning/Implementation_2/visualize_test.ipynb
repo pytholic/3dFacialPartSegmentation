{
 "cells": [
  {
   "cell_type": "code",
   "execution_count": 17,
   "id": "68124c9b",
   "metadata": {},
   "outputs": [],
   "source": [
    "from __future__ import print_function\n",
    "from show3d_balls import showpoints\n",
    "import argparse\n",
    "import numpy as np\n",
    "import torch\n",
    "import torch.nn.parallel\n",
    "import torch.utils.data\n",
    "from torch.autograd import Variable\n",
    "from pointnet.dataset_custom import CustomDataset\n",
    "from pointnet.model import PointNetDenseCls\n",
    "import matplotlib.pyplot as plt\n",
    "import easydict\n",
    "import numpy as np\n",
    "import os"
   ]
  },
  {
   "cell_type": "code",
   "execution_count": 18,
   "id": "d2fc7cdd",
   "metadata": {},
   "outputs": [],
   "source": [
    "opt = easydict.EasyDict({'model': '/home/trojan/skia_projects/3d_facial_segmentation/part_segmentation/pointnet/pointnet.pytorch/seg/seg_model_Head_49.pth',\n",
    "                         'dataset': '/home/trojan/skia_projects/3d_facial_segmentation/part_segmentation/pointnet/pointnet.pytorch/datasets/head_data/test',\n",
    "                         'class_choice': 'Head',\n",
    "                        })"
   ]
  },
  {
   "cell_type": "code",
   "execution_count": 19,
   "id": "cd61d177",
   "metadata": {},
   "outputs": [],
   "source": [
    "idx = 0"
   ]
  },
  {
   "cell_type": "code",
   "execution_count": 20,
   "id": "1268b79b",
   "metadata": {},
   "outputs": [],
   "source": [
    "# data = np.loadtxt(os.path.join(opt.dataset, '1.txt'))\n",
    "# point = torch.from_numpy(data[:, 0:3].astype(np.float32))\n",
    "# seg = torch.from_numpy(data[:, -1].astype(np.int64))\n",
    "# print(point.shape, seg.shape)\n",
    "# point_np = point.numpy()"
   ]
  },
  {
   "cell_type": "code",
   "execution_count": 21,
   "id": "7393ac44",
   "metadata": {},
   "outputs": [],
   "source": [
    "data = np.loadtxt(os.path.join(opt.dataset, '1.txt'))\n",
    "point = data[:, 0:3].astype(np.float32)\n",
    "#seg = torch.from_numpy(data[:, -1].astype(np.int64))\n",
    "#print(point.shape, seg.shape)\n",
    "#point_np = point.numpy()"
   ]
  },
  {
   "cell_type": "code",
   "execution_count": 22,
   "id": "8e7a5c32",
   "metadata": {},
   "outputs": [],
   "source": [
    "choice = np.random.choice(len(point), 2500, replace=True)\n",
    "#resample\n",
    "point_set = point[choice, :]\n",
    "\n",
    "point_set = point_set - np.expand_dims(np.mean(point_set, axis = 0), 0) # center\n",
    "dist = np.max(np.sqrt(np.sum(point_set ** 2, axis = 1)),0)\n",
    "point_set = point_set / dist #scale"
   ]
  },
  {
   "cell_type": "code",
   "execution_count": 23,
   "id": "43ed2d6b",
   "metadata": {},
   "outputs": [],
   "source": [
    "point = torch.from_numpy(point_set)"
   ]
  },
  {
   "cell_type": "code",
   "execution_count": 24,
   "id": "3a14f279",
   "metadata": {},
   "outputs": [],
   "source": [
    "cmap = plt.cm.get_cmap(\"hsv\", 10)\n",
    "cmap = np.array([cmap(i) for i in range(10)])[:, :3]\n",
    "#gt = cmap[seg.numpy() - 1, :]"
   ]
  },
  {
   "cell_type": "code",
   "execution_count": 25,
   "id": "76aa0388",
   "metadata": {},
   "outputs": [],
   "source": [
    "# cmap = plt.cm.get_cmap(\"hsv\", 10)\n",
    "# cmap = np.array([cmap(i) for i in range(10)])[:, :3]"
   ]
  },
  {
   "cell_type": "code",
   "execution_count": 26,
   "id": "4be321dc",
   "metadata": {
    "scrolled": true
   },
   "outputs": [
    {
     "data": {
      "text/plain": [
       "PointNetDenseCls(\n",
       "  (feat): PointNetfeat(\n",
       "    (stn): STN3d(\n",
       "      (conv1): Conv1d(3, 64, kernel_size=(1,), stride=(1,))\n",
       "      (conv2): Conv1d(64, 128, kernel_size=(1,), stride=(1,))\n",
       "      (conv3): Conv1d(128, 1024, kernel_size=(1,), stride=(1,))\n",
       "      (fc1): Linear(in_features=1024, out_features=512, bias=True)\n",
       "      (fc2): Linear(in_features=512, out_features=256, bias=True)\n",
       "      (fc3): Linear(in_features=256, out_features=9, bias=True)\n",
       "      (relu): ReLU()\n",
       "      (bn1): BatchNorm1d(64, eps=1e-05, momentum=0.1, affine=True, track_running_stats=True)\n",
       "      (bn2): BatchNorm1d(128, eps=1e-05, momentum=0.1, affine=True, track_running_stats=True)\n",
       "      (bn3): BatchNorm1d(1024, eps=1e-05, momentum=0.1, affine=True, track_running_stats=True)\n",
       "      (bn4): BatchNorm1d(512, eps=1e-05, momentum=0.1, affine=True, track_running_stats=True)\n",
       "      (bn5): BatchNorm1d(256, eps=1e-05, momentum=0.1, affine=True, track_running_stats=True)\n",
       "    )\n",
       "    (conv1): Conv1d(3, 64, kernel_size=(1,), stride=(1,))\n",
       "    (conv2): Conv1d(64, 128, kernel_size=(1,), stride=(1,))\n",
       "    (conv3): Conv1d(128, 1024, kernel_size=(1,), stride=(1,))\n",
       "    (bn1): BatchNorm1d(64, eps=1e-05, momentum=0.1, affine=True, track_running_stats=True)\n",
       "    (bn2): BatchNorm1d(128, eps=1e-05, momentum=0.1, affine=True, track_running_stats=True)\n",
       "    (bn3): BatchNorm1d(1024, eps=1e-05, momentum=0.1, affine=True, track_running_stats=True)\n",
       "  )\n",
       "  (conv1): Conv1d(1088, 512, kernel_size=(1,), stride=(1,))\n",
       "  (conv2): Conv1d(512, 256, kernel_size=(1,), stride=(1,))\n",
       "  (conv3): Conv1d(256, 128, kernel_size=(1,), stride=(1,))\n",
       "  (conv4): Conv1d(128, 2, kernel_size=(1,), stride=(1,))\n",
       "  (bn1): BatchNorm1d(512, eps=1e-05, momentum=0.1, affine=True, track_running_stats=True)\n",
       "  (bn2): BatchNorm1d(256, eps=1e-05, momentum=0.1, affine=True, track_running_stats=True)\n",
       "  (bn3): BatchNorm1d(128, eps=1e-05, momentum=0.1, affine=True, track_running_stats=True)\n",
       ")"
      ]
     },
     "execution_count": 26,
     "metadata": {},
     "output_type": "execute_result"
    }
   ],
   "source": [
    "state_dict = torch.load(opt.model)\n",
    "classifier = PointNetDenseCls(k= state_dict['conv4.weight'].size()[0])\n",
    "classifier.load_state_dict(state_dict, strict=False)\n",
    "classifier.eval()"
   ]
  },
  {
   "cell_type": "code",
   "execution_count": 27,
   "id": "238ae1b5",
   "metadata": {},
   "outputs": [
    {
     "name": "stdout",
     "output_type": "stream",
     "text": [
      "tensor([[[-0.0203, -3.9049],\n",
      "         [-0.0190, -3.9741],\n",
      "         [-0.0182, -4.0146],\n",
      "         ...,\n",
      "         [-0.0224, -3.8085],\n",
      "         [-0.0185, -3.9981],\n",
      "         [-0.0238, -3.7492]]], grad_fn=<ViewBackward>)\n",
      "tensor([[0, 0, 0,  ..., 0, 0, 0]])\n"
     ]
    }
   ],
   "source": [
    "point = point.transpose(1, 0).contiguous()\n",
    "\n",
    "point = Variable(point.view(1, point.size()[0], point.size()[1]))\n",
    "pred, _, _ = classifier(point)\n",
    "print(pred)\n",
    "pred_choice = pred.data.max(2)[1]\n",
    "print(pred_choice)"
   ]
  },
  {
   "cell_type": "code",
   "execution_count": 12,
   "id": "a9726e9c",
   "metadata": {
    "scrolled": true
   },
   "outputs": [
    {
     "name": "stdout",
     "output_type": "stream",
     "text": [
      "[0 0 0 ... 0 0 0]\n"
     ]
    }
   ],
   "source": [
    "print(pred_choice.numpy()[0])"
   ]
  },
  {
   "cell_type": "code",
   "execution_count": 14,
   "id": "505e1fea",
   "metadata": {},
   "outputs": [
    {
     "name": "stdout",
     "output_type": "stream",
     "text": [
      "2500\n"
     ]
    }
   ],
   "source": [
    "_list = list(pred_choice.numpy()[0])\n",
    "zeros = _list.count(0)\n",
    "print(zeros)"
   ]
  },
  {
   "cell_type": "code",
   "execution_count": 98,
   "id": "eb2b2334",
   "metadata": {},
   "outputs": [
    {
     "data": {
      "text/plain": [
       "113"
      ]
     },
     "execution_count": 98,
     "metadata": {},
     "output_type": "execute_result"
    }
   ],
   "source": [
    "#print(pred_choice.size())\n",
    "pred_color_zero = cmap[pred_choice.numpy()[0], :]\n",
    "\n",
    "#print(pred_color.shape)\n",
    "showpoints(point_np, gt, pred_color, normalizecolor=True)"
   ]
  },
  {
   "cell_type": "code",
   "execution_count": null,
   "id": "f3ab2420",
   "metadata": {},
   "outputs": [],
   "source": []
  },
  {
   "cell_type": "code",
   "execution_count": null,
   "id": "d1501109",
   "metadata": {},
   "outputs": [],
   "source": []
  }
 ],
 "metadata": {
  "kernelspec": {
   "display_name": "Python 3",
   "language": "python",
   "name": "python3"
  },
  "language_info": {
   "codemirror_mode": {
    "name": "ipython",
    "version": 3
   },
   "file_extension": ".py",
   "mimetype": "text/x-python",
   "name": "python",
   "nbconvert_exporter": "python",
   "pygments_lexer": "ipython3",
   "version": "3.7.11"
  }
 },
 "nbformat": 4,
 "nbformat_minor": 5
}
