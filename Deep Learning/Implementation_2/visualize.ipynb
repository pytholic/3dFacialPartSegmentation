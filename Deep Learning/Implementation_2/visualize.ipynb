{
 "cells": [
  {
   "cell_type": "code",
   "execution_count": 19,
   "id": "4a1ec717",
   "metadata": {},
   "outputs": [],
   "source": [
    "from __future__ import print_function\n",
    "from show3d_balls import showpoints\n",
    "import argparse\n",
    "import numpy as np\n",
    "import torch\n",
    "import torch.nn.parallel\n",
    "import torch.utils.data\n",
    "from torch.autograd import Variable\n",
    "from pointnet.dataset_custom import CustomDataset\n",
    "from pointnet.model import PointNetDenseCls\n",
    "import matplotlib.pyplot as plt\n",
    "import easydict"
   ]
  },
  {
   "cell_type": "code",
   "execution_count": 20,
   "id": "3e338924",
   "metadata": {},
   "outputs": [],
   "source": [
    "opt = easydict.EasyDict({'model': '/home/trojan/skia_projects/3d_facial_segmentation/part_segmentation/pointnet/pointnet.pytorch/seg/seg_model_Head_49.pth',\n",
    "                         'dataset': '/home/trojan/skia_projects/3d_facial_segmentation/part_segmentation/pointnet/pointnet.pytorch/datasets/head_data',\n",
    "                         'class_choice': 'Head',\n",
    "                        })"
   ]
  },
  {
   "cell_type": "code",
   "execution_count": 21,
   "id": "17fb70fd",
   "metadata": {},
   "outputs": [],
   "source": [
    "idx = 2"
   ]
  },
  {
   "cell_type": "code",
   "execution_count": 22,
   "id": "eaf39a0d",
   "metadata": {},
   "outputs": [],
   "source": [
    "d = CustomDataset(root=opt.dataset, \n",
    "                        classification=False, \n",
    "                        data_augmentation=False,\n",
    "                       split='test')"
   ]
  },
  {
   "cell_type": "code",
   "execution_count": 23,
   "id": "69a7108c",
   "metadata": {},
   "outputs": [
    {
     "name": "stdout",
     "output_type": "stream",
     "text": [
      "model 2/7\n",
      "torch.Size([2500, 3]) torch.Size([2500])\n"
     ]
    }
   ],
   "source": [
    "print(\"model %d/%d\" % (idx, len(d)))\n",
    "point, seg = d[idx]\n",
    "print(point.size(), seg.size())\n",
    "point_np = point.numpy()"
   ]
  },
  {
   "cell_type": "code",
   "execution_count": 24,
   "id": "4269361b",
   "metadata": {},
   "outputs": [],
   "source": [
    "cmap = plt.cm.get_cmap(\"hsv\", 10)\n",
    "cmap = np.array([cmap(i) for i in range(10)])[:, :3]\n",
    "gt = cmap[seg.numpy() - 1, :]\n"
   ]
  },
  {
   "cell_type": "code",
   "execution_count": 25,
   "id": "2971a39b",
   "metadata": {},
   "outputs": [
    {
     "data": {
      "text/plain": [
       "PointNetDenseCls(\n",
       "  (feat): PointNetfeat(\n",
       "    (stn): STN3d(\n",
       "      (conv1): Conv1d(3, 64, kernel_size=(1,), stride=(1,))\n",
       "      (conv2): Conv1d(64, 128, kernel_size=(1,), stride=(1,))\n",
       "      (conv3): Conv1d(128, 1024, kernel_size=(1,), stride=(1,))\n",
       "      (fc1): Linear(in_features=1024, out_features=512, bias=True)\n",
       "      (fc2): Linear(in_features=512, out_features=256, bias=True)\n",
       "      (fc3): Linear(in_features=256, out_features=9, bias=True)\n",
       "      (relu): ReLU()\n",
       "      (bn1): BatchNorm1d(64, eps=1e-05, momentum=0.1, affine=True, track_running_stats=True)\n",
       "      (bn2): BatchNorm1d(128, eps=1e-05, momentum=0.1, affine=True, track_running_stats=True)\n",
       "      (bn3): BatchNorm1d(1024, eps=1e-05, momentum=0.1, affine=True, track_running_stats=True)\n",
       "      (bn4): BatchNorm1d(512, eps=1e-05, momentum=0.1, affine=True, track_running_stats=True)\n",
       "      (bn5): BatchNorm1d(256, eps=1e-05, momentum=0.1, affine=True, track_running_stats=True)\n",
       "    )\n",
       "    (conv1): Conv1d(3, 64, kernel_size=(1,), stride=(1,))\n",
       "    (conv2): Conv1d(64, 128, kernel_size=(1,), stride=(1,))\n",
       "    (conv3): Conv1d(128, 1024, kernel_size=(1,), stride=(1,))\n",
       "    (bn1): BatchNorm1d(64, eps=1e-05, momentum=0.1, affine=True, track_running_stats=True)\n",
       "    (bn2): BatchNorm1d(128, eps=1e-05, momentum=0.1, affine=True, track_running_stats=True)\n",
       "    (bn3): BatchNorm1d(1024, eps=1e-05, momentum=0.1, affine=True, track_running_stats=True)\n",
       "  )\n",
       "  (conv1): Conv1d(1088, 512, kernel_size=(1,), stride=(1,))\n",
       "  (conv2): Conv1d(512, 256, kernel_size=(1,), stride=(1,))\n",
       "  (conv3): Conv1d(256, 128, kernel_size=(1,), stride=(1,))\n",
       "  (conv4): Conv1d(128, 2, kernel_size=(1,), stride=(1,))\n",
       "  (bn1): BatchNorm1d(512, eps=1e-05, momentum=0.1, affine=True, track_running_stats=True)\n",
       "  (bn2): BatchNorm1d(256, eps=1e-05, momentum=0.1, affine=True, track_running_stats=True)\n",
       "  (bn3): BatchNorm1d(128, eps=1e-05, momentum=0.1, affine=True, track_running_stats=True)\n",
       ")"
      ]
     },
     "execution_count": 25,
     "metadata": {},
     "output_type": "execute_result"
    }
   ],
   "source": [
    "state_dict = torch.load(opt.model)\n",
    "classifier = PointNetDenseCls(k= state_dict['conv4.weight'].size()[0])\n",
    "classifier.load_state_dict(state_dict,strict=False)\n",
    "classifier.eval()"
   ]
  },
  {
   "cell_type": "code",
   "execution_count": 26,
   "id": "a7f4e04e",
   "metadata": {},
   "outputs": [
    {
     "name": "stdout",
     "output_type": "stream",
     "text": [
      "tensor([[0, 0, 0,  ..., 0, 0, 0]])\n"
     ]
    }
   ],
   "source": [
    "point = point.transpose(1, 0).contiguous()\n",
    "\n",
    "point = Variable(point.view(1, point.size()[0], point.size()[1]))\n",
    "pred, _, _ = classifier(point)\n",
    "pred_choice = pred.data.max(2)[1]\n",
    "print(pred_choice)"
   ]
  },
  {
   "cell_type": "code",
   "execution_count": 36,
   "id": "5a1af0e2",
   "metadata": {},
   "outputs": [],
   "source": [
    "_list = pred_choice.tolist()[0]"
   ]
  },
  {
   "cell_type": "code",
   "execution_count": 39,
   "id": "e265ad64",
   "metadata": {},
   "outputs": [],
   "source": [
    "zeros = _list.count(0)"
   ]
  },
  {
   "cell_type": "code",
   "execution_count": 40,
   "id": "4f813146",
   "metadata": {},
   "outputs": [
    {
     "name": "stdout",
     "output_type": "stream",
     "text": [
      "2500\n"
     ]
    }
   ],
   "source": [
    "print(zeros)"
   ]
  },
  {
   "cell_type": "code",
   "execution_count": 9,
   "id": "c250b683",
   "metadata": {},
   "outputs": [
    {
     "data": {
      "text/plain": [
       "113"
      ]
     },
     "execution_count": 9,
     "metadata": {},
     "output_type": "execute_result"
    }
   ],
   "source": [
    "#print(pred_choice.size())\n",
    "pred_color = cmap[pred_choice.numpy()[0], :]\n",
    "\n",
    "#print(pred_color.shape)\n",
    "showpoints(point_np, gt, pred_color)"
   ]
  },
  {
   "cell_type": "code",
   "execution_count": null,
   "id": "12761e74",
   "metadata": {},
   "outputs": [],
   "source": []
  },
  {
   "cell_type": "code",
   "execution_count": null,
   "id": "cbf256db",
   "metadata": {},
   "outputs": [],
   "source": []
  }
 ],
 "metadata": {
  "kernelspec": {
   "display_name": "Python 3",
   "language": "python",
   "name": "python3"
  },
  "language_info": {
   "codemirror_mode": {
    "name": "ipython",
    "version": 3
   },
   "file_extension": ".py",
   "mimetype": "text/x-python",
   "name": "python",
   "nbconvert_exporter": "python",
   "pygments_lexer": "ipython3",
   "version": "3.7.11"
  }
 },
 "nbformat": 4,
 "nbformat_minor": 5
}
