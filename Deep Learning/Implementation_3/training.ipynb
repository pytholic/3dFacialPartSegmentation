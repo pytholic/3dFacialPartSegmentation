{
 "cells": [
  {
   "cell_type": "code",
   "execution_count": 11,
   "id": "aac2f3ca",
   "metadata": {},
   "outputs": [],
   "source": [
    "import argparse\n",
    "import os\n",
    "import torch\n",
    "import datetime\n",
    "import logging\n",
    "import sys\n",
    "import importlib\n",
    "import shutil\n",
    "import provider\n",
    "import numpy as np\n",
    "import easydict\n",
    "\n",
    "from pathlib import Path\n",
    "from tqdm import tqdm\n",
    "from data_utils.CustomDataLoader import PartNormalDataset"
   ]
  },
  {
   "cell_type": "code",
   "execution_count": 12,
   "id": "f7fbfbc8",
   "metadata": {},
   "outputs": [
    {
     "name": "stdout",
     "output_type": "stream",
     "text": [
      "/home/trojan/skia_projects/3d_facial_segmentation/part_segmentation/pointnet/Pointnet_Pointnet2_pytorch\n"
     ]
    }
   ],
   "source": [
    "BASE_DIR = os.getcwd()\n",
    "ROOT_DIR = BASE_DIR\n",
    "sys.path.append(os.path.join(ROOT_DIR, 'models'))\n",
    "print(BASE_DIR)"
   ]
  },
  {
   "cell_type": "code",
   "execution_count": 13,
   "id": "07791aca",
   "metadata": {},
   "outputs": [],
   "source": [
    "seg_classes = {'Head': [0, 1]}"
   ]
  },
  {
   "cell_type": "code",
   "execution_count": 14,
   "id": "af1426cc",
   "metadata": {},
   "outputs": [],
   "source": [
    "seg_label_to_cat = {}  # {0:Airplane, 1:Airplane, ...49:Table}\n",
    "for cat in seg_classes.keys():\n",
    "    for label in seg_classes[cat]:\n",
    "        seg_label_to_cat[label] = cat\n",
    "        \n",
    "#print(seg_label_to_cat)"
   ]
  },
  {
   "cell_type": "code",
   "execution_count": 15,
   "id": "2bd2b3c4",
   "metadata": {},
   "outputs": [],
   "source": [
    "def inplace_relu(m):\n",
    "    classname = m.__class__.__name__\n",
    "    if classname.find('ReLU') != -1:\n",
    "        m.inplace=True\n",
    "        \n",
    "def to_categorical(y, num_classes):\n",
    "    \"\"\" 1-hot encodes a tensor \"\"\"\n",
    "    new_y = torch.eye(num_classes)[y.cpu().data.numpy(),]\n",
    "    if (y.is_cuda):\n",
    "        return new_y.cuda()\n",
    "    return new_y"
   ]
  },
  {
   "cell_type": "code",
   "execution_count": 16,
   "id": "865c799a",
   "metadata": {},
   "outputs": [],
   "source": [
    "args = easydict.EasyDict({'model': 'pointnet_part_seg',\n",
    "                          'batch_size': 16,\n",
    "                          'epoch': 50,\n",
    "                          'learning_rate': 0.001,\n",
    "                          'gpu': '0',\n",
    "                          'optimizer': 'Adam',\n",
    "                          'log_dir': None,\n",
    "                          'decay_rate': 1e-4,\n",
    "                          'npoint': 2048,\n",
    "                          'normal': False,\n",
    "                          'step_size': 20,\n",
    "                          'lr_decay': 0.5\n",
    "                         })"
   ]
  },
  {
   "cell_type": "code",
   "execution_count": 17,
   "id": "4e7bbd55",
   "metadata": {},
   "outputs": [],
   "source": [
    "def main(args):\n",
    "    def log_string(str):\n",
    "        logger.info(str)\n",
    "        print(str)\n",
    "\n",
    "    '''HYPER PARAMETER'''\n",
    "    os.environ[\"CUDA_VISIBLE_DEVICES\"] = args.gpu\n",
    "\n",
    "    '''CREATE DIR'''\n",
    "    timestr = str(datetime.datetime.now().strftime('%Y-%m-%d_%H-%M'))\n",
    "    exp_dir = Path('./log/')\n",
    "    exp_dir.mkdir(exist_ok=True)\n",
    "    exp_dir = exp_dir.joinpath('part_seg')\n",
    "    exp_dir.mkdir(exist_ok=True)\n",
    "    if args.log_dir is None:\n",
    "        exp_dir = exp_dir.joinpath(timestr)\n",
    "    else:\n",
    "        exp_dir = exp_dir.joinpath(args.log_dir)\n",
    "    exp_dir.mkdir(exist_ok=True)\n",
    "    checkpoints_dir = exp_dir.joinpath('checkpoints/')\n",
    "    checkpoints_dir.mkdir(exist_ok=True)\n",
    "    log_dir = exp_dir.joinpath('logs/')\n",
    "    log_dir.mkdir(exist_ok=True)\n",
    "\n",
    "    '''LOG'''\n",
    "    logger = logging.getLogger(\"Model\")\n",
    "    logger.setLevel(logging.INFO)\n",
    "    formatter = logging.Formatter('%(asctime)s - %(name)s - %(levelname)s - %(message)s')\n",
    "    file_handler = logging.FileHandler('%s/%s.txt' % (log_dir, args.model))\n",
    "    file_handler.setLevel(logging.INFO)\n",
    "    file_handler.setFormatter(formatter)\n",
    "    logger.addHandler(file_handler)\n",
    "    log_string('PARAMETER ...')\n",
    "    log_string(args)\n",
    "\n",
    "    root = 'data/shapenetcore_partanno_segmentation_benchmark_v0_normal/'\n",
    "\n",
    "    TRAIN_DATASET = PartNormalDataset(root=root, npoints=args.npoint, split='trainval', normal_channel=args.normal)\n",
    "    trainDataLoader = torch.utils.data.DataLoader(TRAIN_DATASET, batch_size=args.batch_size, shuffle=True, num_workers=10, drop_last=False)\n",
    "    TEST_DATASET = TRAIN_DATASET\n",
    "    testDataLoader = trainDataLoader\n",
    "    log_string(\"The number of training data is: %d\" % len(TRAIN_DATASET))\n",
    "\n",
    "\n",
    "    num_classes = 1\n",
    "    num_part = 2\n",
    "\n",
    "    '''MODEL LOADING'''\n",
    "    MODEL = importlib.import_module(args.model)\n",
    "    shutil.copy('models/%s.py' % args.model, str(exp_dir))\n",
    "    shutil.copy('models/pointnet2_utils.py', str(exp_dir))\n",
    "\n",
    "    classifier = MODEL.get_model(num_part, normal_channel=args.normal).cuda()\n",
    "    criterion = MODEL.get_loss().cuda()\n",
    "    classifier.apply(inplace_relu)\n",
    "\n",
    "    def weights_init(m):\n",
    "        classname = m.__class__.__name__\n",
    "        if classname.find('Conv2d') != -1:\n",
    "            torch.nn.init.xavier_normal_(m.weight.data)\n",
    "            torch.nn.init.constant_(m.bias.data, 0.0)\n",
    "        elif classname.find('Linear') != -1:\n",
    "            torch.nn.init.xavier_normal_(m.weight.data)\n",
    "            torch.nn.init.constant_(m.bias.data, 0.0)\n",
    "\n",
    "    try:\n",
    "        checkpoint = torch.load(str(exp_dir) + '/checkpoints/best_model.pth')\n",
    "        start_epoch = checkpoint['epoch']\n",
    "        classifier.load_state_dict(checkpoint['model_state_dict'])\n",
    "        log_string('Use pretrain model')\n",
    "    except:\n",
    "        log_string('No existing model, starting training from scratch...')\n",
    "        start_epoch = 0\n",
    "        classifier = classifier.apply(weights_init)\n",
    "\n",
    "    if args.optimizer == 'Adam':\n",
    "        optimizer = torch.optim.Adam(\n",
    "            classifier.parameters(),\n",
    "            lr=args.learning_rate,\n",
    "            betas=(0.9, 0.999),\n",
    "            eps=1e-08,\n",
    "            weight_decay=args.decay_rate\n",
    "        )\n",
    "    else:\n",
    "        optimizer = torch.optim.SGD(classifier.parameters(), lr=args.learning_rate, momentum=0.9)\n",
    "\n",
    "    def bn_momentum_adjust(m, momentum):\n",
    "        if isinstance(m, torch.nn.BatchNorm2d) or isinstance(m, torch.nn.BatchNorm1d):\n",
    "            m.momentum = momentum\n",
    "\n",
    "    LEARNING_RATE_CLIP = 1e-5\n",
    "    MOMENTUM_ORIGINAL = 0.1\n",
    "    MOMENTUM_DECCAY = 0.5\n",
    "    MOMENTUM_DECCAY_STEP = args.step_size\n",
    "\n",
    "    best_acc = 0\n",
    "    global_epoch = 0\n",
    "    best_class_avg_iou = 0\n",
    "    best_inctance_avg_iou = 0\n",
    "\n",
    "    for epoch in range(start_epoch, args.epoch):\n",
    "        mean_correct = []\n",
    "\n",
    "        log_string('Epoch %d (%d/%s):' % (global_epoch + 1, epoch + 1, args.epoch))\n",
    "        '''Adjust learning rate and BN momentum'''\n",
    "        lr = max(args.learning_rate * (args.lr_decay ** (epoch // args.step_size)), LEARNING_RATE_CLIP)\n",
    "        log_string('Learning rate:%f' % lr)\n",
    "        for param_group in optimizer.param_groups:\n",
    "            param_group['lr'] = lr\n",
    "        momentum = MOMENTUM_ORIGINAL * (MOMENTUM_DECCAY ** (epoch // MOMENTUM_DECCAY_STEP))\n",
    "        if momentum < 0.01:\n",
    "            momentum = 0.01\n",
    "        print('BN momentum updated to: %f' % momentum)\n",
    "        classifier = classifier.apply(lambda x: bn_momentum_adjust(x, momentum))\n",
    "        classifier = classifier.train()\n",
    "\n",
    "        '''learning one epoch'''\n",
    "        for i, (points, label, target) in tqdm(enumerate(trainDataLoader), total=len(trainDataLoader), smoothing=0.9):\n",
    "            optimizer.zero_grad()\n",
    "\n",
    "            points = points.data.numpy()\n",
    "            points[:, :, 0:3] = provider.random_scale_point_cloud(points[:, :, 0:3])\n",
    "            points[:, :, 0:3] = provider.shift_point_cloud(points[:, :, 0:3])\n",
    "            points = torch.Tensor(points)\n",
    "            points, label, target = points.float().cuda(), label.long().cuda(), target.long().cuda()\n",
    "            points = points.transpose(2, 1)\n",
    "\n",
    "            seg_pred, trans_feat = classifier(points, to_categorical(label, num_classes))\n",
    "            seg_pred = seg_pred.contiguous().view(-1, num_part)\n",
    "            target = target.view(-1, 1)[:, 0]\n",
    "            pred_choice = seg_pred.data.max(1)[1]\n",
    "\n",
    "            correct = pred_choice.eq(target.data).cpu().sum()\n",
    "            mean_correct.append(correct.item() / (args.batch_size * args.npoint))\n",
    "            loss = criterion(seg_pred, target, trans_feat)\n",
    "            loss.backward()\n",
    "            optimizer.step()\n",
    "\n",
    "        train_instance_acc = np.mean(mean_correct)\n",
    "        log_string('Train accuracy is: %.5f' % train_instance_acc)\n",
    "\n",
    "        with torch.no_grad():\n",
    "            test_metrics = {}\n",
    "            total_correct = 0\n",
    "            total_seen = 0\n",
    "            total_seen_class = [0 for _ in range(num_part)]\n",
    "            total_correct_class = [0 for _ in range(num_part)]\n",
    "            shape_ious = {cat: [] for cat in seg_classes.keys()}\n",
    "            seg_label_to_cat = {}  # {0:Airplane, 1:Airplane, ...49:Table}\n",
    "\n",
    "            for cat in seg_classes.keys():\n",
    "                for label in seg_classes[cat]:\n",
    "                    seg_label_to_cat[label] = cat\n",
    "\n",
    "            classifier = classifier.eval()\n",
    "\n",
    "            for batch_id, (points, label, target) in tqdm(enumerate(testDataLoader), total=len(testDataLoader), smoothing=0.9):\n",
    "                cur_batch_size, NUM_POINT, _ = points.size()\n",
    "                points, label, target = points.float().cuda(), label.long().cuda(), target.long().cuda()\n",
    "                points = points.transpose(2, 1)\n",
    "                seg_pred, _ = classifier(points, to_categorical(label, num_classes))\n",
    "                cur_pred_val = seg_pred.cpu().data.numpy()\n",
    "                cur_pred_val_logits = cur_pred_val\n",
    "                cur_pred_val = np.zeros((cur_batch_size, NUM_POINT)).astype(np.int32)\n",
    "                target = target.cpu().data.numpy()\n",
    "\n",
    "                for i in range(cur_batch_size):\n",
    "                    cat = seg_label_to_cat[target[i, 0]]\n",
    "                    logits = cur_pred_val_logits[i, :, :]\n",
    "                    cur_pred_val[i, :] = np.argmax(logits[:, seg_classes[cat]], 1) + seg_classes[cat][0]\n",
    "\n",
    "                correct = np.sum(cur_pred_val == target)\n",
    "                total_correct += correct\n",
    "                total_seen += (cur_batch_size * NUM_POINT)\n",
    "\n",
    "                for l in range(num_part):\n",
    "                    total_seen_class[l] += np.sum(target == l)\n",
    "                    total_correct_class[l] += (np.sum((cur_pred_val == l) & (target == l)))\n",
    "\n",
    "                for i in range(cur_batch_size):\n",
    "                    segp = cur_pred_val[i, :]\n",
    "                    segl = target[i, :]\n",
    "                    cat = seg_label_to_cat[segl[0]]\n",
    "                    part_ious = [0.0 for _ in range(len(seg_classes[cat]))]\n",
    "                    for l in seg_classes[cat]:\n",
    "                        if (np.sum(segl == l) == 0) and (\n",
    "                                np.sum(segp == l) == 0):  # part is not present, no prediction as well\n",
    "                            part_ious[l - seg_classes[cat][0]] = 1.0\n",
    "                        else:\n",
    "                            part_ious[l - seg_classes[cat][0]] = np.sum((segl == l) & (segp == l)) / float(\n",
    "                                np.sum((segl == l) | (segp == l)))\n",
    "                    shape_ious[cat].append(np.mean(part_ious))\n",
    "\n",
    "            all_shape_ious = []\n",
    "            for cat in shape_ious.keys():\n",
    "                for iou in shape_ious[cat]:\n",
    "                    all_shape_ious.append(iou)\n",
    "                shape_ious[cat] = np.mean(shape_ious[cat])\n",
    "            mean_shape_ious = np.mean(list(shape_ious.values()))\n",
    "            test_metrics['accuracy'] = total_correct / float(total_seen)\n",
    "            test_metrics['class_avg_accuracy'] = np.mean(\n",
    "                np.array(total_correct_class) / np.array(total_seen_class, dtype=np.float))\n",
    "            for cat in sorted(shape_ious.keys()):\n",
    "                log_string('eval mIoU of %s %f' % (cat + ' ' * (14 - len(cat)), shape_ious[cat]))\n",
    "            test_metrics['class_avg_iou'] = mean_shape_ious\n",
    "            test_metrics['inctance_avg_iou'] = np.mean(all_shape_ious)\n",
    "\n",
    "        log_string('Epoch %d test Accuracy: %f  Class avg mIOU: %f   Inctance avg mIOU: %f' % (\n",
    "            epoch + 1, test_metrics['accuracy'], test_metrics['class_avg_iou'], test_metrics['inctance_avg_iou']))\n",
    "        if (test_metrics['inctance_avg_iou'] >= best_inctance_avg_iou):\n",
    "            logger.info('Save model...')\n",
    "            savepath = str(checkpoints_dir) + '/best_model.pth'\n",
    "            log_string('Saving at %s' % savepath)\n",
    "            state = {\n",
    "                'epoch': epoch,\n",
    "                'train_acc': train_instance_acc,\n",
    "                'test_acc': test_metrics['accuracy'],\n",
    "                'class_avg_iou': test_metrics['class_avg_iou'],\n",
    "                'inctance_avg_iou': test_metrics['inctance_avg_iou'],\n",
    "                'model_state_dict': classifier.state_dict(),\n",
    "                'optimizer_state_dict': optimizer.state_dict(),\n",
    "            }\n",
    "            torch.save(state, savepath)\n",
    "            log_string('Saving model....')\n",
    "\n",
    "        if test_metrics['accuracy'] > best_acc:\n",
    "            best_acc = test_metrics['accuracy']\n",
    "        if test_metrics['class_avg_iou'] > best_class_avg_iou:\n",
    "            best_class_avg_iou = test_metrics['class_avg_iou']\n",
    "        if test_metrics['inctance_avg_iou'] > best_inctance_avg_iou:\n",
    "            best_inctance_avg_iou = test_metrics['inctance_avg_iou']\n",
    "        log_string('Best accuracy is: %.5f' % best_acc)\n",
    "        log_string('Best class avg mIOU is: %.5f' % best_class_avg_iou)\n",
    "        log_string('Best inctance avg mIOU is: %.5f' % best_inctance_avg_iou)\n",
    "        global_epoch += 1"
   ]
  },
  {
   "cell_type": "code",
   "execution_count": 18,
   "id": "2ba0b1bc",
   "metadata": {},
   "outputs": [
    {
     "name": "stdout",
     "output_type": "stream",
     "text": [
      "PARAMETER ...\n",
      "{'model': 'pointnet_part_seg', 'batch_size': 16, 'epoch': 50, 'learning_rate': 0.001, 'gpu': '0', 'optimizer': 'Adam', 'log_dir': None, 'decay_rate': 0.0001, 'npoint': 2048, 'normal': False, 'step_size': 20, 'lr_decay': 0.5}\n",
      "The number of training data is: 7\n",
      "No existing model, starting training from scratch...\n",
      "Epoch 1 (1/50):\n",
      "Learning rate:0.001000\n",
      "BN momentum updated to: 0.100000\n"
     ]
    },
    {
     "name": "stderr",
     "output_type": "stream",
     "text": [
      "100%|██████████| 1/1 [00:00<00:00,  2.65it/s]"
     ]
    },
    {
     "name": "stdout",
     "output_type": "stream",
     "text": [
      "Train accuracy is: 0.24591\n"
     ]
    },
    {
     "name": "stderr",
     "output_type": "stream",
     "text": [
      "\n",
      "100%|██████████| 1/1 [00:00<00:00,  3.01it/s]"
     ]
    },
    {
     "name": "stdout",
     "output_type": "stream",
     "text": [
      "eval mIoU of Head           0.449568\n",
      "Epoch 1 test Accuracy: 0.899135  Class avg mIOU: 0.449568   Inctance avg mIOU: 0.449568\n",
      "Saving at log/part_seg/2021-08-11_14-37/checkpoints/best_model.pth\n",
      "Saving model....\n",
      "Best accuracy is: 0.89914\n",
      "Best class avg mIOU is: 0.44957\n",
      "Best inctance avg mIOU is: 0.44957\n",
      "Epoch 2 (2/50):\n",
      "Learning rate:0.001000\n",
      "BN momentum updated to: 0.100000\n"
     ]
    },
    {
     "name": "stderr",
     "output_type": "stream",
     "text": [
      "\n",
      "100%|██████████| 1/1 [00:00<00:00,  2.67it/s]"
     ]
    },
    {
     "name": "stdout",
     "output_type": "stream",
     "text": [
      "Train accuracy is: 0.23300\n"
     ]
    },
    {
     "name": "stderr",
     "output_type": "stream",
     "text": [
      "\n",
      "100%|██████████| 1/1 [00:00<00:00,  2.97it/s]"
     ]
    },
    {
     "name": "stdout",
     "output_type": "stream",
     "text": [
      "eval mIoU of Head           0.449428\n",
      "Epoch 2 test Accuracy: 0.898856  Class avg mIOU: 0.449428   Inctance avg mIOU: 0.449428\n",
      "Best accuracy is: 0.89914\n",
      "Best class avg mIOU is: 0.44957\n",
      "Best inctance avg mIOU is: 0.44957\n",
      "Epoch 3 (3/50):\n",
      "Learning rate:0.001000\n",
      "BN momentum updated to: 0.100000\n"
     ]
    },
    {
     "name": "stderr",
     "output_type": "stream",
     "text": [
      "\n",
      "100%|██████████| 1/1 [00:00<00:00,  2.78it/s]"
     ]
    },
    {
     "name": "stdout",
     "output_type": "stream",
     "text": [
      "Train accuracy is: 0.28284\n"
     ]
    },
    {
     "name": "stderr",
     "output_type": "stream",
     "text": [
      "\n",
      "100%|██████████| 1/1 [00:00<00:00,  2.96it/s]"
     ]
    },
    {
     "name": "stdout",
     "output_type": "stream",
     "text": [
      "eval mIoU of Head           0.448835\n",
      "Epoch 3 test Accuracy: 0.897670  Class avg mIOU: 0.448835   Inctance avg mIOU: 0.448835\n",
      "Best accuracy is: 0.89914\n",
      "Best class avg mIOU is: 0.44957\n",
      "Best inctance avg mIOU is: 0.44957\n",
      "Epoch 4 (4/50):\n",
      "Learning rate:0.001000\n",
      "BN momentum updated to: 0.100000\n"
     ]
    },
    {
     "name": "stderr",
     "output_type": "stream",
     "text": [
      "\n",
      "100%|██████████| 1/1 [00:00<00:00,  2.72it/s]"
     ]
    },
    {
     "name": "stdout",
     "output_type": "stream",
     "text": [
      "Train accuracy is: 0.38010\n"
     ]
    },
    {
     "name": "stderr",
     "output_type": "stream",
     "text": [
      "\n",
      "100%|██████████| 1/1 [00:00<00:00,  2.99it/s]"
     ]
    },
    {
     "name": "stdout",
     "output_type": "stream",
     "text": [
      "eval mIoU of Head           0.447998\n",
      "Epoch 4 test Accuracy: 0.895996  Class avg mIOU: 0.447998   Inctance avg mIOU: 0.447998\n",
      "Best accuracy is: 0.89914\n",
      "Best class avg mIOU is: 0.44957\n",
      "Best inctance avg mIOU is: 0.44957\n",
      "Epoch 5 (5/50):\n",
      "Learning rate:0.001000\n",
      "BN momentum updated to: 0.100000\n"
     ]
    },
    {
     "name": "stderr",
     "output_type": "stream",
     "text": [
      "\n",
      "100%|██████████| 1/1 [00:00<00:00,  2.73it/s]"
     ]
    },
    {
     "name": "stdout",
     "output_type": "stream",
     "text": [
      "Train accuracy is: 0.38815\n"
     ]
    },
    {
     "name": "stderr",
     "output_type": "stream",
     "text": [
      "\n",
      "100%|██████████| 1/1 [00:00<00:00,  3.01it/s]"
     ]
    },
    {
     "name": "stdout",
     "output_type": "stream",
     "text": [
      "eval mIoU of Head           0.448242\n",
      "Epoch 5 test Accuracy: 0.896484  Class avg mIOU: 0.448242   Inctance avg mIOU: 0.448242\n",
      "Best accuracy is: 0.89914\n",
      "Best class avg mIOU is: 0.44957\n",
      "Best inctance avg mIOU is: 0.44957\n",
      "Epoch 6 (6/50):\n",
      "Learning rate:0.001000\n",
      "BN momentum updated to: 0.100000\n"
     ]
    },
    {
     "name": "stderr",
     "output_type": "stream",
     "text": [
      "\n",
      "100%|██████████| 1/1 [00:00<00:00,  2.76it/s]"
     ]
    },
    {
     "name": "stdout",
     "output_type": "stream",
     "text": [
      "Train accuracy is: 0.38132\n"
     ]
    },
    {
     "name": "stderr",
     "output_type": "stream",
     "text": [
      "\n",
      "100%|██████████| 1/1 [00:00<00:00,  2.87it/s]"
     ]
    },
    {
     "name": "stdout",
     "output_type": "stream",
     "text": [
      "eval mIoU of Head           0.447370\n",
      "Epoch 6 test Accuracy: 0.894741  Class avg mIOU: 0.447370   Inctance avg mIOU: 0.447370\n",
      "Best accuracy is: 0.89914\n",
      "Best class avg mIOU is: 0.44957\n",
      "Best inctance avg mIOU is: 0.44957\n",
      "Epoch 7 (7/50):\n",
      "Learning rate:0.001000\n",
      "BN momentum updated to: 0.100000\n"
     ]
    },
    {
     "name": "stderr",
     "output_type": "stream",
     "text": [
      "\n",
      "100%|██████████| 1/1 [00:00<00:00,  2.71it/s]"
     ]
    },
    {
     "name": "stdout",
     "output_type": "stream",
     "text": [
      "Train accuracy is: 0.38794\n"
     ]
    },
    {
     "name": "stderr",
     "output_type": "stream",
     "text": [
      "\n",
      "100%|██████████| 1/1 [00:00<00:00,  3.13it/s]"
     ]
    },
    {
     "name": "stdout",
     "output_type": "stream",
     "text": [
      "eval mIoU of Head           0.447719\n",
      "Epoch 7 test Accuracy: 0.895438  Class avg mIOU: 0.447719   Inctance avg mIOU: 0.447719\n",
      "Best accuracy is: 0.89914\n",
      "Best class avg mIOU is: 0.44957\n",
      "Best inctance avg mIOU is: 0.44957\n",
      "Epoch 8 (8/50):\n",
      "Learning rate:0.001000\n",
      "BN momentum updated to: 0.100000\n"
     ]
    },
    {
     "name": "stderr",
     "output_type": "stream",
     "text": [
      "\n",
      "100%|██████████| 1/1 [00:00<00:00,  2.69it/s]"
     ]
    },
    {
     "name": "stdout",
     "output_type": "stream",
     "text": [
      "Train accuracy is: 0.39322\n"
     ]
    },
    {
     "name": "stderr",
     "output_type": "stream",
     "text": [
      "\n",
      "100%|██████████| 1/1 [00:00<00:00,  3.05it/s]"
     ]
    },
    {
     "name": "stdout",
     "output_type": "stream",
     "text": [
      "eval mIoU of Head           0.448207\n",
      "Epoch 8 test Accuracy: 0.896415  Class avg mIOU: 0.448207   Inctance avg mIOU: 0.448207\n",
      "Best accuracy is: 0.89914\n",
      "Best class avg mIOU is: 0.44957\n",
      "Best inctance avg mIOU is: 0.44957\n",
      "Epoch 9 (9/50):\n",
      "Learning rate:0.001000\n",
      "BN momentum updated to: 0.100000\n"
     ]
    },
    {
     "name": "stderr",
     "output_type": "stream",
     "text": [
      "\n",
      "100%|██████████| 1/1 [00:00<00:00,  2.62it/s]"
     ]
    },
    {
     "name": "stdout",
     "output_type": "stream",
     "text": [
      "Train accuracy is: 0.38754\n"
     ]
    },
    {
     "name": "stderr",
     "output_type": "stream",
     "text": [
      "\n",
      "100%|██████████| 1/1 [00:00<00:00,  3.09it/s]"
     ]
    },
    {
     "name": "stdout",
     "output_type": "stream",
     "text": [
      "eval mIoU of Head           0.449009\n",
      "Epoch 9 test Accuracy: 0.898019  Class avg mIOU: 0.449009   Inctance avg mIOU: 0.449009\n",
      "Best accuracy is: 0.89914\n",
      "Best class avg mIOU is: 0.44957\n",
      "Best inctance avg mIOU is: 0.44957\n",
      "Epoch 10 (10/50):\n",
      "Learning rate:0.001000\n",
      "BN momentum updated to: 0.100000\n"
     ]
    },
    {
     "name": "stderr",
     "output_type": "stream",
     "text": [
      "\n",
      "100%|██████████| 1/1 [00:00<00:00,  2.69it/s]"
     ]
    },
    {
     "name": "stdout",
     "output_type": "stream",
     "text": [
      "Train accuracy is: 0.39291\n"
     ]
    },
    {
     "name": "stderr",
     "output_type": "stream",
     "text": [
      "\n",
      "100%|██████████| 1/1 [00:00<00:00,  3.05it/s]"
     ]
    },
    {
     "name": "stdout",
     "output_type": "stream",
     "text": [
      "eval mIoU of Head           0.448103\n",
      "Epoch 10 test Accuracy: 0.896205  Class avg mIOU: 0.448103   Inctance avg mIOU: 0.448103\n",
      "Best accuracy is: 0.89914\n",
      "Best class avg mIOU is: 0.44957\n",
      "Best inctance avg mIOU is: 0.44957\n",
      "Epoch 11 (11/50):\n",
      "Learning rate:0.001000\n",
      "BN momentum updated to: 0.100000\n"
     ]
    },
    {
     "name": "stderr",
     "output_type": "stream",
     "text": [
      "\n",
      "100%|██████████| 1/1 [00:00<00:00,  2.78it/s]"
     ]
    },
    {
     "name": "stdout",
     "output_type": "stream",
     "text": [
      "Train accuracy is: 0.39215\n"
     ]
    },
    {
     "name": "stderr",
     "output_type": "stream",
     "text": [
      "\n",
      "100%|██████████| 1/1 [00:00<00:00,  3.06it/s]"
     ]
    },
    {
     "name": "stdout",
     "output_type": "stream",
     "text": [
      "eval mIoU of Head           0.448312\n",
      "Epoch 11 test Accuracy: 0.896624  Class avg mIOU: 0.448312   Inctance avg mIOU: 0.448312\n",
      "Best accuracy is: 0.89914\n",
      "Best class avg mIOU is: 0.44957\n",
      "Best inctance avg mIOU is: 0.44957\n",
      "Epoch 12 (12/50):\n",
      "Learning rate:0.001000\n",
      "BN momentum updated to: 0.100000\n"
     ]
    },
    {
     "name": "stderr",
     "output_type": "stream",
     "text": [
      "\n",
      "100%|██████████| 1/1 [00:00<00:00,  2.68it/s]"
     ]
    },
    {
     "name": "stdout",
     "output_type": "stream",
     "text": [
      "Train accuracy is: 0.39127\n"
     ]
    },
    {
     "name": "stderr",
     "output_type": "stream",
     "text": [
      "\n",
      "100%|██████████| 1/1 [00:00<00:00,  3.09it/s]"
     ]
    },
    {
     "name": "stdout",
     "output_type": "stream",
     "text": [
      "eval mIoU of Head           0.448870\n",
      "Epoch 12 test Accuracy: 0.897740  Class avg mIOU: 0.448870   Inctance avg mIOU: 0.448870\n",
      "Best accuracy is: 0.89914\n",
      "Best class avg mIOU is: 0.44957\n",
      "Best inctance avg mIOU is: 0.44957\n",
      "Epoch 13 (13/50):\n",
      "Learning rate:0.001000\n",
      "BN momentum updated to: 0.100000\n"
     ]
    },
    {
     "name": "stderr",
     "output_type": "stream",
     "text": [
      "\n",
      "100%|██████████| 1/1 [00:00<00:00,  2.67it/s]"
     ]
    },
    {
     "name": "stdout",
     "output_type": "stream",
     "text": [
      "Train accuracy is: 0.39233\n"
     ]
    },
    {
     "name": "stderr",
     "output_type": "stream",
     "text": [
      "\n",
      "100%|██████████| 1/1 [00:00<00:00,  3.02it/s]"
     ]
    },
    {
     "name": "stdout",
     "output_type": "stream",
     "text": [
      "eval mIoU of Head           0.448207\n",
      "Epoch 13 test Accuracy: 0.896415  Class avg mIOU: 0.448207   Inctance avg mIOU: 0.448207\n",
      "Best accuracy is: 0.89914\n",
      "Best class avg mIOU is: 0.44957\n",
      "Best inctance avg mIOU is: 0.44957\n",
      "Epoch 14 (14/50):\n",
      "Learning rate:0.001000\n",
      "BN momentum updated to: 0.100000\n"
     ]
    },
    {
     "name": "stderr",
     "output_type": "stream",
     "text": [
      "\n",
      "100%|██████████| 1/1 [00:00<00:00,  2.73it/s]"
     ]
    },
    {
     "name": "stdout",
     "output_type": "stream",
     "text": [
      "Train accuracy is: 0.39246\n"
     ]
    },
    {
     "name": "stderr",
     "output_type": "stream",
     "text": [
      "\n",
      "100%|██████████| 1/1 [00:00<00:00,  3.03it/s]"
     ]
    },
    {
     "name": "stdout",
     "output_type": "stream",
     "text": [
      "eval mIoU of Head           0.448172\n",
      "Epoch 14 test Accuracy: 0.896345  Class avg mIOU: 0.448172   Inctance avg mIOU: 0.448172\n",
      "Best accuracy is: 0.89914\n",
      "Best class avg mIOU is: 0.44957\n",
      "Best inctance avg mIOU is: 0.44957\n",
      "Epoch 15 (15/50):\n",
      "Learning rate:0.001000\n",
      "BN momentum updated to: 0.100000\n"
     ]
    },
    {
     "name": "stderr",
     "output_type": "stream",
     "text": [
      "\n",
      "100%|██████████| 1/1 [00:00<00:00,  2.67it/s]"
     ]
    },
    {
     "name": "stdout",
     "output_type": "stream",
     "text": [
      "Train accuracy is: 0.39267\n"
     ]
    },
    {
     "name": "stderr",
     "output_type": "stream",
     "text": [
      "\n",
      "100%|██████████| 1/1 [00:00<00:00,  3.00it/s]"
     ]
    },
    {
     "name": "stdout",
     "output_type": "stream",
     "text": [
      "eval mIoU of Head           0.448347\n",
      "Epoch 15 test Accuracy: 0.896694  Class avg mIOU: 0.448347   Inctance avg mIOU: 0.448347\n",
      "Best accuracy is: 0.89914\n",
      "Best class avg mIOU is: 0.44957\n",
      "Best inctance avg mIOU is: 0.44957\n",
      "Epoch 16 (16/50):\n",
      "Learning rate:0.001000\n",
      "BN momentum updated to: 0.100000\n"
     ]
    },
    {
     "name": "stderr",
     "output_type": "stream",
     "text": [
      "\n",
      "100%|██████████| 1/1 [00:00<00:00,  2.70it/s]"
     ]
    },
    {
     "name": "stdout",
     "output_type": "stream",
     "text": [
      "Train accuracy is: 0.39252\n"
     ]
    },
    {
     "name": "stderr",
     "output_type": "stream",
     "text": [
      "\n",
      "100%|██████████| 1/1 [00:00<00:00,  3.04it/s]"
     ]
    },
    {
     "name": "stdout",
     "output_type": "stream",
     "text": [
      "eval mIoU of Head           0.448242\n",
      "Epoch 16 test Accuracy: 0.896484  Class avg mIOU: 0.448242   Inctance avg mIOU: 0.448242\n",
      "Best accuracy is: 0.89914\n",
      "Best class avg mIOU is: 0.44957\n",
      "Best inctance avg mIOU is: 0.44957\n",
      "Epoch 17 (17/50):\n",
      "Learning rate:0.001000\n",
      "BN momentum updated to: 0.100000\n"
     ]
    },
    {
     "name": "stderr",
     "output_type": "stream",
     "text": [
      "\n",
      "100%|██████████| 1/1 [00:00<00:00,  2.93it/s]"
     ]
    },
    {
     "name": "stdout",
     "output_type": "stream",
     "text": [
      "Train accuracy is: 0.39246\n"
     ]
    },
    {
     "name": "stderr",
     "output_type": "stream",
     "text": [
      "\n",
      "100%|██████████| 1/1 [00:00<00:00,  3.21it/s]"
     ]
    },
    {
     "name": "stdout",
     "output_type": "stream",
     "text": [
      "eval mIoU of Head           0.448800\n",
      "Epoch 17 test Accuracy: 0.897600  Class avg mIOU: 0.448800   Inctance avg mIOU: 0.448800\n",
      "Best accuracy is: 0.89914\n",
      "Best class avg mIOU is: 0.44957\n",
      "Best inctance avg mIOU is: 0.44957\n",
      "Epoch 18 (18/50):\n",
      "Learning rate:0.001000\n",
      "BN momentum updated to: 0.100000\n"
     ]
    },
    {
     "name": "stderr",
     "output_type": "stream",
     "text": [
      "\n",
      "100%|██████████| 1/1 [00:00<00:00,  2.94it/s]"
     ]
    },
    {
     "name": "stdout",
     "output_type": "stream",
     "text": [
      "Train accuracy is: 0.39255\n"
     ]
    },
    {
     "name": "stderr",
     "output_type": "stream",
     "text": [
      "\n",
      "100%|██████████| 1/1 [00:00<00:00,  3.29it/s]"
     ]
    },
    {
     "name": "stdout",
     "output_type": "stream",
     "text": [
      "eval mIoU of Head           0.448312\n",
      "Epoch 18 test Accuracy: 0.896624  Class avg mIOU: 0.448312   Inctance avg mIOU: 0.448312\n",
      "Best accuracy is: 0.89914\n",
      "Best class avg mIOU is: 0.44957\n",
      "Best inctance avg mIOU is: 0.44957\n",
      "Epoch 19 (19/50):\n",
      "Learning rate:0.001000\n",
      "BN momentum updated to: 0.100000\n"
     ]
    },
    {
     "name": "stderr",
     "output_type": "stream",
     "text": [
      "\n",
      "100%|██████████| 1/1 [00:00<00:00,  2.88it/s]"
     ]
    },
    {
     "name": "stdout",
     "output_type": "stream",
     "text": [
      "Train accuracy is: 0.39261\n"
     ]
    },
    {
     "name": "stderr",
     "output_type": "stream",
     "text": [
      "\n",
      "100%|██████████| 1/1 [00:00<00:00,  3.20it/s]"
     ]
    },
    {
     "name": "stdout",
     "output_type": "stream",
     "text": [
      "eval mIoU of Head           0.447893\n",
      "Epoch 19 test Accuracy: 0.895787  Class avg mIOU: 0.447893   Inctance avg mIOU: 0.447893\n",
      "Best accuracy is: 0.89914\n",
      "Best class avg mIOU is: 0.44957\n",
      "Best inctance avg mIOU is: 0.44957\n",
      "Epoch 20 (20/50):\n",
      "Learning rate:0.001000\n",
      "BN momentum updated to: 0.100000\n"
     ]
    },
    {
     "name": "stderr",
     "output_type": "stream",
     "text": [
      "\n",
      "100%|██████████| 1/1 [00:00<00:00,  2.86it/s]"
     ]
    },
    {
     "name": "stdout",
     "output_type": "stream",
     "text": [
      "Train accuracy is: 0.39236\n"
     ]
    },
    {
     "name": "stderr",
     "output_type": "stream",
     "text": [
      "\n",
      "100%|██████████| 1/1 [00:00<00:00,  3.32it/s]"
     ]
    },
    {
     "name": "stdout",
     "output_type": "stream",
     "text": [
      "eval mIoU of Head           0.448696\n",
      "Epoch 20 test Accuracy: 0.897391  Class avg mIOU: 0.448696   Inctance avg mIOU: 0.448696\n",
      "Best accuracy is: 0.89914\n",
      "Best class avg mIOU is: 0.44957\n",
      "Best inctance avg mIOU is: 0.44957\n",
      "Epoch 21 (21/50):\n",
      "Learning rate:0.000500\n",
      "BN momentum updated to: 0.050000\n"
     ]
    },
    {
     "name": "stderr",
     "output_type": "stream",
     "text": [
      "\n",
      "100%|██████████| 1/1 [00:00<00:00,  2.91it/s]"
     ]
    },
    {
     "name": "stdout",
     "output_type": "stream",
     "text": [
      "Train accuracy is: 0.39255\n"
     ]
    },
    {
     "name": "stderr",
     "output_type": "stream",
     "text": [
      "\n",
      "100%|██████████| 1/1 [00:00<00:00,  3.23it/s]"
     ]
    },
    {
     "name": "stdout",
     "output_type": "stream",
     "text": [
      "eval mIoU of Head           0.448451\n",
      "Epoch 21 test Accuracy: 0.896903  Class avg mIOU: 0.448451   Inctance avg mIOU: 0.448451\n",
      "Best accuracy is: 0.89914\n",
      "Best class avg mIOU is: 0.44957\n",
      "Best inctance avg mIOU is: 0.44957\n",
      "Epoch 22 (22/50):\n",
      "Learning rate:0.000500\n",
      "BN momentum updated to: 0.050000\n"
     ]
    },
    {
     "name": "stderr",
     "output_type": "stream",
     "text": [
      "\n",
      "100%|██████████| 1/1 [00:00<00:00,  2.85it/s]"
     ]
    },
    {
     "name": "stdout",
     "output_type": "stream",
     "text": [
      "Train accuracy is: 0.39197\n"
     ]
    },
    {
     "name": "stderr",
     "output_type": "stream",
     "text": [
      "\n",
      "100%|██████████| 1/1 [00:00<00:00,  3.31it/s]"
     ]
    },
    {
     "name": "stdout",
     "output_type": "stream",
     "text": [
      "eval mIoU of Head           0.448975\n",
      "Epoch 22 test Accuracy: 0.897949  Class avg mIOU: 0.448975   Inctance avg mIOU: 0.448975\n",
      "Best accuracy is: 0.89914\n",
      "Best class avg mIOU is: 0.44957\n",
      "Best inctance avg mIOU is: 0.44957\n",
      "Epoch 23 (23/50):\n",
      "Learning rate:0.000500\n",
      "BN momentum updated to: 0.050000\n"
     ]
    },
    {
     "name": "stderr",
     "output_type": "stream",
     "text": [
      "\n",
      "100%|██████████| 1/1 [00:00<00:00,  2.95it/s]"
     ]
    },
    {
     "name": "stdout",
     "output_type": "stream",
     "text": [
      "Train accuracy is: 0.39206\n"
     ]
    },
    {
     "name": "stderr",
     "output_type": "stream",
     "text": [
      "\n",
      "100%|██████████| 1/1 [00:00<00:00,  3.08it/s]"
     ]
    },
    {
     "name": "stdout",
     "output_type": "stream",
     "text": [
      "eval mIoU of Head           0.448103\n",
      "Epoch 23 test Accuracy: 0.896205  Class avg mIOU: 0.448103   Inctance avg mIOU: 0.448103\n",
      "Best accuracy is: 0.89914\n",
      "Best class avg mIOU is: 0.44957\n",
      "Best inctance avg mIOU is: 0.44957\n",
      "Epoch 24 (24/50):\n",
      "Learning rate:0.000500\n",
      "BN momentum updated to: 0.050000\n"
     ]
    },
    {
     "name": "stderr",
     "output_type": "stream",
     "text": [
      "\n",
      "100%|██████████| 1/1 [00:00<00:00,  2.91it/s]"
     ]
    },
    {
     "name": "stdout",
     "output_type": "stream",
     "text": [
      "Train accuracy is: 0.39252\n"
     ]
    },
    {
     "name": "stderr",
     "output_type": "stream",
     "text": [
      "\n",
      "100%|██████████| 1/1 [00:00<00:00,  3.34it/s]"
     ]
    },
    {
     "name": "stdout",
     "output_type": "stream",
     "text": [
      "eval mIoU of Head           0.447649\n",
      "Epoch 24 test Accuracy: 0.895299  Class avg mIOU: 0.447649   Inctance avg mIOU: 0.447649\n",
      "Best accuracy is: 0.89914\n",
      "Best class avg mIOU is: 0.44957\n",
      "Best inctance avg mIOU is: 0.44957\n",
      "Epoch 25 (25/50):\n",
      "Learning rate:0.000500\n",
      "BN momentum updated to: 0.050000\n"
     ]
    },
    {
     "name": "stderr",
     "output_type": "stream",
     "text": [
      "\n",
      "100%|██████████| 1/1 [00:00<00:00,  2.95it/s]"
     ]
    },
    {
     "name": "stdout",
     "output_type": "stream",
     "text": [
      "Train accuracy is: 0.39252\n"
     ]
    },
    {
     "name": "stderr",
     "output_type": "stream",
     "text": [
      "\n",
      "100%|██████████| 1/1 [00:00<00:00,  3.29it/s]"
     ]
    },
    {
     "name": "stdout",
     "output_type": "stream",
     "text": [
      "eval mIoU of Head           0.446812\n",
      "Epoch 25 test Accuracy: 0.893624  Class avg mIOU: 0.446812   Inctance avg mIOU: 0.446812\n",
      "Best accuracy is: 0.89914\n",
      "Best class avg mIOU is: 0.44957\n",
      "Best inctance avg mIOU is: 0.44957\n",
      "Epoch 26 (26/50):\n",
      "Learning rate:0.000500\n",
      "BN momentum updated to: 0.050000\n"
     ]
    },
    {
     "name": "stderr",
     "output_type": "stream",
     "text": [
      "\n",
      "100%|██████████| 1/1 [00:00<00:00,  2.92it/s]"
     ]
    },
    {
     "name": "stdout",
     "output_type": "stream",
     "text": [
      "Train accuracy is: 0.39215\n"
     ]
    },
    {
     "name": "stderr",
     "output_type": "stream",
     "text": [
      "\n",
      "100%|██████████| 1/1 [00:00<00:00,  3.26it/s]"
     ]
    },
    {
     "name": "stdout",
     "output_type": "stream",
     "text": [
      "eval mIoU of Head           0.448556\n",
      "Epoch 26 test Accuracy: 0.897112  Class avg mIOU: 0.448556   Inctance avg mIOU: 0.448556\n",
      "Best accuracy is: 0.89914\n",
      "Best class avg mIOU is: 0.44957\n",
      "Best inctance avg mIOU is: 0.44957\n",
      "Epoch 27 (27/50):\n",
      "Learning rate:0.000500\n",
      "BN momentum updated to: 0.050000\n"
     ]
    },
    {
     "name": "stderr",
     "output_type": "stream",
     "text": [
      "\n",
      "100%|██████████| 1/1 [00:00<00:00,  2.94it/s]"
     ]
    },
    {
     "name": "stdout",
     "output_type": "stream",
     "text": [
      "Train accuracy is: 0.39215\n"
     ]
    },
    {
     "name": "stderr",
     "output_type": "stream",
     "text": [
      "\n",
      "100%|██████████| 1/1 [00:00<00:00,  3.17it/s]"
     ]
    },
    {
     "name": "stdout",
     "output_type": "stream",
     "text": [
      "eval mIoU of Head           0.448382\n",
      "Epoch 27 test Accuracy: 0.896763  Class avg mIOU: 0.448382   Inctance avg mIOU: 0.448382\n",
      "Best accuracy is: 0.89914\n",
      "Best class avg mIOU is: 0.44957\n",
      "Best inctance avg mIOU is: 0.44957\n",
      "Epoch 28 (28/50):\n",
      "Learning rate:0.000500\n",
      "BN momentum updated to: 0.050000\n"
     ]
    },
    {
     "name": "stderr",
     "output_type": "stream",
     "text": [
      "\n",
      "100%|██████████| 1/1 [00:00<00:00,  2.87it/s]"
     ]
    },
    {
     "name": "stdout",
     "output_type": "stream",
     "text": [
      "Train accuracy is: 0.39194\n"
     ]
    },
    {
     "name": "stderr",
     "output_type": "stream",
     "text": [
      "\n",
      "100%|██████████| 1/1 [00:00<00:00,  3.25it/s]"
     ]
    },
    {
     "name": "stdout",
     "output_type": "stream",
     "text": [
      "eval mIoU of Head           0.447684\n",
      "Epoch 28 test Accuracy: 0.895368  Class avg mIOU: 0.447684   Inctance avg mIOU: 0.447684\n",
      "Best accuracy is: 0.89914\n",
      "Best class avg mIOU is: 0.44957\n",
      "Best inctance avg mIOU is: 0.44957\n",
      "Epoch 29 (29/50):\n",
      "Learning rate:0.000500\n",
      "BN momentum updated to: 0.050000\n"
     ]
    },
    {
     "name": "stderr",
     "output_type": "stream",
     "text": [
      "\n",
      "100%|██████████| 1/1 [00:00<00:00,  2.94it/s]"
     ]
    },
    {
     "name": "stdout",
     "output_type": "stream",
     "text": [
      "Train accuracy is: 0.39233\n"
     ]
    },
    {
     "name": "stderr",
     "output_type": "stream",
     "text": [
      "\n",
      "100%|██████████| 1/1 [00:00<00:00,  3.29it/s]"
     ]
    },
    {
     "name": "stdout",
     "output_type": "stream",
     "text": [
      "eval mIoU of Head           0.448172\n",
      "Epoch 29 test Accuracy: 0.896345  Class avg mIOU: 0.448172   Inctance avg mIOU: 0.448172\n",
      "Best accuracy is: 0.89914\n",
      "Best class avg mIOU is: 0.44957\n",
      "Best inctance avg mIOU is: 0.44957\n",
      "Epoch 30 (30/50):\n",
      "Learning rate:0.000500\n",
      "BN momentum updated to: 0.050000\n"
     ]
    },
    {
     "name": "stderr",
     "output_type": "stream",
     "text": [
      "\n",
      "100%|██████████| 1/1 [00:00<00:00,  2.83it/s]"
     ]
    },
    {
     "name": "stdout",
     "output_type": "stream",
     "text": [
      "Train accuracy is: 0.39166\n"
     ]
    },
    {
     "name": "stderr",
     "output_type": "stream",
     "text": [
      "\n",
      "100%|██████████| 1/1 [00:00<00:00,  3.25it/s]"
     ]
    },
    {
     "name": "stdout",
     "output_type": "stream",
     "text": [
      "eval mIoU of Head           0.448312\n",
      "Epoch 30 test Accuracy: 0.896624  Class avg mIOU: 0.448312   Inctance avg mIOU: 0.448312\n",
      "Best accuracy is: 0.89914\n",
      "Best class avg mIOU is: 0.44957\n",
      "Best inctance avg mIOU is: 0.44957\n",
      "Epoch 31 (31/50):\n",
      "Learning rate:0.000500\n",
      "BN momentum updated to: 0.050000\n"
     ]
    },
    {
     "name": "stderr",
     "output_type": "stream",
     "text": [
      "\n",
      "100%|██████████| 1/1 [00:00<00:00,  2.91it/s]"
     ]
    },
    {
     "name": "stdout",
     "output_type": "stream",
     "text": [
      "Train accuracy is: 0.39221\n"
     ]
    },
    {
     "name": "stderr",
     "output_type": "stream",
     "text": [
      "\n",
      "100%|██████████| 1/1 [00:00<00:00,  3.36it/s]"
     ]
    },
    {
     "name": "stdout",
     "output_type": "stream",
     "text": [
      "eval mIoU of Head           0.448765\n",
      "Epoch 31 test Accuracy: 0.897531  Class avg mIOU: 0.448765   Inctance avg mIOU: 0.448765\n",
      "Best accuracy is: 0.89914\n",
      "Best class avg mIOU is: 0.44957\n",
      "Best inctance avg mIOU is: 0.44957\n",
      "Epoch 32 (32/50):\n",
      "Learning rate:0.000500\n",
      "BN momentum updated to: 0.050000\n"
     ]
    },
    {
     "name": "stderr",
     "output_type": "stream",
     "text": [
      "\n",
      "100%|██████████| 1/1 [00:00<00:00,  2.78it/s]"
     ]
    },
    {
     "name": "stdout",
     "output_type": "stream",
     "text": [
      "Train accuracy is: 0.39154\n"
     ]
    },
    {
     "name": "stderr",
     "output_type": "stream",
     "text": [
      "\n",
      "100%|██████████| 1/1 [00:00<00:00,  3.17it/s]"
     ]
    },
    {
     "name": "stdout",
     "output_type": "stream",
     "text": [
      "eval mIoU of Head           0.448172\n",
      "Epoch 32 test Accuracy: 0.896345  Class avg mIOU: 0.448172   Inctance avg mIOU: 0.448172\n",
      "Best accuracy is: 0.89914\n",
      "Best class avg mIOU is: 0.44957\n",
      "Best inctance avg mIOU is: 0.44957\n",
      "Epoch 33 (33/50):\n",
      "Learning rate:0.000500\n",
      "BN momentum updated to: 0.050000\n"
     ]
    },
    {
     "name": "stderr",
     "output_type": "stream",
     "text": [
      "\n",
      "100%|██████████| 1/1 [00:00<00:00,  2.73it/s]"
     ]
    },
    {
     "name": "stdout",
     "output_type": "stream",
     "text": [
      "Train accuracy is: 0.39188\n"
     ]
    },
    {
     "name": "stderr",
     "output_type": "stream",
     "text": [
      "\n",
      "100%|██████████| 1/1 [00:00<00:00,  3.25it/s]"
     ]
    },
    {
     "name": "stdout",
     "output_type": "stream",
     "text": [
      "eval mIoU of Head           0.448103\n",
      "Epoch 33 test Accuracy: 0.896205  Class avg mIOU: 0.448103   Inctance avg mIOU: 0.448103\n",
      "Best accuracy is: 0.89914\n",
      "Best class avg mIOU is: 0.44957\n",
      "Best inctance avg mIOU is: 0.44957\n",
      "Epoch 34 (34/50):\n",
      "Learning rate:0.000500\n",
      "BN momentum updated to: 0.050000\n"
     ]
    },
    {
     "name": "stderr",
     "output_type": "stream",
     "text": [
      "\n",
      "100%|██████████| 1/1 [00:00<00:00,  2.78it/s]"
     ]
    },
    {
     "name": "stdout",
     "output_type": "stream",
     "text": [
      "Train accuracy is: 0.39313\n"
     ]
    },
    {
     "name": "stderr",
     "output_type": "stream",
     "text": [
      "\n",
      "100%|██████████| 1/1 [00:00<00:00,  3.27it/s]"
     ]
    },
    {
     "name": "stdout",
     "output_type": "stream",
     "text": [
      "eval mIoU of Head           0.448835\n",
      "Epoch 34 test Accuracy: 0.897670  Class avg mIOU: 0.448835   Inctance avg mIOU: 0.448835\n",
      "Best accuracy is: 0.89914\n",
      "Best class avg mIOU is: 0.44957\n",
      "Best inctance avg mIOU is: 0.44957\n",
      "Epoch 35 (35/50):\n",
      "Learning rate:0.000500\n",
      "BN momentum updated to: 0.050000\n"
     ]
    },
    {
     "name": "stderr",
     "output_type": "stream",
     "text": [
      "\n",
      "100%|██████████| 1/1 [00:00<00:00,  2.81it/s]"
     ]
    },
    {
     "name": "stdout",
     "output_type": "stream",
     "text": [
      "Train accuracy is: 0.39209\n"
     ]
    },
    {
     "name": "stderr",
     "output_type": "stream",
     "text": [
      "\n",
      "100%|██████████| 1/1 [00:00<00:00,  3.27it/s]"
     ]
    },
    {
     "name": "stdout",
     "output_type": "stream",
     "text": [
      "eval mIoU of Head           0.448382\n",
      "Epoch 35 test Accuracy: 0.896763  Class avg mIOU: 0.448382   Inctance avg mIOU: 0.448382\n",
      "Best accuracy is: 0.89914\n",
      "Best class avg mIOU is: 0.44957\n",
      "Best inctance avg mIOU is: 0.44957\n",
      "Epoch 36 (36/50):\n",
      "Learning rate:0.000500\n",
      "BN momentum updated to: 0.050000\n"
     ]
    },
    {
     "name": "stderr",
     "output_type": "stream",
     "text": [
      "\n",
      "100%|██████████| 1/1 [00:00<00:00,  2.83it/s]"
     ]
    },
    {
     "name": "stdout",
     "output_type": "stream",
     "text": [
      "Train accuracy is: 0.39246\n"
     ]
    },
    {
     "name": "stderr",
     "output_type": "stream",
     "text": [
      "\n",
      "100%|██████████| 1/1 [00:00<00:00,  3.24it/s]"
     ]
    },
    {
     "name": "stdout",
     "output_type": "stream",
     "text": [
      "eval mIoU of Head           0.449079\n",
      "Epoch 36 test Accuracy: 0.898158  Class avg mIOU: 0.449079   Inctance avg mIOU: 0.449079\n",
      "Best accuracy is: 0.89914\n",
      "Best class avg mIOU is: 0.44957\n",
      "Best inctance avg mIOU is: 0.44957\n",
      "Epoch 37 (37/50):\n",
      "Learning rate:0.000500\n",
      "BN momentum updated to: 0.050000\n"
     ]
    },
    {
     "name": "stderr",
     "output_type": "stream",
     "text": [
      "\n",
      "100%|██████████| 1/1 [00:00<00:00,  2.88it/s]"
     ]
    },
    {
     "name": "stdout",
     "output_type": "stream",
     "text": [
      "Train accuracy is: 0.39240\n"
     ]
    },
    {
     "name": "stderr",
     "output_type": "stream",
     "text": [
      "\n",
      "100%|██████████| 1/1 [00:00<00:00,  3.11it/s]"
     ]
    },
    {
     "name": "stdout",
     "output_type": "stream",
     "text": [
      "eval mIoU of Head           0.448486\n",
      "Epoch 37 test Accuracy: 0.896973  Class avg mIOU: 0.448486   Inctance avg mIOU: 0.448486\n",
      "Best accuracy is: 0.89914\n",
      "Best class avg mIOU is: 0.44957\n",
      "Best inctance avg mIOU is: 0.44957\n",
      "Epoch 38 (38/50):\n",
      "Learning rate:0.000500\n",
      "BN momentum updated to: 0.050000\n"
     ]
    },
    {
     "name": "stderr",
     "output_type": "stream",
     "text": [
      "\n",
      "100%|██████████| 1/1 [00:00<00:00,  2.86it/s]"
     ]
    },
    {
     "name": "stdout",
     "output_type": "stream",
     "text": [
      "Train accuracy is: 0.39261\n"
     ]
    },
    {
     "name": "stderr",
     "output_type": "stream",
     "text": [
      "\n",
      "100%|██████████| 1/1 [00:00<00:00,  3.27it/s]"
     ]
    },
    {
     "name": "stdout",
     "output_type": "stream",
     "text": [
      "eval mIoU of Head           0.448905\n",
      "Epoch 38 test Accuracy: 0.897810  Class avg mIOU: 0.448905   Inctance avg mIOU: 0.448905\n",
      "Best accuracy is: 0.89914\n",
      "Best class avg mIOU is: 0.44957\n",
      "Best inctance avg mIOU is: 0.44957\n",
      "Epoch 39 (39/50):\n",
      "Learning rate:0.000500\n",
      "BN momentum updated to: 0.050000\n"
     ]
    },
    {
     "name": "stderr",
     "output_type": "stream",
     "text": [
      "\n",
      "100%|██████████| 1/1 [00:00<00:00,  2.76it/s]"
     ]
    },
    {
     "name": "stdout",
     "output_type": "stream",
     "text": [
      "Train accuracy is: 0.39188\n"
     ]
    },
    {
     "name": "stderr",
     "output_type": "stream",
     "text": [
      "\n",
      "100%|██████████| 1/1 [00:00<00:00,  3.17it/s]"
     ]
    },
    {
     "name": "stdout",
     "output_type": "stream",
     "text": [
      "eval mIoU of Head           0.448451\n",
      "Epoch 39 test Accuracy: 0.896903  Class avg mIOU: 0.448451   Inctance avg mIOU: 0.448451\n",
      "Best accuracy is: 0.89914\n",
      "Best class avg mIOU is: 0.44957\n",
      "Best inctance avg mIOU is: 0.44957\n",
      "Epoch 40 (40/50):\n",
      "Learning rate:0.000500\n",
      "BN momentum updated to: 0.050000\n"
     ]
    },
    {
     "name": "stderr",
     "output_type": "stream",
     "text": [
      "\n",
      "100%|██████████| 1/1 [00:00<00:00,  2.87it/s]"
     ]
    },
    {
     "name": "stdout",
     "output_type": "stream",
     "text": [
      "Train accuracy is: 0.39215\n"
     ]
    },
    {
     "name": "stderr",
     "output_type": "stream",
     "text": [
      "\n",
      "100%|██████████| 1/1 [00:00<00:00,  3.27it/s]"
     ]
    },
    {
     "name": "stdout",
     "output_type": "stream",
     "text": [
      "eval mIoU of Head           0.448661\n",
      "Epoch 40 test Accuracy: 0.897321  Class avg mIOU: 0.448661   Inctance avg mIOU: 0.448661\n",
      "Best accuracy is: 0.89914\n",
      "Best class avg mIOU is: 0.44957\n",
      "Best inctance avg mIOU is: 0.44957\n",
      "Epoch 41 (41/50):\n",
      "Learning rate:0.000250\n",
      "BN momentum updated to: 0.025000\n"
     ]
    },
    {
     "name": "stderr",
     "output_type": "stream",
     "text": [
      "\n",
      "100%|██████████| 1/1 [00:00<00:00,  2.87it/s]"
     ]
    },
    {
     "name": "stdout",
     "output_type": "stream",
     "text": [
      "Train accuracy is: 0.39249\n"
     ]
    },
    {
     "name": "stderr",
     "output_type": "stream",
     "text": [
      "\n",
      "100%|██████████| 1/1 [00:00<00:00,  3.22it/s]"
     ]
    },
    {
     "name": "stdout",
     "output_type": "stream",
     "text": [
      "eval mIoU of Head           0.448103\n",
      "Epoch 41 test Accuracy: 0.896205  Class avg mIOU: 0.448103   Inctance avg mIOU: 0.448103\n",
      "Best accuracy is: 0.89914\n",
      "Best class avg mIOU is: 0.44957\n",
      "Best inctance avg mIOU is: 0.44957\n",
      "Epoch 42 (42/50):\n",
      "Learning rate:0.000250\n",
      "BN momentum updated to: 0.025000\n"
     ]
    },
    {
     "name": "stderr",
     "output_type": "stream",
     "text": [
      "\n",
      "100%|██████████| 1/1 [00:00<00:00,  2.87it/s]"
     ]
    },
    {
     "name": "stdout",
     "output_type": "stream",
     "text": [
      "Train accuracy is: 0.39313\n"
     ]
    },
    {
     "name": "stderr",
     "output_type": "stream",
     "text": [
      "\n",
      "100%|██████████| 1/1 [00:00<00:00,  3.25it/s]"
     ]
    },
    {
     "name": "stdout",
     "output_type": "stream",
     "text": [
      "eval mIoU of Head           0.449219\n",
      "Epoch 42 test Accuracy: 0.898438  Class avg mIOU: 0.449219   Inctance avg mIOU: 0.449219\n",
      "Best accuracy is: 0.89914\n",
      "Best class avg mIOU is: 0.44957\n",
      "Best inctance avg mIOU is: 0.44957\n",
      "Epoch 43 (43/50):\n",
      "Learning rate:0.000250\n",
      "BN momentum updated to: 0.025000\n"
     ]
    },
    {
     "name": "stderr",
     "output_type": "stream",
     "text": [
      "\n",
      "100%|██████████| 1/1 [00:00<00:00,  2.89it/s]"
     ]
    },
    {
     "name": "stdout",
     "output_type": "stream",
     "text": [
      "Train accuracy is: 0.39270\n"
     ]
    },
    {
     "name": "stderr",
     "output_type": "stream",
     "text": [
      "\n",
      "100%|██████████| 1/1 [00:00<00:00,  3.26it/s]\n"
     ]
    },
    {
     "name": "stdout",
     "output_type": "stream",
     "text": [
      "eval mIoU of Head           0.449812\n",
      "Epoch 43 test Accuracy: 0.899623  Class avg mIOU: 0.449812   Inctance avg mIOU: 0.449812\n",
      "Saving at log/part_seg/2021-08-11_14-37/checkpoints/best_model.pth\n",
      "Saving model....\n",
      "Best accuracy is: 0.89962\n",
      "Best class avg mIOU is: 0.44981\n",
      "Best inctance avg mIOU is: 0.44981\n",
      "Epoch 44 (44/50):\n",
      "Learning rate:0.000250\n",
      "BN momentum updated to: 0.025000\n"
     ]
    },
    {
     "name": "stderr",
     "output_type": "stream",
     "text": [
      "100%|██████████| 1/1 [00:00<00:00,  2.94it/s]"
     ]
    },
    {
     "name": "stdout",
     "output_type": "stream",
     "text": [
      "Train accuracy is: 0.39267\n"
     ]
    },
    {
     "name": "stderr",
     "output_type": "stream",
     "text": [
      "\n",
      "100%|██████████| 1/1 [00:00<00:00,  3.29it/s]"
     ]
    },
    {
     "name": "stdout",
     "output_type": "stream",
     "text": [
      "eval mIoU of Head           0.449009\n",
      "Epoch 44 test Accuracy: 0.898019  Class avg mIOU: 0.449009   Inctance avg mIOU: 0.449009\n",
      "Best accuracy is: 0.89962\n",
      "Best class avg mIOU is: 0.44981\n",
      "Best inctance avg mIOU is: 0.44981\n",
      "Epoch 45 (45/50):\n",
      "Learning rate:0.000250\n",
      "BN momentum updated to: 0.025000\n"
     ]
    },
    {
     "name": "stderr",
     "output_type": "stream",
     "text": [
      "\n",
      "100%|██████████| 1/1 [00:00<00:00,  2.80it/s]"
     ]
    },
    {
     "name": "stdout",
     "output_type": "stream",
     "text": [
      "Train accuracy is: 0.38843\n"
     ]
    },
    {
     "name": "stderr",
     "output_type": "stream",
     "text": [
      "\n",
      "100%|██████████| 1/1 [00:00<00:00,  3.33it/s]"
     ]
    },
    {
     "name": "stdout",
     "output_type": "stream",
     "text": [
      "eval mIoU of Head           0.448661\n",
      "Epoch 45 test Accuracy: 0.897321  Class avg mIOU: 0.448661   Inctance avg mIOU: 0.448661\n",
      "Best accuracy is: 0.89962\n",
      "Best class avg mIOU is: 0.44981\n",
      "Best inctance avg mIOU is: 0.44981\n",
      "Epoch 46 (46/50):\n",
      "Learning rate:0.000250\n",
      "BN momentum updated to: 0.025000\n"
     ]
    },
    {
     "name": "stderr",
     "output_type": "stream",
     "text": [
      "\n",
      "100%|██████████| 1/1 [00:00<00:00,  2.89it/s]"
     ]
    },
    {
     "name": "stdout",
     "output_type": "stream",
     "text": [
      "Train accuracy is: 0.39240\n"
     ]
    },
    {
     "name": "stderr",
     "output_type": "stream",
     "text": [
      "\n",
      "100%|██████████| 1/1 [00:00<00:00,  3.27it/s]"
     ]
    },
    {
     "name": "stdout",
     "output_type": "stream",
     "text": [
      "eval mIoU of Head           0.448940\n",
      "Epoch 46 test Accuracy: 0.897879  Class avg mIOU: 0.448940   Inctance avg mIOU: 0.448940\n",
      "Best accuracy is: 0.89962\n",
      "Best class avg mIOU is: 0.44981\n",
      "Best inctance avg mIOU is: 0.44981\n",
      "Epoch 47 (47/50):\n",
      "Learning rate:0.000250\n",
      "BN momentum updated to: 0.025000\n"
     ]
    },
    {
     "name": "stderr",
     "output_type": "stream",
     "text": [
      "\n",
      "100%|██████████| 1/1 [00:00<00:00,  2.97it/s]"
     ]
    },
    {
     "name": "stdout",
     "output_type": "stream",
     "text": [
      "Train accuracy is: 0.39450\n"
     ]
    },
    {
     "name": "stderr",
     "output_type": "stream",
     "text": [
      "\n",
      "100%|██████████| 1/1 [00:00<00:00,  3.34it/s]"
     ]
    },
    {
     "name": "stdout",
     "output_type": "stream",
     "text": [
      "eval mIoU of Head           0.449149\n",
      "Epoch 47 test Accuracy: 0.898298  Class avg mIOU: 0.449149   Inctance avg mIOU: 0.449149\n",
      "Best accuracy is: 0.89962\n",
      "Best class avg mIOU is: 0.44981\n",
      "Best inctance avg mIOU is: 0.44981\n",
      "Epoch 48 (48/50):\n",
      "Learning rate:0.000250\n",
      "BN momentum updated to: 0.025000\n"
     ]
    },
    {
     "name": "stderr",
     "output_type": "stream",
     "text": [
      "\n",
      "100%|██████████| 1/1 [00:00<00:00,  2.90it/s]"
     ]
    },
    {
     "name": "stdout",
     "output_type": "stream",
     "text": [
      "Train accuracy is: 0.39172\n"
     ]
    },
    {
     "name": "stderr",
     "output_type": "stream",
     "text": [
      "\n",
      "100%|██████████| 1/1 [00:00<00:00,  3.33it/s]"
     ]
    },
    {
     "name": "stdout",
     "output_type": "stream",
     "text": [
      "eval mIoU of Head           0.448451\n",
      "Epoch 48 test Accuracy: 0.896903  Class avg mIOU: 0.448451   Inctance avg mIOU: 0.448451\n",
      "Best accuracy is: 0.89962\n",
      "Best class avg mIOU is: 0.44981\n",
      "Best inctance avg mIOU is: 0.44981\n",
      "Epoch 49 (49/50):\n",
      "Learning rate:0.000250\n",
      "BN momentum updated to: 0.025000\n"
     ]
    },
    {
     "name": "stderr",
     "output_type": "stream",
     "text": [
      "\n",
      "100%|██████████| 1/1 [00:00<00:00,  2.86it/s]"
     ]
    },
    {
     "name": "stdout",
     "output_type": "stream",
     "text": [
      "Train accuracy is: 0.39029\n"
     ]
    },
    {
     "name": "stderr",
     "output_type": "stream",
     "text": [
      "\n",
      "100%|██████████| 1/1 [00:00<00:00,  3.19it/s]"
     ]
    },
    {
     "name": "stdout",
     "output_type": "stream",
     "text": [
      "eval mIoU of Head           0.448940\n",
      "Epoch 49 test Accuracy: 0.897879  Class avg mIOU: 0.448940   Inctance avg mIOU: 0.448940\n",
      "Best accuracy is: 0.89962\n",
      "Best class avg mIOU is: 0.44981\n",
      "Best inctance avg mIOU is: 0.44981\n",
      "Epoch 50 (50/50):\n",
      "Learning rate:0.000250\n",
      "BN momentum updated to: 0.025000\n"
     ]
    },
    {
     "name": "stderr",
     "output_type": "stream",
     "text": [
      "\n",
      "100%|██████████| 1/1 [00:00<00:00,  2.94it/s]"
     ]
    },
    {
     "name": "stdout",
     "output_type": "stream",
     "text": [
      "Train accuracy is: 0.39249\n"
     ]
    },
    {
     "name": "stderr",
     "output_type": "stream",
     "text": [
      "\n",
      "100%|██████████| 1/1 [00:00<00:00,  3.25it/s]"
     ]
    },
    {
     "name": "stdout",
     "output_type": "stream",
     "text": [
      "eval mIoU of Head           0.449463\n",
      "Epoch 50 test Accuracy: 0.898926  Class avg mIOU: 0.449463   Inctance avg mIOU: 0.449463\n",
      "Best accuracy is: 0.89962\n",
      "Best class avg mIOU is: 0.44981\n",
      "Best inctance avg mIOU is: 0.44981\n"
     ]
    },
    {
     "name": "stderr",
     "output_type": "stream",
     "text": [
      "\n"
     ]
    }
   ],
   "source": [
    "if __name__ == '__main__':\n",
    "    main(args)"
   ]
  },
  {
   "cell_type": "code",
   "execution_count": null,
   "id": "f0171cdc",
   "metadata": {},
   "outputs": [],
   "source": []
  }
 ],
 "metadata": {
  "kernelspec": {
   "display_name": "Python 3",
   "language": "python",
   "name": "python3"
  },
  "language_info": {
   "codemirror_mode": {
    "name": "ipython",
    "version": 3
   },
   "file_extension": ".py",
   "mimetype": "text/x-python",
   "name": "python",
   "nbconvert_exporter": "python",
   "pygments_lexer": "ipython3",
   "version": "3.7.11"
  }
 },
 "nbformat": 4,
 "nbformat_minor": 5
}
