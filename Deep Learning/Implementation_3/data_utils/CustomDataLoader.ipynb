{
 "cells": [
  {
   "cell_type": "code",
   "execution_count": 1,
   "metadata": {},
   "outputs": [],
   "source": [
    "import os\n",
    "import json\n",
    "import warnings\n",
    "import numpy as np\n",
    "import glob\n",
    "from torch.utils.data import Dataset\n",
    "\n",
    "import torch\n",
    "from tqdm import tqdm\n",
    "\n",
    "warnings.filterwarnings('ignore')"
   ]
  },
  {
   "cell_type": "code",
   "execution_count": 2,
   "metadata": {},
   "outputs": [],
   "source": [
    "def pc_normalize(pc):\n",
    "    centroid = np.mean(pc, axis=0)\n",
    "    pc = pc - centroid\n",
    "    m = np.max(np.sqrt(np.sum(pc ** 2, axis=1)))\n",
    "    pc = pc / m\n",
    "    return pc\n",
    "\n",
    "def drop_txt(data):\n",
    "    return map(lambda x: x.split('.')[0], data)"
   ]
  },
  {
   "cell_type": "code",
   "execution_count": 3,
   "metadata": {},
   "outputs": [],
   "source": [
    "class PartNormalDataset(Dataset):\n",
    "    def __init__(self, root = '/home/trojan/skia_projects/3d_facial_segmentation/part_segmentation/pointnet/Pointnet_Pointnet2_pytorch/data/shapenetcore_partanno_segmentation_benchmark_v0_normal',\n",
    "                 npoints=2500, split='train', class_choice=None, normal_channel=False):\n",
    "\n",
    "        self.npoints = npoints\n",
    "        self.root = root\n",
    "        self.catfile = os.path.join(self.root, 'synsetoffset2category.txt')\n",
    "        self.cat = {}\n",
    "        self.normal_channel = normal_channel\n",
    "    \n",
    "\n",
    "        with open(self.catfile, 'r') as f:\n",
    "            for line in f:\n",
    "                ls = line.strip().split()\n",
    "                self.cat[ls[0]] = ls[1]\n",
    "        self.cat = {k: v for k, v in self.cat.items()}\n",
    "        self.classes_original = dict(zip(self.cat, range(len(self.cat))))\n",
    "\n",
    "        if not class_choice is  None:\n",
    "            self.cat = {k:v for k,v in self.cat.items() if k in class_choice}\n",
    "\n",
    "        self.meta = {}\n",
    "\n",
    "        for item, key in self.cat.items():\n",
    "            train_ids = [ids for ids in os.listdir(os.path.join(self.root, key))]\n",
    "            test_ids = [ids for ids in os.listdir(os.path.join(root, 'test', key))]\n",
    "        vf = np.vectorize(drop_txt)\n",
    "        train_ids = list(drop_txt(train_ids))\n",
    "        test_ids = list(drop_txt(test_ids))\n",
    "        \n",
    "        for item in self.cat:        \n",
    "            self.meta[item] = []\n",
    "            dir_point = os.path.join(self.root, self.cat[item])\n",
    "            fns = sorted(os.listdir(dir_point))\n",
    "            #print(fns[0][0:-4])\n",
    "            if split == 'trainval':\n",
    "                fns = [fn for fn in fns if ((fn[0:-4] in train_ids) or (fn[0:-4] in val_ids))]\n",
    "            elif split == 'train':\n",
    "                fns = [fn for fn in fns if fn[0:-4] in train_ids]\n",
    "            elif split == 'val':\n",
    "                fns = [fn for fn in fns if fn[0:-4] in val_ids]\n",
    "            elif split == 'test':\n",
    "                fns = [fn for fn in fns if fn[0:-4] in test_ids]\n",
    "            else:\n",
    "                print('Unknown split: %s. Exiting..' % (split))\n",
    "                exit(-1)\n",
    "\n",
    "            #print(os.path.basename(fns))\n",
    "\n",
    "            for fn in fns:\n",
    "                token = (os.path.splitext(os.path.basename(fn))[0])\n",
    "                self.meta[item].append(os.path.join(dir_point, token + '.txt'))\n",
    "                \n",
    "        self.datapath = []\n",
    "        for item in self.cat:\n",
    "            for fn in self.meta[item]:\n",
    "                self.datapath.append((item, fn))\n",
    "                \n",
    "        self.classes = {}\n",
    "        for i in self.cat.keys():\n",
    "            self.classes[i] = self.classes_original[i]\n",
    "            \n",
    "        # Mapping from category ('Chair') to a list of int [10,11,12,13] as segmentation labels\n",
    "        self.seg_classes = {'Head': [0, 1]}\n",
    "        \n",
    "        self.cache = {}  # from index to (point_set, cls, seg) tuple\n",
    "        self.cache_size = 20000\n",
    "        \n",
    "    def __getitem__(self, index):\n",
    "        if index in self.cache:\n",
    "            point_set, cls, seg = self.cache[index]\n",
    "        else:\n",
    "            fn = self.datapath[index]\n",
    "            cat = self.datapath[index][0]\n",
    "            cls = self.classes[cat]\n",
    "            cls = np.array([cls]).astype(np.int32)\n",
    "            data = np.loadtxt(fn[1]).astype(np.float32)\n",
    "            if not self.normal_channel:\n",
    "                point_set = data[:, 0:3]\n",
    "            else:\n",
    "                point_set = data[:, 0:6]\n",
    "            seg = data[:, -1].astype(np.int32)\n",
    "            if len(self.cache) < self.cache_size:\n",
    "                self.cache[index] = (point_set, cls, seg)\n",
    "        point_set[:, 0:3] = pc_normalize(point_set[:, 0:3])\n",
    "\n",
    "        choice = np.random.choice(len(seg), self.npoints, replace=True)\n",
    "        # resample\n",
    "        point_set = point_set[choice, :]\n",
    "        seg = seg[choice]\n",
    "\n",
    "        return point_set, cls, seg\n",
    "\n",
    "    def __len__(self):\n",
    "        return len(self.datapath)"
   ]
  },
  {
   "cell_type": "code",
   "execution_count": 4,
   "metadata": {},
   "outputs": [
    {
     "name": "stdout",
     "output_type": "stream",
     "text": [
      "7\n",
      "(array([[ 0.7142667 ,  0.07972781, -0.2659704 ],\n",
      "       [-0.5326063 ,  0.15382417,  0.04819732],\n",
      "       [-0.6114441 ,  0.03096045, -0.2676457 ],\n",
      "       ...,\n",
      "       [ 0.5904809 ,  0.5934915 , -0.11325149],\n",
      "       [-0.5672799 ,  0.37462994, -0.22587913],\n",
      "       [-0.5232232 ,  0.1713377 , -0.22329703]], dtype=float32), array([0], dtype=int32), array([1, 0, 1, ..., 0, 0, 1], dtype=int32))\n"
     ]
    }
   ],
   "source": [
    "if __name__ == '__main__':\n",
    "    d = PartNormalDataset(root = '../data/shapenetcore_partanno_segmentation_benchmark_v0_normal', class_choice = ['Head'], split='train')\n",
    "    print(len(d))\n",
    "    import time\n",
    "    tic = time.time()\n",
    "    for i in range(len(d)):\n",
    "        ps = d[i]\n",
    "        print(ps)\n",
    "        break"
   ]
  },
  {
   "cell_type": "code",
   "execution_count": 5,
   "metadata": {},
   "outputs": [
    {
     "name": "stdout",
     "output_type": "stream",
     "text": [
      "1\n",
      "(array([[-0.55224854,  0.60305905,  0.03000754],\n",
      "       [ 0.5641298 ,  0.5625988 , -0.30063632],\n",
      "       [ 0.44821313, -0.11348973,  0.40852737],\n",
      "       ...,\n",
      "       [ 0.18066105, -0.47427318,  0.41853294],\n",
      "       [ 0.31120953, -0.08510997,  0.5049632 ],\n",
      "       [ 0.5457173 ,  0.19242461,  0.23672721]], dtype=float32), array([0], dtype=int32), array([0, 0, 0, ..., 0, 0, 0], dtype=int32))\n"
     ]
    }
   ],
   "source": [
    "if __name__ == '__main__':\n",
    "    d = PartNormalDataset(root = '../data/shapenetcore_partanno_segmentation_benchmark_v0_normal', class_choice = ['Head'], split='test')\n",
    "    print(len(d))\n",
    "    import time\n",
    "    tic = time.time()\n",
    "    for i in range(len(d)):\n",
    "        ps = d[i]\n",
    "        print(ps)\n",
    "        break"
   ]
  },
  {
   "cell_type": "code",
   "execution_count": null,
   "metadata": {},
   "outputs": [],
   "source": []
  }
 ],
 "metadata": {
  "kernelspec": {
   "display_name": "Python 3",
   "language": "python",
   "name": "python3"
  },
  "language_info": {
   "codemirror_mode": {
    "name": "ipython",
    "version": 3
   },
   "file_extension": ".py",
   "mimetype": "text/x-python",
   "name": "python",
   "nbconvert_exporter": "python",
   "pygments_lexer": "ipython3",
   "version": "3.8.5"
  }
 },
 "nbformat": 4,
 "nbformat_minor": 5
}
