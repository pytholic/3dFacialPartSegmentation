{
 "cells": [
  {
   "cell_type": "code",
   "execution_count": 10,
   "id": "1f5b8368",
   "metadata": {},
   "outputs": [],
   "source": [
    "import os\n",
    "import json\n",
    "import warnings\n",
    "import numpy as np\n",
    "import glob\n",
    "from torch.utils.data import Dataset\n",
    "warnings.filterwarnings('ignore')"
   ]
  },
  {
   "cell_type": "code",
   "execution_count": 11,
   "id": "f1cd53f8",
   "metadata": {},
   "outputs": [],
   "source": [
    "def pc_normalize(pc):\n",
    "    centroid = np.mean(pc, axis=0)\n",
    "    pc = pc - centroid\n",
    "    m = np.max(np.sqrt(np.sum(pc ** 2, axis=1)))\n",
    "    pc = pc / m\n",
    "    return pc\n",
    "\n",
    "def drop_txt(data):\n",
    "    return map(lambda x: x.split('.')[0], data)"
   ]
  },
  {
   "cell_type": "code",
   "execution_count": 29,
   "id": "5752268b",
   "metadata": {},
   "outputs": [
    {
     "name": "stdout",
     "output_type": "stream",
     "text": [
      "{'Head': '02691156'}\n"
     ]
    }
   ],
   "source": [
    "root = '/home/trojan/skia_projects/3d_facial_segmentation/part_segmentation/pointnet/Pointnet_Pointnet2_pytorch/data/shapenetcore_partanno_segmentation_benchmark_v0_normal'\n",
    "npoints=2500 \n",
    "split='train'\n",
    "class_choice=None\n",
    "normal_channel=False\n",
    "    \n",
    "npoints = npoints\n",
    "root = root\n",
    "catfile = os.path.join(root, 'synsetoffset2category.txt')\n",
    "cat = {}\n",
    "normal_channel = normal_channel\n",
    "\n",
    "with open(catfile, 'r') as f:\n",
    "    for line in f:\n",
    "        ls = line.strip().split()\n",
    "        cat[ls[0]] = ls[1]\n",
    "cat = {k: v for k, v in cat.items()}\n",
    "classes_original = dict(zip(cat, range(len(cat))))\n",
    "\n",
    "if not class_choice is  None:\n",
    "    cat = {k:v for k,v in cat.items() if k in class_choice}\n",
    "\n",
    "print(cat)"
   ]
  },
  {
   "cell_type": "code",
   "execution_count": 30,
   "id": "60916cb2",
   "metadata": {},
   "outputs": [
    {
     "name": "stdout",
     "output_type": "stream",
     "text": [
      "['5', '2', '1', '6', '3', '7', '4']\n",
      "['1']\n"
     ]
    }
   ],
   "source": [
    "meta = {}\n",
    "\n",
    "for item, key in cat.items():\n",
    "    train_ids = [ids for ids in os.listdir(os.path.join(root, key))]\n",
    "    test_ids = [ids for ids in os.listdir(os.path.join(root, 'test', key))]\n",
    "\n",
    "vf = np.vectorize(drop_txt)\n",
    "train_ids = list(drop_txt(train_ids))\n",
    "test_ids = list(drop_txt(test_ids))\n",
    "print(train_ids)\n",
    "print(test_ids)"
   ]
  },
  {
   "cell_type": "code",
   "execution_count": 31,
   "id": "d89403a4",
   "metadata": {},
   "outputs": [
    {
     "name": "stdout",
     "output_type": "stream",
     "text": [
      "['1.txt']\n"
     ]
    }
   ],
   "source": [
    "# for item in cat:        \n",
    "#     meta[item] = []\n",
    "#     dir_point = os.path.join(root, cat[item])\n",
    "#     fns = sorted(os.listdir(dir_point))\n",
    "#     fns = [fn for fn in fns if fn[0:-4] in test_ids]\n",
    "#     print(fns)"
   ]
  },
  {
   "cell_type": "code",
   "execution_count": null,
   "id": "48c06e4a",
   "metadata": {},
   "outputs": [],
   "source": [
    "for item in cat:        \n",
    "    meta[item] = []\n",
    "    dir_point = os.path.join(root, cat[item])\n",
    "    fns = sorted(os.listdir(dir_point))\n",
    "    print(fns[0][0:-4])\n",
    "    if split == 'trainval':\n",
    "        fns = [fn for fn in fns if ((fn[0:-4] in train_ids) or (fn[0:-4] in val_ids))]\n",
    "    elif split == 'train':\n",
    "        fns = [fn for fn in fns if fn[0:-4] in train_ids]\n",
    "    elif split == 'val':\n",
    "        fns = [fn for fn in fns if fn[0:-4] in val_ids]\n",
    "    elif split == 'test':\n",
    "        fns = [fn for fn in fns if fn[0:-4] in test_ids]\n",
    "    else:\n",
    "        print('Unknown split: %s. Exiting..' % (split))\n",
    "        exit(-1)\n",
    "\n",
    "    #print(os.path.basename(fns))\n",
    "    \n",
    "    for fn in fns:\n",
    "        token = (os.path.splitext(os.path.basename(fn))[0])\n",
    "        meta[item].append(os.path.join(dir_point, token + '.txt'))"
   ]
  },
  {
   "cell_type": "code",
   "execution_count": null,
   "id": "83b85dce",
   "metadata": {},
   "outputs": [],
   "source": [
    "datapath = []\n",
    "for item in cat:\n",
    "    for fn in meta[item]:\n",
    "        datapath.append((item, fn))\n",
    "        \n",
    "print(datapath)"
   ]
  },
  {
   "cell_type": "code",
   "execution_count": null,
   "id": "67f50332",
   "metadata": {},
   "outputs": [],
   "source": [
    "classes = {}\n",
    "for i in cat.keys():\n",
    "    classes[i] = classes_original[i]\n",
    "    \n",
    "print(classes)"
   ]
  },
  {
   "cell_type": "code",
   "execution_count": null,
   "id": "f825450f",
   "metadata": {},
   "outputs": [],
   "source": [
    "# Mapping from category ('Chair') to a list of int [10,11,12,13] as segmentation labels\n",
    "seg_classes = {'Head': [0, 1]}"
   ]
  },
  {
   "cell_type": "code",
   "execution_count": null,
   "id": "e1562cf2",
   "metadata": {},
   "outputs": [],
   "source": [
    "for cat in sorted(seg_classes.keys()):\n",
    "    print(cat, seg_classes[cat])"
   ]
  },
  {
   "cell_type": "code",
   "execution_count": null,
   "id": "595d9825",
   "metadata": {},
   "outputs": [],
   "source": [
    "cache = {}  # from index to (point_set, cls, seg) tuple\n",
    "cache_size = 20000"
   ]
  },
  {
   "cell_type": "code",
   "execution_count": null,
   "id": "48112b7d",
   "metadata": {},
   "outputs": [],
   "source": [
    "##############################################################"
   ]
  },
  {
   "cell_type": "code",
   "execution_count": null,
   "id": "2211a6d8",
   "metadata": {},
   "outputs": [],
   "source": [
    "def __getitem__(self, index):\n",
    "    if index in self.cache:\n",
    "        point_set, cls, seg = self.cache[index]\n",
    "    else:\n",
    "        fn = self.datapath[index]\n",
    "        cat = self.datapath[index][0]\n",
    "        cls = self.classes[cat]\n",
    "        cls = np.array([cls]).astype(np.int32)\n",
    "        data = np.loadtxt(fn[1]).astype(np.float32)\n",
    "        if not self.normal_channel:\n",
    "            point_set = data[:, 0:3]\n",
    "        else:\n",
    "            point_set = data[:, 0:6]\n",
    "        seg = data[:, -1].astype(np.int32)\n",
    "        if len(self.cache) < self.cache_size:\n",
    "            self.cache[index] = (point_set, cls, seg)\n",
    "    point_set[:, 0:3] = pc_normalize(point_set[:, 0:3])\n",
    "\n",
    "    choice = np.random.choice(len(seg), self.npoints, replace=True)\n",
    "    # resample\n",
    "    point_set = point_set[choice, :]\n",
    "    seg = seg[choice]\n",
    "\n",
    "    return point_set, cls, seg"
   ]
  },
  {
   "cell_type": "code",
   "execution_count": null,
   "id": "a4962c17",
   "metadata": {},
   "outputs": [],
   "source": [
    "def __len__(self):\n",
    "    return len(self.datapath)"
   ]
  },
  {
   "cell_type": "code",
   "execution_count": null,
   "id": "629b8c6e",
   "metadata": {},
   "outputs": [],
   "source": [
    "d = PartDataset(root = '../data/shapenetcore_partanno_segmentation_benchmark_v0', class_choice = ['Head'], split='train')\n",
    "print(len(d))\n",
    "import time\n",
    "tic = time.time()\n",
    "for i in range(len(d)):\n",
    "    ps, seg = d[i]\n",
    "    print (np.max(seg), np.min(seg))\n",
    "print(time.time() - tic)\n",
    "print(ps.shape, type(ps), seg.shape,type(seg))\n",
    "\n",
    "d = PartDataset(root = '../data/shapenetcore_partanno_segmentation_benchmark_v0', classification = True)\n",
    "print(len(d))\n",
    "ps, cls = d[0]\n",
    "print(ps.shape, type(ps), cls.shape,type(cls))"
   ]
  },
  {
   "cell_type": "code",
   "execution_count": null,
   "id": "fb76791f",
   "metadata": {},
   "outputs": [],
   "source": []
  },
  {
   "cell_type": "code",
   "execution_count": null,
   "id": "4663891a",
   "metadata": {},
   "outputs": [],
   "source": []
  },
  {
   "cell_type": "code",
   "execution_count": null,
   "id": "6ee73c48",
   "metadata": {},
   "outputs": [],
   "source": []
  }
 ],
 "metadata": {
  "kernelspec": {
   "display_name": "Python 3",
   "language": "python",
   "name": "python3"
  },
  "language_info": {
   "codemirror_mode": {
    "name": "ipython",
    "version": 3
   },
   "file_extension": ".py",
   "mimetype": "text/x-python",
   "name": "python",
   "nbconvert_exporter": "python",
   "pygments_lexer": "ipython3",
   "version": "3.7.11"
  }
 },
 "nbformat": 4,
 "nbformat_minor": 5
}
