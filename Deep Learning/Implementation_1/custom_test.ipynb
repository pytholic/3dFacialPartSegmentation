{
 "cells": [
  {
   "cell_type": "code",
   "execution_count": 15,
   "id": "ece3c0ea",
   "metadata": {},
   "outputs": [],
   "source": [
    "from __future__ import print_function, division\n",
    "\n",
    "import plotly.graph_objects as go\n",
    "import numpy as np\n",
    "import scipy.spatial.distance\n",
    "import math\n",
    "import random\n",
    "#from source import utils\n",
    "\n",
    "import os\n",
    "import glob\n",
    "import torch\n",
    "import pandas as pd\n",
    "from skimage import io, transform\n",
    "import numpy as np\n",
    "import matplotlib.pyplot as plt\n",
    "from torch.utils.data import Dataset, DataLoader\n",
    "from torchvision import transforms, utils\n",
    "from torch.utils.data.dataset import random_split"
   ]
  },
  {
   "cell_type": "code",
   "execution_count": 16,
   "id": "eb583ddf",
   "metadata": {},
   "outputs": [],
   "source": [
    "import random\n",
    "\n",
    "def read_pts(file):\n",
    "    verts = np.genfromtxt(file)\n",
    "    #return utils.cent_norm(verts)\n",
    "    return verts\n",
    "\n",
    "def read_seg(file):\n",
    "    verts = np.genfromtxt(file, dtype= (int))\n",
    "    return verts\n",
    "\n",
    "def sample_2000(pts, pts_cat):    \n",
    "    res1 = np.concatenate((pts,np.reshape(pts_cat, (pts_cat.shape[0], 1))), axis= 1)\n",
    "    res = np.asarray(random.choices(res1, weights=None, cum_weights=None, k=2000))\n",
    "    images = res[:, 0:3]\n",
    "    categories = res[:, 3]\n",
    "    categories-=np.ones(categories.shape)\n",
    "    return images, categories\n",
    "\n",
    "def read_data(file):\n",
    "    data = np.genfromtxt(file).astype(np.float64)\n",
    "    img = data[:, 0:3]\n",
    "    seg = data[:, -1].astype(np.int64)\n",
    "    return img, seg\n",
    "\n",
    "def Normalize(pointcloud):\n",
    "    norm_pointcloud = pointcloud - np.mean(pointcloud, axis=0)\n",
    "    norm_pointcloud /= np.max(np.linalg.norm(norm_pointcloud, axis=1))\n",
    "\n",
    "    return  norm_pointcloud\n",
    "\n",
    "class RandRotation_z(object):\n",
    "    def __call__(self, pointcloud):\n",
    "        assert len(pointcloud.shape)==2\n",
    "\n",
    "        theta = random.random() * 2. * math.pi\n",
    "        rot_matrix = np.array([[ math.cos(theta), -math.sin(theta),    0],\n",
    "                               [ math.sin(theta),  math.cos(theta),    0],\n",
    "                               [0,                             0,      1]])\n",
    "        \n",
    "        rot_pointcloud = rot_matrix.dot(pointcloud.T).T\n",
    "        return  rot_pointcloud\n",
    "    \n",
    "class Random_Noise(object):\n",
    "    def __call__(self, pointcloud):\n",
    "        assert len(pointcloud.shape)==2\n",
    "\n",
    "        noise = np.random.normal(0, 0.02, (pointcloud.shape))\n",
    "    \n",
    "        noisy_pointcloud = pointcloud + noise\n",
    "        return  noisy_pointcloud\n",
    "    \n",
    "    \n",
    "def rotation_z(pointcloud, theta):\n",
    "    rot_matrix = np.array([[ math.cos(theta), -math.sin(theta), 0],\n",
    "                               [ math.sin(theta),  math.cos(theta), 0],\n",
    "                               [0, 0, 1]])\n",
    "        \n",
    "    rot_pointcloud = rot_matrix.dot(pointcloud.T).T\n",
    "    return  rot_pointcloud\n",
    "\n",
    "def random_noise(pointcloud):\n",
    "    noise = np.random.normal(0, 0.02, (pointcloud.shape))\n",
    "    \n",
    "    noisy_pointcloud = pointcloud + noise\n",
    "    return  noisy_pointcloud"
   ]
  },
  {
   "cell_type": "code",
   "execution_count": 17,
   "id": "8d73ae18",
   "metadata": {},
   "outputs": [],
   "source": [
    "root_dir = '/home/trojan/skia_projects/3d_facial_segmentation/part_segmentation/pointnet/pointnet'\n",
    "files = []\n",
    "valid = False"
   ]
  },
  {
   "cell_type": "code",
   "execution_count": 18,
   "id": "64896918",
   "metadata": {},
   "outputs": [],
   "source": [
    "newdir = root_dir + '/datasets/head_data/train/'"
   ]
  },
  {
   "cell_type": "code",
   "execution_count": 19,
   "id": "bb73ff9f",
   "metadata": {},
   "outputs": [],
   "source": [
    "for file in os.listdir(newdir):\n",
    "    o = {}\n",
    "    o['path'] = newdir + file\n",
    "    files.append(o)"
   ]
  },
  {
   "cell_type": "code",
   "execution_count": 20,
   "id": "e4de5b46",
   "metadata": {},
   "outputs": [
    {
     "name": "stdout",
     "output_type": "stream",
     "text": [
      "[{'path': '/home/trojan/skia_projects/3d_facial_segmentation/part_segmentation/pointnet/pointnet/datasets/head_data/train/5.txt'}, {'path': '/home/trojan/skia_projects/3d_facial_segmentation/part_segmentation/pointnet/pointnet/datasets/head_data/train/2.txt'}, {'path': '/home/trojan/skia_projects/3d_facial_segmentation/part_segmentation/pointnet/pointnet/datasets/head_data/train/1.txt'}, {'path': '/home/trojan/skia_projects/3d_facial_segmentation/part_segmentation/pointnet/pointnet/datasets/head_data/train/6.txt'}, {'path': '/home/trojan/skia_projects/3d_facial_segmentation/part_segmentation/pointnet/pointnet/datasets/head_data/train/3.txt'}, {'path': '/home/trojan/skia_projects/3d_facial_segmentation/part_segmentation/pointnet/pointnet/datasets/head_data/train/7.txt'}, {'path': '/home/trojan/skia_projects/3d_facial_segmentation/part_segmentation/pointnet/pointnet/datasets/head_data/train/4.txt'}]\n"
     ]
    }
   ],
   "source": [
    "print(files)"
   ]
  },
  {
   "cell_type": "code",
   "execution_count": 21,
   "id": "83d80a13",
   "metadata": {},
   "outputs": [],
   "source": [
    "idx = 0\n",
    "\n",
    "path = files[idx]['path']\n",
    "\n",
    "with open(path, 'r') as f:\n",
    "    image1, category1 = read_data(f)"
   ]
  },
  {
   "cell_type": "code",
   "execution_count": 22,
   "id": "c1d38eb8",
   "metadata": {},
   "outputs": [
    {
     "name": "stdout",
     "output_type": "stream",
     "text": [
      "[[-9.81000e-03  0.00000e+00  1.44000e-04]\n",
      " [-1.62160e-02  0.00000e+00  1.44000e-04]\n",
      " [-2.90280e-02 -4.29000e-04  2.72000e-04]\n",
      " ...\n",
      " [-1.03814e-01  2.17127e-01  1.77469e-01]\n",
      " [-9.80260e-02  2.17264e-01  1.78167e-01]\n",
      " [-9.45360e-02  2.17177e-01  1.75970e-01]]\n"
     ]
    }
   ],
   "source": [
    "print(image1)"
   ]
  },
  {
   "cell_type": "code",
   "execution_count": 23,
   "id": "03716f7a",
   "metadata": {},
   "outputs": [
    {
     "name": "stdout",
     "output_type": "stream",
     "text": [
      "[0 0 0 ... 1 1 1]\n"
     ]
    }
   ],
   "source": [
    "print(category1)"
   ]
  },
  {
   "cell_type": "code",
   "execution_count": 24,
   "id": "0318da86",
   "metadata": {},
   "outputs": [
    {
     "name": "stdout",
     "output_type": "stream",
     "text": [
      "float64 int64\n"
     ]
    }
   ],
   "source": [
    "print(image1.dtype, category1.dtype)"
   ]
  },
  {
   "cell_type": "code",
   "execution_count": 25,
   "id": "dbbb071a",
   "metadata": {},
   "outputs": [],
   "source": [
    "choice = np.random.choice(len(category1), 2000, replace=True)\n",
    "\n",
    "image2 = image1[choice, :]\n",
    "category2 = category1[choice]"
   ]
  },
  {
   "cell_type": "code",
   "execution_count": 27,
   "id": "af674d24",
   "metadata": {},
   "outputs": [
    {
     "name": "stdout",
     "output_type": "stream",
     "text": [
      "2000\n"
     ]
    }
   ],
   "source": [
    "print(len(image2))"
   ]
  },
  {
   "cell_type": "code",
   "execution_count": 28,
   "id": "86ef2cb8",
   "metadata": {},
   "outputs": [
    {
     "name": "stdout",
     "output_type": "stream",
     "text": [
      "[[-8.26600e-02  1.80292e-01  1.82550e-01]\n",
      " [-1.16793e-01  1.76669e-01  1.84939e-01]\n",
      " [-1.25800e-01  1.79730e-01  1.74277e-01]\n",
      " ...\n",
      " [-1.18115e-01  1.64011e-01  1.57000e-04]\n",
      " [-5.98790e-02  2.26690e-02  1.07439e-01]\n",
      " [-1.84860e-01  1.70200e-02  1.16408e-01]]\n"
     ]
    }
   ],
   "source": [
    "print(image2)"
   ]
  },
  {
   "cell_type": "code",
   "execution_count": 29,
   "id": "a0079368",
   "metadata": {},
   "outputs": [
    {
     "name": "stdout",
     "output_type": "stream",
     "text": [
      "[0 0 0 ... 0 0 0]\n"
     ]
    }
   ],
   "source": [
    "print(category2)"
   ]
  },
  {
   "cell_type": "code",
   "execution_count": 30,
   "id": "d42b58ff",
   "metadata": {},
   "outputs": [],
   "source": [
    "image2 = Normalize(image2)"
   ]
  },
  {
   "cell_type": "code",
   "execution_count": 31,
   "id": "f27caeb4",
   "metadata": {},
   "outputs": [
    {
     "name": "stdout",
     "output_type": "stream",
     "text": [
      "[[ 0.11116547  0.19294254  0.47664963]\n",
      " [-0.06354444  0.1743982   0.48887774]\n",
      " [-0.1096468   0.19006594  0.43430424]\n",
      " ...\n",
      " [-0.0703111   0.10960817 -0.45692974]\n",
      " [ 0.22777012 -0.61385148  0.09219365]\n",
      " [-0.41194567 -0.64276591  0.13810151]]\n"
     ]
    }
   ],
   "source": [
    "print(image2)"
   ]
  },
  {
   "cell_type": "code",
   "execution_count": 11,
   "id": "a662b022",
   "metadata": {},
   "outputs": [],
   "source": [
    "#image2, category2 = sample_2000(image1, category1)"
   ]
  },
  {
   "cell_type": "code",
   "execution_count": 12,
   "id": "375401ee",
   "metadata": {},
   "outputs": [
    {
     "name": "stdout",
     "output_type": "stream",
     "text": [
      "9604 2000\n"
     ]
    }
   ],
   "source": [
    "print(len(image1), len(image2))"
   ]
  },
  {
   "cell_type": "code",
   "execution_count": 13,
   "id": "f7349114",
   "metadata": {},
   "outputs": [
    {
     "name": "stdout",
     "output_type": "stream",
     "text": [
      "[[-0.166637  0.168667  0.1531  ]\n",
      " [-0.168579  0.23178   0.140632]\n",
      " [-0.02577   0.180386  0.08828 ]\n",
      " ...\n",
      " [-0.078934  0.185817  0.174333]\n",
      " [-0.058219  0.104055  0.10099 ]\n",
      " [-0.060466  0.245283  0.162692]]\n"
     ]
    }
   ],
   "source": [
    "print(image2)"
   ]
  },
  {
   "cell_type": "code",
   "execution_count": 14,
   "id": "5fa4d786",
   "metadata": {},
   "outputs": [
    {
     "name": "stdout",
     "output_type": "stream",
     "text": [
      "[-1. -1. -1. ... -1. -1. -1.]\n"
     ]
    }
   ],
   "source": [
    "print(category2)"
   ]
  },
  {
   "cell_type": "code",
   "execution_count": 14,
   "id": "ddbd9d3e",
   "metadata": {},
   "outputs": [],
   "source": [
    "image2 = Normalize(image2)"
   ]
  },
  {
   "cell_type": "code",
   "execution_count": 16,
   "id": "115cf96b",
   "metadata": {},
   "outputs": [
    {
     "name": "stdout",
     "output_type": "stream",
     "text": [
      "[[ 0.51744725 -0.42873993  0.0099299 ]\n",
      " [ 0.4096007  -0.40612538 -0.14602598]\n",
      " [-0.02920494 -0.63245912  0.08406328]\n",
      " ...\n",
      " [ 0.16526285 -0.72172653  0.14078283]\n",
      " [ 0.35254528 -0.02737245  0.01112068]\n",
      " [-0.36037267  0.21931641  0.27673472]]\n"
     ]
    }
   ],
   "source": [
    "print(image2)"
   ]
  },
  {
   "cell_type": "code",
   "execution_count": 19,
   "id": "388a51e3",
   "metadata": {},
   "outputs": [],
   "source": [
    "theta = random.random()*360\n",
    "image2 = rotation_z(random_noise(image2), theta)"
   ]
  },
  {
   "cell_type": "code",
   "execution_count": 20,
   "id": "b84efe42",
   "metadata": {},
   "outputs": [
    {
     "name": "stdout",
     "output_type": "stream",
     "text": [
      "[[ 0.56764485 -0.4147299   0.00469288]\n",
      " [ 0.46864284 -0.36729814 -0.15594394]\n",
      " [ 0.05250278 -0.63332298  0.06444678]\n",
      " ...\n",
      " [ 0.25924973 -0.64278727  0.09180772]\n",
      " [ 0.35572691  0.00112504 -0.03036878]\n",
      " [-0.40465991  0.18754191  0.28532905]]\n"
     ]
    }
   ],
   "source": [
    "print(image2)"
   ]
  },
  {
   "cell_type": "code",
   "execution_count": null,
   "id": "a0540b18",
   "metadata": {},
   "outputs": [],
   "source": []
  }
 ],
 "metadata": {
  "kernelspec": {
   "display_name": "Python 3",
   "language": "python",
   "name": "python3"
  },
  "language_info": {
   "codemirror_mode": {
    "name": "ipython",
    "version": 3
   },
   "file_extension": ".py",
   "mimetype": "text/x-python",
   "name": "python",
   "nbconvert_exporter": "python",
   "pygments_lexer": "ipython3",
   "version": "3.7.11"
  }
 },
 "nbformat": 4,
 "nbformat_minor": 5
}
